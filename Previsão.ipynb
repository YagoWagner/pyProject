{
 "cells": [
  {
   "attachments": {},
   "cell_type": "markdown",
   "metadata": {},
   "source": [
    "# Previsão e análise da taxa de produto de vendas"
   ]
  },
  {
   "attachments": {},
   "cell_type": "markdown",
   "metadata": {},
   "source": [
    "## Sobre o conjunto de dados\n",
    "Esse conjunto de dados é o conjunto de dados da fatura do produto. Incluindo valores de impostos e qtd.\n",
    "Usando este conjunto de dados, você pode fazer Análise de Dados e Previsão de Taxa de Produto\n",
    "Você também pode fazer o pré-processamento de dados:\n",
    "\n",
    "1)Trabalhar no pré-processamento de dados\n",
    "\n",
    "2)Análise de dados\n",
    "\n",
    "3)Visualização de dados usando Seaborn"
   ]
  },
  {
   "cell_type": "code",
   "execution_count": 1,
   "metadata": {},
   "outputs": [],
   "source": [
    "import pandas as pd \n",
    "import numpy as np\n",
    "import matplotlib.pyplot as plt \n",
    "import seaborn as sns \n",
    "\n",
    "import warnings\n",
    "warnings.filterwarnings(\"ignore\")"
   ]
  },
  {
   "cell_type": "code",
   "execution_count": 2,
   "metadata": {},
   "outputs": [
    {
     "data": {
      "text/html": [
       "<div>\n",
       "<style scoped>\n",
       "    .dataframe tbody tr th:only-of-type {\n",
       "        vertical-align: middle;\n",
       "    }\n",
       "\n",
       "    .dataframe tbody tr th {\n",
       "        vertical-align: top;\n",
       "    }\n",
       "\n",
       "    .dataframe thead th {\n",
       "        text-align: right;\n",
       "    }\n",
       "</style>\n",
       "<table border=\"1\" class=\"dataframe\">\n",
       "  <thead>\n",
       "    <tr style=\"text-align: right;\">\n",
       "      <th></th>\n",
       "      <th>productname</th>\n",
       "      <th>uom</th>\n",
       "      <th>qty</th>\n",
       "      <th>rate</th>\n",
       "      <th>amount</th>\n",
       "      <th>taxableamt</th>\n",
       "      <th>cgstrate</th>\n",
       "      <th>cgstamt</th>\n",
       "      <th>sgstrate</th>\n",
       "      <th>sgstamt</th>\n",
       "      <th>total</th>\n",
       "      <th>originalrate</th>\n",
       "    </tr>\n",
       "  </thead>\n",
       "  <tbody>\n",
       "    <tr>\n",
       "      <th>0</th>\n",
       "      <td>671-LT</td>\n",
       "      <td>Nos</td>\n",
       "      <td>14</td>\n",
       "      <td>155.0000</td>\n",
       "      <td>2170.0000</td>\n",
       "      <td>2170.0000</td>\n",
       "      <td>9.0</td>\n",
       "      <td>195.30000</td>\n",
       "      <td>9.0</td>\n",
       "      <td>195.30000</td>\n",
       "      <td>2560.6</td>\n",
       "      <td>155.0000</td>\n",
       "    </tr>\n",
       "    <tr>\n",
       "      <th>1</th>\n",
       "      <td>673-HLA</td>\n",
       "      <td>Nos</td>\n",
       "      <td>1</td>\n",
       "      <td>155.0000</td>\n",
       "      <td>155.0000</td>\n",
       "      <td>155.0000</td>\n",
       "      <td>9.0</td>\n",
       "      <td>13.95000</td>\n",
       "      <td>9.0</td>\n",
       "      <td>13.95000</td>\n",
       "      <td>182.9</td>\n",
       "      <td>155.0000</td>\n",
       "    </tr>\n",
       "    <tr>\n",
       "      <th>2</th>\n",
       "      <td>GIALLO GRENE</td>\n",
       "      <td>Nos</td>\n",
       "      <td>3</td>\n",
       "      <td>230.0000</td>\n",
       "      <td>690.0000</td>\n",
       "      <td>690.0000</td>\n",
       "      <td>9.0</td>\n",
       "      <td>62.10000</td>\n",
       "      <td>9.0</td>\n",
       "      <td>62.10000</td>\n",
       "      <td>814.2</td>\n",
       "      <td>230.0000</td>\n",
       "    </tr>\n",
       "    <tr>\n",
       "      <th>3</th>\n",
       "      <td>CANYON BROWN</td>\n",
       "      <td>Nos</td>\n",
       "      <td>28</td>\n",
       "      <td>475.0000</td>\n",
       "      <td>13300.0000</td>\n",
       "      <td>13300.0000</td>\n",
       "      <td>9.0</td>\n",
       "      <td>1197.00000</td>\n",
       "      <td>9.0</td>\n",
       "      <td>1197.00000</td>\n",
       "      <td>15694.0</td>\n",
       "      <td>475.0000</td>\n",
       "    </tr>\n",
       "    <tr>\n",
       "      <th>4</th>\n",
       "      <td>HERIC GRAFITO-LT</td>\n",
       "      <td>Nos</td>\n",
       "      <td>2</td>\n",
       "      <td>255.0000</td>\n",
       "      <td>510.0000</td>\n",
       "      <td>510.0000</td>\n",
       "      <td>9.0</td>\n",
       "      <td>45.90000</td>\n",
       "      <td>9.0</td>\n",
       "      <td>45.90000</td>\n",
       "      <td>601.8</td>\n",
       "      <td>255.0000</td>\n",
       "    </tr>\n",
       "    <tr>\n",
       "      <th>...</th>\n",
       "      <td>...</td>\n",
       "      <td>...</td>\n",
       "      <td>...</td>\n",
       "      <td>...</td>\n",
       "      <td>...</td>\n",
       "      <td>...</td>\n",
       "      <td>...</td>\n",
       "      <td>...</td>\n",
       "      <td>...</td>\n",
       "      <td>...</td>\n",
       "      <td>...</td>\n",
       "      <td>...</td>\n",
       "    </tr>\n",
       "    <tr>\n",
       "      <th>1127</th>\n",
       "      <td>MAGNA BAINCO-MN1</td>\n",
       "      <td>NOS</td>\n",
       "      <td>1</td>\n",
       "      <td>589.8305</td>\n",
       "      <td>589.8305</td>\n",
       "      <td>589.8305</td>\n",
       "      <td>9.0</td>\n",
       "      <td>53.08475</td>\n",
       "      <td>9.0</td>\n",
       "      <td>53.08475</td>\n",
       "      <td>696.0</td>\n",
       "      <td>696.0000</td>\n",
       "    </tr>\n",
       "    <tr>\n",
       "      <th>1128</th>\n",
       "      <td>SIFON BAINCO</td>\n",
       "      <td>NOS</td>\n",
       "      <td>6</td>\n",
       "      <td>617.3729</td>\n",
       "      <td>3704.2370</td>\n",
       "      <td>3704.2370</td>\n",
       "      <td>9.0</td>\n",
       "      <td>333.38130</td>\n",
       "      <td>9.0</td>\n",
       "      <td>333.38130</td>\n",
       "      <td>4371.0</td>\n",
       "      <td>728.5000</td>\n",
       "    </tr>\n",
       "    <tr>\n",
       "      <th>1129</th>\n",
       "      <td>HERICAN TUSK</td>\n",
       "      <td>NOS</td>\n",
       "      <td>19</td>\n",
       "      <td>919.4916</td>\n",
       "      <td>17470.3400</td>\n",
       "      <td>17470.3400</td>\n",
       "      <td>9.0</td>\n",
       "      <td>1572.33000</td>\n",
       "      <td>9.0</td>\n",
       "      <td>1572.33000</td>\n",
       "      <td>20615.0</td>\n",
       "      <td>919.4916</td>\n",
       "    </tr>\n",
       "    <tr>\n",
       "      <th>1130</th>\n",
       "      <td>MYK TIL;E ADHESIVE 305</td>\n",
       "      <td>NOS</td>\n",
       "      <td>4</td>\n",
       "      <td>254.2372</td>\n",
       "      <td>1016.9490</td>\n",
       "      <td>1016.9490</td>\n",
       "      <td>9.0</td>\n",
       "      <td>91.52540</td>\n",
       "      <td>9.0</td>\n",
       "      <td>91.52540</td>\n",
       "      <td>1200.0</td>\n",
       "      <td>300.0000</td>\n",
       "    </tr>\n",
       "    <tr>\n",
       "      <th>1131</th>\n",
       "      <td>MYK TILE ADHESIVE 290</td>\n",
       "      <td>NOS</td>\n",
       "      <td>4</td>\n",
       "      <td>593.2203</td>\n",
       "      <td>2372.8810</td>\n",
       "      <td>2372.8810</td>\n",
       "      <td>9.0</td>\n",
       "      <td>213.55930</td>\n",
       "      <td>9.0</td>\n",
       "      <td>213.55930</td>\n",
       "      <td>2800.0</td>\n",
       "      <td>700.0000</td>\n",
       "    </tr>\n",
       "  </tbody>\n",
       "</table>\n",
       "<p>1132 rows × 12 columns</p>\n",
       "</div>"
      ],
      "text/plain": [
       "                 productname  uom  qty      rate      amount  taxableamt  \\\n",
       "0                     671-LT  Nos   14  155.0000   2170.0000   2170.0000   \n",
       "1                    673-HLA  Nos    1  155.0000    155.0000    155.0000   \n",
       "2               GIALLO GRENE  Nos    3  230.0000    690.0000    690.0000   \n",
       "3               CANYON BROWN  Nos   28  475.0000  13300.0000  13300.0000   \n",
       "4           HERIC GRAFITO-LT  Nos    2  255.0000    510.0000    510.0000   \n",
       "...                      ...  ...  ...       ...         ...         ...   \n",
       "1127        MAGNA BAINCO-MN1  NOS    1  589.8305    589.8305    589.8305   \n",
       "1128            SIFON BAINCO  NOS    6  617.3729   3704.2370   3704.2370   \n",
       "1129            HERICAN TUSK  NOS   19  919.4916  17470.3400  17470.3400   \n",
       "1130  MYK TIL;E ADHESIVE 305  NOS    4  254.2372   1016.9490   1016.9490   \n",
       "1131   MYK TILE ADHESIVE 290  NOS    4  593.2203   2372.8810   2372.8810   \n",
       "\n",
       "      cgstrate     cgstamt  sgstrate     sgstamt    total  originalrate  \n",
       "0          9.0   195.30000       9.0   195.30000   2560.6      155.0000  \n",
       "1          9.0    13.95000       9.0    13.95000    182.9      155.0000  \n",
       "2          9.0    62.10000       9.0    62.10000    814.2      230.0000  \n",
       "3          9.0  1197.00000       9.0  1197.00000  15694.0      475.0000  \n",
       "4          9.0    45.90000       9.0    45.90000    601.8      255.0000  \n",
       "...        ...         ...       ...         ...      ...           ...  \n",
       "1127       9.0    53.08475       9.0    53.08475    696.0      696.0000  \n",
       "1128       9.0   333.38130       9.0   333.38130   4371.0      728.5000  \n",
       "1129       9.0  1572.33000       9.0  1572.33000  20615.0      919.4916  \n",
       "1130       9.0    91.52540       9.0    91.52540   1200.0      300.0000  \n",
       "1131       9.0   213.55930       9.0   213.55930   2800.0      700.0000  \n",
       "\n",
       "[1132 rows x 12 columns]"
      ]
     },
     "metadata": {},
     "output_type": "display_data"
    }
   ],
   "source": [
    "base = pd.read_excel(r\"DtScience\\product cost prediction.xlsx\")\n",
    "display(base)"
   ]
  },
  {
   "attachments": {},
   "cell_type": "markdown",
   "metadata": {},
   "source": [
    "nome do produto - Nome do produto\n",
    "\n",
    "uom- Unidade de Majoração\n",
    "\n",
    "qty -Quantidade do produto\n",
    "\n",
    "taxa - Taxa Atual do Produto\n",
    "\n",
    "valor - Valor subtotal\n",
    "\n",
    "valor tributável - Valor real tributável\n",
    "\n",
    "cgstrate- Imposto Central por:\n",
    "    \n",
    "    cgstamt- Valor do imposto central\n",
    "\n",
    "sgstrate - Imposto Estadual por: \n",
    "\n",
    "    sgstamt- Valor do imposto estadual\n",
    "\n",
    "total- Valor Total Total Final\n",
    "\n",
    "Taxa Original- Taxa Original Real"
   ]
  },
  {
   "cell_type": "code",
   "execution_count": 3,
   "metadata": {},
   "outputs": [
    {
     "data": {
      "text/plain": [
       "Index(['productname', 'uom', 'qty', 'rate', 'amount', 'taxableamt', 'cgstrate',\n",
       "       'cgstamt', 'sgstrate', 'sgstamt', 'total', 'originalrate'],\n",
       "      dtype='object')"
      ]
     },
     "execution_count": 3,
     "metadata": {},
     "output_type": "execute_result"
    }
   ],
   "source": [
    "base.columns "
   ]
  },
  {
   "cell_type": "code",
   "execution_count": 4,
   "metadata": {},
   "outputs": [
    {
     "data": {
      "text/plain": [
       "array(['Nos', 'Box', 'BOX', 'NOS', 'BAG', 2], dtype=object)"
      ]
     },
     "execution_count": 4,
     "metadata": {},
     "output_type": "execute_result"
    }
   ],
   "source": [
    "base[\"uom\"].unique()"
   ]
  },
  {
   "cell_type": "code",
   "execution_count": 5,
   "metadata": {},
   "outputs": [
    {
     "data": {
      "text/plain": [
       "6"
      ]
     },
     "execution_count": 5,
     "metadata": {},
     "output_type": "execute_result"
    }
   ],
   "source": [
    "base[\"uom\"].nunique()"
   ]
  },
  {
   "cell_type": "code",
   "execution_count": 6,
   "metadata": {},
   "outputs": [
    {
     "data": {
      "text/plain": [
       "uom\n",
       "NOS    406\n",
       "Nos    364\n",
       "BOX    285\n",
       "Box     75\n",
       "BAG      1\n",
       "2        1\n",
       "Name: count, dtype: int64"
      ]
     },
     "execution_count": 6,
     "metadata": {},
     "output_type": "execute_result"
    }
   ],
   "source": [
    "base[\"uom\"].value_counts()"
   ]
  },
  {
   "cell_type": "code",
   "execution_count": 7,
   "metadata": {},
   "outputs": [
    {
     "name": "stdout",
     "output_type": "stream",
     "text": [
      "<class 'pandas.core.frame.DataFrame'>\n",
      "RangeIndex: 1132 entries, 0 to 1131\n",
      "Data columns (total 12 columns):\n",
      " #   Column        Non-Null Count  Dtype  \n",
      "---  ------        --------------  -----  \n",
      " 0   productname   1132 non-null   object \n",
      " 1   uom           1132 non-null   object \n",
      " 2   qty           1132 non-null   int64  \n",
      " 3   rate          1132 non-null   float64\n",
      " 4   amount        1132 non-null   float64\n",
      " 5   taxableamt    1132 non-null   float64\n",
      " 6   cgstrate      1132 non-null   float64\n",
      " 7   cgstamt       1132 non-null   float64\n",
      " 8   sgstrate      1132 non-null   float64\n",
      " 9   sgstamt       1132 non-null   float64\n",
      " 10  total         1132 non-null   float64\n",
      " 11  originalrate  1132 non-null   float64\n",
      "dtypes: float64(9), int64(1), object(2)\n",
      "memory usage: 106.2+ KB\n"
     ]
    }
   ],
   "source": [
    "base.info()"
   ]
  },
  {
   "cell_type": "code",
   "execution_count": 8,
   "metadata": {},
   "outputs": [
    {
     "data": {
      "text/html": [
       "<div>\n",
       "<style scoped>\n",
       "    .dataframe tbody tr th:only-of-type {\n",
       "        vertical-align: middle;\n",
       "    }\n",
       "\n",
       "    .dataframe tbody tr th {\n",
       "        vertical-align: top;\n",
       "    }\n",
       "\n",
       "    .dataframe thead th {\n",
       "        text-align: right;\n",
       "    }\n",
       "</style>\n",
       "<table border=\"1\" class=\"dataframe\">\n",
       "  <thead>\n",
       "    <tr style=\"text-align: right;\">\n",
       "      <th></th>\n",
       "      <th>qty</th>\n",
       "      <th>rate</th>\n",
       "      <th>amount</th>\n",
       "      <th>taxableamt</th>\n",
       "      <th>cgstrate</th>\n",
       "      <th>cgstamt</th>\n",
       "      <th>sgstrate</th>\n",
       "      <th>sgstamt</th>\n",
       "      <th>total</th>\n",
       "      <th>originalrate</th>\n",
       "    </tr>\n",
       "  </thead>\n",
       "  <tbody>\n",
       "    <tr>\n",
       "      <th>count</th>\n",
       "      <td>1132.000000</td>\n",
       "      <td>1132.000000</td>\n",
       "      <td>1132.000000</td>\n",
       "      <td>1132.000000</td>\n",
       "      <td>1132.000000</td>\n",
       "      <td>1132.000000</td>\n",
       "      <td>1132.000000</td>\n",
       "      <td>1132.000000</td>\n",
       "      <td>1132.000000</td>\n",
       "      <td>1132.000000</td>\n",
       "    </tr>\n",
       "    <tr>\n",
       "      <th>mean</th>\n",
       "      <td>8.898410</td>\n",
       "      <td>842.187548</td>\n",
       "      <td>5658.961670</td>\n",
       "      <td>5406.067598</td>\n",
       "      <td>9.045495</td>\n",
       "      <td>483.558579</td>\n",
       "      <td>9.045495</td>\n",
       "      <td>483.558579</td>\n",
       "      <td>6370.710329</td>\n",
       "      <td>864.544643</td>\n",
       "    </tr>\n",
       "    <tr>\n",
       "      <th>std</th>\n",
       "      <td>11.390866</td>\n",
       "      <td>921.384641</td>\n",
       "      <td>7936.479524</td>\n",
       "      <td>7872.115634</td>\n",
       "      <td>0.868399</td>\n",
       "      <td>705.039318</td>\n",
       "      <td>0.868399</td>\n",
       "      <td>705.039318</td>\n",
       "      <td>9260.075430</td>\n",
       "      <td>962.922079</td>\n",
       "    </tr>\n",
       "    <tr>\n",
       "      <th>min</th>\n",
       "      <td>1.000000</td>\n",
       "      <td>33.000000</td>\n",
       "      <td>66.000000</td>\n",
       "      <td>66.000000</td>\n",
       "      <td>0.000000</td>\n",
       "      <td>0.000000</td>\n",
       "      <td>0.000000</td>\n",
       "      <td>0.000000</td>\n",
       "      <td>77.880000</td>\n",
       "      <td>33.000000</td>\n",
       "    </tr>\n",
       "    <tr>\n",
       "      <th>25%</th>\n",
       "      <td>1.000000</td>\n",
       "      <td>325.000000</td>\n",
       "      <td>1147.880750</td>\n",
       "      <td>920.000000</td>\n",
       "      <td>9.000000</td>\n",
       "      <td>82.750000</td>\n",
       "      <td>9.000000</td>\n",
       "      <td>82.750000</td>\n",
       "      <td>1085.600000</td>\n",
       "      <td>333.750000</td>\n",
       "    </tr>\n",
       "    <tr>\n",
       "      <th>50%</th>\n",
       "      <td>5.000000</td>\n",
       "      <td>602.000000</td>\n",
       "      <td>2520.000000</td>\n",
       "      <td>2288.779650</td>\n",
       "      <td>9.000000</td>\n",
       "      <td>205.520350</td>\n",
       "      <td>9.000000</td>\n",
       "      <td>205.520350</td>\n",
       "      <td>2710.460000</td>\n",
       "      <td>605.000000</td>\n",
       "    </tr>\n",
       "    <tr>\n",
       "      <th>75%</th>\n",
       "      <td>11.000000</td>\n",
       "      <td>961.250000</td>\n",
       "      <td>6602.542250</td>\n",
       "      <td>6076.250000</td>\n",
       "      <td>9.000000</td>\n",
       "      <td>541.125000</td>\n",
       "      <td>9.000000</td>\n",
       "      <td>541.125000</td>\n",
       "      <td>7180.890000</td>\n",
       "      <td>991.250000</td>\n",
       "    </tr>\n",
       "    <tr>\n",
       "      <th>max</th>\n",
       "      <td>109.000000</td>\n",
       "      <td>7625.000000</td>\n",
       "      <td>65861.870000</td>\n",
       "      <td>65861.870000</td>\n",
       "      <td>14.000000</td>\n",
       "      <td>5927.570000</td>\n",
       "      <td>14.000000</td>\n",
       "      <td>5927.570000</td>\n",
       "      <td>77717.010000</td>\n",
       "      <td>7625.000000</td>\n",
       "    </tr>\n",
       "  </tbody>\n",
       "</table>\n",
       "</div>"
      ],
      "text/plain": [
       "               qty         rate        amount    taxableamt     cgstrate  \\\n",
       "count  1132.000000  1132.000000   1132.000000   1132.000000  1132.000000   \n",
       "mean      8.898410   842.187548   5658.961670   5406.067598     9.045495   \n",
       "std      11.390866   921.384641   7936.479524   7872.115634     0.868399   \n",
       "min       1.000000    33.000000     66.000000     66.000000     0.000000   \n",
       "25%       1.000000   325.000000   1147.880750    920.000000     9.000000   \n",
       "50%       5.000000   602.000000   2520.000000   2288.779650     9.000000   \n",
       "75%      11.000000   961.250000   6602.542250   6076.250000     9.000000   \n",
       "max     109.000000  7625.000000  65861.870000  65861.870000    14.000000   \n",
       "\n",
       "           cgstamt     sgstrate      sgstamt         total  originalrate  \n",
       "count  1132.000000  1132.000000  1132.000000   1132.000000   1132.000000  \n",
       "mean    483.558579     9.045495   483.558579   6370.710329    864.544643  \n",
       "std     705.039318     0.868399   705.039318   9260.075430    962.922079  \n",
       "min       0.000000     0.000000     0.000000     77.880000     33.000000  \n",
       "25%      82.750000     9.000000    82.750000   1085.600000    333.750000  \n",
       "50%     205.520350     9.000000   205.520350   2710.460000    605.000000  \n",
       "75%     541.125000     9.000000   541.125000   7180.890000    991.250000  \n",
       "max    5927.570000    14.000000  5927.570000  77717.010000   7625.000000  "
      ]
     },
     "execution_count": 8,
     "metadata": {},
     "output_type": "execute_result"
    }
   ],
   "source": [
    "base.describe()"
   ]
  },
  {
   "cell_type": "code",
   "execution_count": 9,
   "metadata": {},
   "outputs": [
    {
     "data": {
      "image/png": "[encoded data removed]",
      "text/plain": [
       "<Figure size 640x480 with 1 Axes>"
      ]
     },
     "metadata": {},
     "output_type": "display_data"
    }
   ],
   "source": [
    "sns.swarmplot(data=base, x=\"cgstrate\", y=\"cgstamt\");"
   ]
  },
  {
   "cell_type": "code",
   "execution_count": 10,
   "metadata": {},
   "outputs": [
    {
     "data": {
      "image/png": "[encoded data removed]",
      "text/plain": [
       "<Figure size 640x480 with 1 Axes>"
      ]
     },
     "metadata": {},
     "output_type": "display_data"
    }
   ],
   "source": [
    "sns.swarmplot(data=base, x=\"cgstrate\", y=\"rate\");"
   ]
  },
  {
   "cell_type": "code",
   "execution_count": 11,
   "metadata": {},
   "outputs": [
    {
     "data": {
      "image/png": "[encoded data removed]",
      "text/plain": [
       "<Figure size 640x480 with 1 Axes>"
      ]
     },
     "metadata": {},
     "output_type": "display_data"
    }
   ],
   "source": [
    "sns.swarmplot(data=base, x=\"uom\", y=\"rate\");"
   ]
  }
 ],
 "metadata": {
  "kernelspec": {
   "display_name": "Python 3",
   "language": "python",
   "name": "python3"
  },
  "language_info": {
   "codemirror_mode": {
    "name": "ipython",
    "version": 3
   },
   "file_extension": ".py",
   "mimetype": "text/x-python",
   "name": "python",
   "nbconvert_exporter": "python",
   "pygments_lexer": "ipython3",
   "version": "3.11.0"
  },
  "orig_nbformat": 4
 },
 "nbformat": 4,
 "nbformat_minor": 2
}
