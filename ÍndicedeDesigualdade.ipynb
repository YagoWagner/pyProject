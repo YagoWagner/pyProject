{
 "cells": [
  {
   "attachments": {},
   "cell_type": "markdown",
   "metadata": {},
   "source": [
    "# ⚖️ Índice de Desigualdade de Gênero\n",
    "\n",
    "### Medindo as disparidades de gênero entre as sociedades"
   ]
  },
  {
   "attachments": {},
   "cell_type": "markdown",
   "metadata": {},
   "source": [
    "O conjunto de dados do Índice de Desigualdade de Gênero (GII) fornece uma medida abrangente da desigualdade de gênero entre os países, capturando disparidades de gênero em saúde, educação e oportunidades econômicas.\n",
    "Desenvolvido pelo Programa das Nações Unidas para o Desenvolvimento (PNUD), o GII mede a desigualdade de gênero analisando indicadores de saúde, empoderamento e participação no mercado de trabalho.\n",
    "\n",
    "Este conjunto de dados inclui pontuações GII, bem como pontuações de componentes para cada indicador, para mais de 190 países, em 2021."
   ]
  },
  {
   "cell_type": "code",
   "execution_count": 1,
   "metadata": {},
   "outputs": [
    {
     "data": {
      "text/html": [
       "<div>\n",
       "<style scoped>\n",
       "    .dataframe tbody tr th:only-of-type {\n",
       "        vertical-align: middle;\n",
       "    }\n",
       "\n",
       "    .dataframe tbody tr th {\n",
       "        vertical-align: top;\n",
       "    }\n",
       "\n",
       "    .dataframe thead th {\n",
       "        text-align: right;\n",
       "    }\n",
       "</style>\n",
       "<table border=\"1\" class=\"dataframe\">\n",
       "  <thead>\n",
       "    <tr style=\"text-align: right;\">\n",
       "      <th></th>\n",
       "      <th>Country</th>\n",
       "      <th>Human_development</th>\n",
       "      <th>GII</th>\n",
       "      <th>Rank</th>\n",
       "      <th>Maternal_mortality</th>\n",
       "      <th>Adolescent_birth_rate</th>\n",
       "      <th>Seats_parliament</th>\n",
       "      <th>F_secondary_educ</th>\n",
       "      <th>M_secondary_educ</th>\n",
       "      <th>F_Labour_force</th>\n",
       "      <th>M_Labour_force</th>\n",
       "    </tr>\n",
       "  </thead>\n",
       "  <tbody>\n",
       "    <tr>\n",
       "      <th>0</th>\n",
       "      <td>Switzerland</td>\n",
       "      <td>Very high</td>\n",
       "      <td>0.018</td>\n",
       "      <td>3.0</td>\n",
       "      <td>5.0</td>\n",
       "      <td>2.2</td>\n",
       "      <td>39.8</td>\n",
       "      <td>96.9</td>\n",
       "      <td>97.5</td>\n",
       "      <td>61.7</td>\n",
       "      <td>72.7</td>\n",
       "    </tr>\n",
       "    <tr>\n",
       "      <th>1</th>\n",
       "      <td>Norway</td>\n",
       "      <td>Very high</td>\n",
       "      <td>0.016</td>\n",
       "      <td>2.0</td>\n",
       "      <td>2.0</td>\n",
       "      <td>2.3</td>\n",
       "      <td>45.0</td>\n",
       "      <td>99.1</td>\n",
       "      <td>99.3</td>\n",
       "      <td>60.3</td>\n",
       "      <td>72.0</td>\n",
       "    </tr>\n",
       "    <tr>\n",
       "      <th>2</th>\n",
       "      <td>Iceland</td>\n",
       "      <td>Very high</td>\n",
       "      <td>0.043</td>\n",
       "      <td>8.0</td>\n",
       "      <td>4.0</td>\n",
       "      <td>5.4</td>\n",
       "      <td>47.6</td>\n",
       "      <td>99.8</td>\n",
       "      <td>99.7</td>\n",
       "      <td>61.7</td>\n",
       "      <td>70.5</td>\n",
       "    </tr>\n",
       "    <tr>\n",
       "      <th>3</th>\n",
       "      <td>Hong Kong</td>\n",
       "      <td>Very high</td>\n",
       "      <td>NaN</td>\n",
       "      <td>NaN</td>\n",
       "      <td>NaN</td>\n",
       "      <td>1.6</td>\n",
       "      <td>NaN</td>\n",
       "      <td>77.1</td>\n",
       "      <td>83.4</td>\n",
       "      <td>53.5</td>\n",
       "      <td>65.8</td>\n",
       "    </tr>\n",
       "    <tr>\n",
       "      <th>4</th>\n",
       "      <td>Australia</td>\n",
       "      <td>Very high</td>\n",
       "      <td>0.073</td>\n",
       "      <td>19.0</td>\n",
       "      <td>6.0</td>\n",
       "      <td>8.1</td>\n",
       "      <td>37.9</td>\n",
       "      <td>94.6</td>\n",
       "      <td>94.4</td>\n",
       "      <td>61.1</td>\n",
       "      <td>70.5</td>\n",
       "    </tr>\n",
       "    <tr>\n",
       "      <th>...</th>\n",
       "      <td>...</td>\n",
       "      <td>...</td>\n",
       "      <td>...</td>\n",
       "      <td>...</td>\n",
       "      <td>...</td>\n",
       "      <td>...</td>\n",
       "      <td>...</td>\n",
       "      <td>...</td>\n",
       "      <td>...</td>\n",
       "      <td>...</td>\n",
       "      <td>...</td>\n",
       "    </tr>\n",
       "    <tr>\n",
       "      <th>190</th>\n",
       "      <td>South Sudan</td>\n",
       "      <td>Low</td>\n",
       "      <td>0.587</td>\n",
       "      <td>150.0</td>\n",
       "      <td>1150.0</td>\n",
       "      <td>99.2</td>\n",
       "      <td>32.3</td>\n",
       "      <td>26.5</td>\n",
       "      <td>36.4</td>\n",
       "      <td>70.4</td>\n",
       "      <td>73.6</td>\n",
       "    </tr>\n",
       "    <tr>\n",
       "      <th>191</th>\n",
       "      <td>North Korea</td>\n",
       "      <td>NaN</td>\n",
       "      <td>NaN</td>\n",
       "      <td>NaN</td>\n",
       "      <td>89.0</td>\n",
       "      <td>2.3</td>\n",
       "      <td>17.6</td>\n",
       "      <td>NaN</td>\n",
       "      <td>NaN</td>\n",
       "      <td>77.2</td>\n",
       "      <td>86.1</td>\n",
       "    </tr>\n",
       "    <tr>\n",
       "      <th>192</th>\n",
       "      <td>Monaco</td>\n",
       "      <td>NaN</td>\n",
       "      <td>NaN</td>\n",
       "      <td>NaN</td>\n",
       "      <td>NaN</td>\n",
       "      <td>7.2</td>\n",
       "      <td>33.3</td>\n",
       "      <td>NaN</td>\n",
       "      <td>NaN</td>\n",
       "      <td>NaN</td>\n",
       "      <td>NaN</td>\n",
       "    </tr>\n",
       "    <tr>\n",
       "      <th>193</th>\n",
       "      <td>Nauru</td>\n",
       "      <td>NaN</td>\n",
       "      <td>NaN</td>\n",
       "      <td>NaN</td>\n",
       "      <td>NaN</td>\n",
       "      <td>72.5</td>\n",
       "      <td>10.5</td>\n",
       "      <td>NaN</td>\n",
       "      <td>NaN</td>\n",
       "      <td>NaN</td>\n",
       "      <td>NaN</td>\n",
       "    </tr>\n",
       "    <tr>\n",
       "      <th>194</th>\n",
       "      <td>Somalia</td>\n",
       "      <td>NaN</td>\n",
       "      <td>NaN</td>\n",
       "      <td>NaN</td>\n",
       "      <td>829.0</td>\n",
       "      <td>118.0</td>\n",
       "      <td>24.6</td>\n",
       "      <td>NaN</td>\n",
       "      <td>NaN</td>\n",
       "      <td>20.9</td>\n",
       "      <td>47.0</td>\n",
       "    </tr>\n",
       "  </tbody>\n",
       "</table>\n",
       "<p>195 rows × 11 columns</p>\n",
       "</div>"
      ],
      "text/plain": [
       "         Country Human_development    GII   Rank  Maternal_mortality  \\\n",
       "0    Switzerland         Very high  0.018    3.0                 5.0   \n",
       "1         Norway         Very high  0.016    2.0                 2.0   \n",
       "2        Iceland         Very high  0.043    8.0                 4.0   \n",
       "3      Hong Kong         Very high    NaN    NaN                 NaN   \n",
       "4      Australia         Very high  0.073   19.0                 6.0   \n",
       "..           ...               ...    ...    ...                 ...   \n",
       "190  South Sudan               Low  0.587  150.0              1150.0   \n",
       "191  North Korea               NaN    NaN    NaN                89.0   \n",
       "192       Monaco               NaN    NaN    NaN                 NaN   \n",
       "193        Nauru               NaN    NaN    NaN                 NaN   \n",
       "194      Somalia               NaN    NaN    NaN               829.0   \n",
       "\n",
       "     Adolescent_birth_rate  Seats_parliament  F_secondary_educ  \\\n",
       "0                      2.2              39.8              96.9   \n",
       "1                      2.3              45.0              99.1   \n",
       "2                      5.4              47.6              99.8   \n",
       "3                      1.6               NaN              77.1   \n",
       "4                      8.1              37.9              94.6   \n",
       "..                     ...               ...               ...   \n",
       "190                   99.2              32.3              26.5   \n",
       "191                    2.3              17.6               NaN   \n",
       "192                    7.2              33.3               NaN   \n",
       "193                   72.5              10.5               NaN   \n",
       "194                  118.0              24.6               NaN   \n",
       "\n",
       "     M_secondary_educ  F_Labour_force  M_Labour_force  \n",
       "0                97.5            61.7            72.7  \n",
       "1                99.3            60.3            72.0  \n",
       "2                99.7            61.7            70.5  \n",
       "3                83.4            53.5            65.8  \n",
       "4                94.4            61.1            70.5  \n",
       "..                ...             ...             ...  \n",
       "190              36.4            70.4            73.6  \n",
       "191               NaN            77.2            86.1  \n",
       "192               NaN             NaN             NaN  \n",
       "193               NaN             NaN             NaN  \n",
       "194               NaN            20.9            47.0  \n",
       "\n",
       "[195 rows x 11 columns]"
      ]
     },
     "metadata": {},
     "output_type": "display_data"
    }
   ],
   "source": [
    "import pandas as pd\n",
    "import matplotlib.pyplot as plt\n",
    "import seaborn as sns\n",
    "import numpy as np\n",
    "import plotly.express as px\n",
    "import warnings\n",
    "warnings.filterwarnings(\"ignore\")\n",
    "\n",
    "df = pd.read_csv(r'DtScience\\Gender_Inequality_Index.csv')\n",
    "display(df)"
   ]
  },
  {
   "cell_type": "code",
   "execution_count": 2,
   "metadata": {},
   "outputs": [
    {
     "data": {
      "text/html": [
       "<div>\n",
       "<style scoped>\n",
       "    .dataframe tbody tr th:only-of-type {\n",
       "        vertical-align: middle;\n",
       "    }\n",
       "\n",
       "    .dataframe tbody tr th {\n",
       "        vertical-align: top;\n",
       "    }\n",
       "\n",
       "    .dataframe thead th {\n",
       "        text-align: right;\n",
       "    }\n",
       "</style>\n",
       "<table border=\"1\" class=\"dataframe\">\n",
       "  <thead>\n",
       "    <tr style=\"text-align: right;\">\n",
       "      <th></th>\n",
       "      <th>País</th>\n",
       "      <th>Desenvolvimento_Humano</th>\n",
       "      <th>GII</th>\n",
       "      <th>Classificação</th>\n",
       "      <th>Mortalidade_Materna</th>\n",
       "      <th>TNA</th>\n",
       "      <th>Assentos_no_parlamento</th>\n",
       "      <th>F_educação_secundária</th>\n",
       "      <th>M_educação_secundário</th>\n",
       "      <th>F_Trabalho_força</th>\n",
       "      <th>M_Trabalho_força</th>\n",
       "    </tr>\n",
       "  </thead>\n",
       "  <tbody>\n",
       "    <tr>\n",
       "      <th>0</th>\n",
       "      <td>Switzerland</td>\n",
       "      <td>Very high</td>\n",
       "      <td>0.018</td>\n",
       "      <td>3.0</td>\n",
       "      <td>5.0</td>\n",
       "      <td>2.2</td>\n",
       "      <td>39.8</td>\n",
       "      <td>96.9</td>\n",
       "      <td>97.5</td>\n",
       "      <td>61.7</td>\n",
       "      <td>72.7</td>\n",
       "    </tr>\n",
       "    <tr>\n",
       "      <th>1</th>\n",
       "      <td>Norway</td>\n",
       "      <td>Very high</td>\n",
       "      <td>0.016</td>\n",
       "      <td>2.0</td>\n",
       "      <td>2.0</td>\n",
       "      <td>2.3</td>\n",
       "      <td>45.0</td>\n",
       "      <td>99.1</td>\n",
       "      <td>99.3</td>\n",
       "      <td>60.3</td>\n",
       "      <td>72.0</td>\n",
       "    </tr>\n",
       "    <tr>\n",
       "      <th>2</th>\n",
       "      <td>Iceland</td>\n",
       "      <td>Very high</td>\n",
       "      <td>0.043</td>\n",
       "      <td>8.0</td>\n",
       "      <td>4.0</td>\n",
       "      <td>5.4</td>\n",
       "      <td>47.6</td>\n",
       "      <td>99.8</td>\n",
       "      <td>99.7</td>\n",
       "      <td>61.7</td>\n",
       "      <td>70.5</td>\n",
       "    </tr>\n",
       "    <tr>\n",
       "      <th>3</th>\n",
       "      <td>Hong Kong</td>\n",
       "      <td>Very high</td>\n",
       "      <td>NaN</td>\n",
       "      <td>NaN</td>\n",
       "      <td>NaN</td>\n",
       "      <td>1.6</td>\n",
       "      <td>NaN</td>\n",
       "      <td>77.1</td>\n",
       "      <td>83.4</td>\n",
       "      <td>53.5</td>\n",
       "      <td>65.8</td>\n",
       "    </tr>\n",
       "    <tr>\n",
       "      <th>4</th>\n",
       "      <td>Australia</td>\n",
       "      <td>Very high</td>\n",
       "      <td>0.073</td>\n",
       "      <td>19.0</td>\n",
       "      <td>6.0</td>\n",
       "      <td>8.1</td>\n",
       "      <td>37.9</td>\n",
       "      <td>94.6</td>\n",
       "      <td>94.4</td>\n",
       "      <td>61.1</td>\n",
       "      <td>70.5</td>\n",
       "    </tr>\n",
       "    <tr>\n",
       "      <th>...</th>\n",
       "      <td>...</td>\n",
       "      <td>...</td>\n",
       "      <td>...</td>\n",
       "      <td>...</td>\n",
       "      <td>...</td>\n",
       "      <td>...</td>\n",
       "      <td>...</td>\n",
       "      <td>...</td>\n",
       "      <td>...</td>\n",
       "      <td>...</td>\n",
       "      <td>...</td>\n",
       "    </tr>\n",
       "    <tr>\n",
       "      <th>190</th>\n",
       "      <td>South Sudan</td>\n",
       "      <td>Low</td>\n",
       "      <td>0.587</td>\n",
       "      <td>150.0</td>\n",
       "      <td>1150.0</td>\n",
       "      <td>99.2</td>\n",
       "      <td>32.3</td>\n",
       "      <td>26.5</td>\n",
       "      <td>36.4</td>\n",
       "      <td>70.4</td>\n",
       "      <td>73.6</td>\n",
       "    </tr>\n",
       "    <tr>\n",
       "      <th>191</th>\n",
       "      <td>North Korea</td>\n",
       "      <td>NaN</td>\n",
       "      <td>NaN</td>\n",
       "      <td>NaN</td>\n",
       "      <td>89.0</td>\n",
       "      <td>2.3</td>\n",
       "      <td>17.6</td>\n",
       "      <td>NaN</td>\n",
       "      <td>NaN</td>\n",
       "      <td>77.2</td>\n",
       "      <td>86.1</td>\n",
       "    </tr>\n",
       "    <tr>\n",
       "      <th>192</th>\n",
       "      <td>Monaco</td>\n",
       "      <td>NaN</td>\n",
       "      <td>NaN</td>\n",
       "      <td>NaN</td>\n",
       "      <td>NaN</td>\n",
       "      <td>7.2</td>\n",
       "      <td>33.3</td>\n",
       "      <td>NaN</td>\n",
       "      <td>NaN</td>\n",
       "      <td>NaN</td>\n",
       "      <td>NaN</td>\n",
       "    </tr>\n",
       "    <tr>\n",
       "      <th>193</th>\n",
       "      <td>Nauru</td>\n",
       "      <td>NaN</td>\n",
       "      <td>NaN</td>\n",
       "      <td>NaN</td>\n",
       "      <td>NaN</td>\n",
       "      <td>72.5</td>\n",
       "      <td>10.5</td>\n",
       "      <td>NaN</td>\n",
       "      <td>NaN</td>\n",
       "      <td>NaN</td>\n",
       "      <td>NaN</td>\n",
       "    </tr>\n",
       "    <tr>\n",
       "      <th>194</th>\n",
       "      <td>Somalia</td>\n",
       "      <td>NaN</td>\n",
       "      <td>NaN</td>\n",
       "      <td>NaN</td>\n",
       "      <td>829.0</td>\n",
       "      <td>118.0</td>\n",
       "      <td>24.6</td>\n",
       "      <td>NaN</td>\n",
       "      <td>NaN</td>\n",
       "      <td>20.9</td>\n",
       "      <td>47.0</td>\n",
       "    </tr>\n",
       "  </tbody>\n",
       "</table>\n",
       "<p>195 rows × 11 columns</p>\n",
       "</div>"
      ],
      "text/plain": [
       "            País Desenvolvimento_Humano    GII  Classificação  \\\n",
       "0    Switzerland              Very high  0.018            3.0   \n",
       "1         Norway              Very high  0.016            2.0   \n",
       "2        Iceland              Very high  0.043            8.0   \n",
       "3      Hong Kong              Very high    NaN            NaN   \n",
       "4      Australia              Very high  0.073           19.0   \n",
       "..           ...                    ...    ...            ...   \n",
       "190  South Sudan                    Low  0.587          150.0   \n",
       "191  North Korea                    NaN    NaN            NaN   \n",
       "192       Monaco                    NaN    NaN            NaN   \n",
       "193        Nauru                    NaN    NaN            NaN   \n",
       "194      Somalia                    NaN    NaN            NaN   \n",
       "\n",
       "     Mortalidade_Materna    TNA  Assentos_no_parlamento  \\\n",
       "0                    5.0    2.2                    39.8   \n",
       "1                    2.0    2.3                    45.0   \n",
       "2                    4.0    5.4                    47.6   \n",
       "3                    NaN    1.6                     NaN   \n",
       "4                    6.0    8.1                    37.9   \n",
       "..                   ...    ...                     ...   \n",
       "190               1150.0   99.2                    32.3   \n",
       "191                 89.0    2.3                    17.6   \n",
       "192                  NaN    7.2                    33.3   \n",
       "193                  NaN   72.5                    10.5   \n",
       "194                829.0  118.0                    24.6   \n",
       "\n",
       "     F_educação_secundária  M_educação_secundário  F_Trabalho_força  \\\n",
       "0                     96.9                   97.5              61.7   \n",
       "1                     99.1                   99.3              60.3   \n",
       "2                     99.8                   99.7              61.7   \n",
       "3                     77.1                   83.4              53.5   \n",
       "4                     94.6                   94.4              61.1   \n",
       "..                     ...                    ...               ...   \n",
       "190                   26.5                   36.4              70.4   \n",
       "191                    NaN                    NaN              77.2   \n",
       "192                    NaN                    NaN               NaN   \n",
       "193                    NaN                    NaN               NaN   \n",
       "194                    NaN                    NaN              20.9   \n",
       "\n",
       "     M_Trabalho_força  \n",
       "0                72.7  \n",
       "1                72.0  \n",
       "2                70.5  \n",
       "3                65.8  \n",
       "4                70.5  \n",
       "..                ...  \n",
       "190              73.6  \n",
       "191              86.1  \n",
       "192               NaN  \n",
       "193               NaN  \n",
       "194              47.0  \n",
       "\n",
       "[195 rows x 11 columns]"
      ]
     },
     "execution_count": 2,
     "metadata": {},
     "output_type": "execute_result"
    }
   ],
   "source": [
    "df.columns = ['País', 'Desenvolvimento_Humano', 'GII', 'Classificação', 'Mortalidade_Materna',\n",
    "        'TNA', 'Assentos_no_parlamento', 'F_educação_secundária',\n",
    "        'M_educação_secundário', 'F_Trabalho_força', 'M_Trabalho_força']\n",
    "\n",
    "# TNA = Taxa de natalidade na adolescência\n",
    "df"
   ]
  },
  {
   "cell_type": "code",
   "execution_count": 3,
   "metadata": {},
   "outputs": [],
   "source": [
    "df = df.dropna(how='any', axis=0)"
   ]
  },
  {
   "cell_type": "code",
   "execution_count": 4,
   "metadata": {},
   "outputs": [
    {
     "data": {
      "text/html": [
       "<div>\n",
       "<style scoped>\n",
       "    .dataframe tbody tr th:only-of-type {\n",
       "        vertical-align: middle;\n",
       "    }\n",
       "\n",
       "    .dataframe tbody tr th {\n",
       "        vertical-align: top;\n",
       "    }\n",
       "\n",
       "    .dataframe thead th {\n",
       "        text-align: right;\n",
       "    }\n",
       "</style>\n",
       "<table border=\"1\" class=\"dataframe\">\n",
       "  <thead>\n",
       "    <tr style=\"text-align: right;\">\n",
       "      <th></th>\n",
       "      <th>País</th>\n",
       "      <th>GII</th>\n",
       "    </tr>\n",
       "  </thead>\n",
       "  <tbody>\n",
       "    <tr>\n",
       "      <th>182</th>\n",
       "      <td>Yemen</td>\n",
       "      <td>0.820</td>\n",
       "    </tr>\n",
       "    <tr>\n",
       "      <th>156</th>\n",
       "      <td>Papua New Guinea</td>\n",
       "      <td>0.725</td>\n",
       "    </tr>\n",
       "    <tr>\n",
       "      <th>163</th>\n",
       "      <td>Nigeria</td>\n",
       "      <td>0.680</td>\n",
       "    </tr>\n",
       "    <tr>\n",
       "      <th>179</th>\n",
       "      <td>Afghanistan</td>\n",
       "      <td>0.678</td>\n",
       "    </tr>\n",
       "    <tr>\n",
       "      <th>187</th>\n",
       "      <td>Central African Republic</td>\n",
       "      <td>0.672</td>\n",
       "    </tr>\n",
       "    <tr>\n",
       "      <th>189</th>\n",
       "      <td>Chad</td>\n",
       "      <td>0.652</td>\n",
       "    </tr>\n",
       "    <tr>\n",
       "      <th>177</th>\n",
       "      <td>Liberia</td>\n",
       "      <td>0.648</td>\n",
       "    </tr>\n",
       "    <tr>\n",
       "      <th>162</th>\n",
       "      <td>Haiti</td>\n",
       "      <td>0.635</td>\n",
       "    </tr>\n",
       "    <tr>\n",
       "      <th>180</th>\n",
       "      <td>Sierra Leone</td>\n",
       "      <td>0.633</td>\n",
       "    </tr>\n",
       "    <tr>\n",
       "      <th>157</th>\n",
       "      <td>Mauritania</td>\n",
       "      <td>0.632</td>\n",
       "    </tr>\n",
       "  </tbody>\n",
       "</table>\n",
       "</div>"
      ],
      "text/plain": [
       "                         País    GII\n",
       "182                     Yemen  0.820\n",
       "156          Papua New Guinea  0.725\n",
       "163                   Nigeria  0.680\n",
       "179               Afghanistan  0.678\n",
       "187  Central African Republic  0.672\n",
       "189                      Chad  0.652\n",
       "177                   Liberia  0.648\n",
       "162                     Haiti  0.635\n",
       "180              Sierra Leone  0.633\n",
       "157                Mauritania  0.632"
      ]
     },
     "metadata": {},
     "output_type": "display_data"
    },
    {
     "data": {
      "image/png": "[encoded data removed]",
      "text/plain": [
       "<Figure size 640x480 with 1 Axes>"
      ]
     },
     "metadata": {},
     "output_type": "display_data"
    }
   ],
   "source": [
    "gii = df[[\"País\", \"GII\"]].sort_values(by=\"GII\", ascending=False)[:10]\n",
    "display(gii)\n",
    "gii[:10].plot.barh(x='País', y='GII' , color='red', title='Índice de Desigualdade de Género');"
   ]
  },
  {
   "cell_type": "code",
   "execution_count": 5,
   "metadata": {},
   "outputs": [
    {
     "data": {
      "text/html": [
       "<div>\n",
       "<style scoped>\n",
       "    .dataframe tbody tr th:only-of-type {\n",
       "        vertical-align: middle;\n",
       "    }\n",
       "\n",
       "    .dataframe tbody tr th {\n",
       "        vertical-align: top;\n",
       "    }\n",
       "\n",
       "    .dataframe thead th {\n",
       "        text-align: right;\n",
       "    }\n",
       "</style>\n",
       "<table border=\"1\" class=\"dataframe\">\n",
       "  <thead>\n",
       "    <tr style=\"text-align: right;\">\n",
       "      <th></th>\n",
       "      <th>País</th>\n",
       "      <th>Classificação</th>\n",
       "    </tr>\n",
       "  </thead>\n",
       "  <tbody>\n",
       "    <tr>\n",
       "      <th>182</th>\n",
       "      <td>Yemen</td>\n",
       "      <td>170.0</td>\n",
       "    </tr>\n",
       "    <tr>\n",
       "      <th>156</th>\n",
       "      <td>Papua New Guinea</td>\n",
       "      <td>169.0</td>\n",
       "    </tr>\n",
       "    <tr>\n",
       "      <th>163</th>\n",
       "      <td>Nigeria</td>\n",
       "      <td>168.0</td>\n",
       "    </tr>\n",
       "    <tr>\n",
       "      <th>179</th>\n",
       "      <td>Afghanistan</td>\n",
       "      <td>167.0</td>\n",
       "    </tr>\n",
       "    <tr>\n",
       "      <th>187</th>\n",
       "      <td>Central African Republic</td>\n",
       "      <td>166.0</td>\n",
       "    </tr>\n",
       "    <tr>\n",
       "      <th>189</th>\n",
       "      <td>Chad</td>\n",
       "      <td>165.0</td>\n",
       "    </tr>\n",
       "    <tr>\n",
       "      <th>177</th>\n",
       "      <td>Liberia</td>\n",
       "      <td>164.0</td>\n",
       "    </tr>\n",
       "    <tr>\n",
       "      <th>162</th>\n",
       "      <td>Haiti</td>\n",
       "      <td>163.0</td>\n",
       "    </tr>\n",
       "    <tr>\n",
       "      <th>180</th>\n",
       "      <td>Sierra Leone</td>\n",
       "      <td>162.0</td>\n",
       "    </tr>\n",
       "    <tr>\n",
       "      <th>157</th>\n",
       "      <td>Mauritania</td>\n",
       "      <td>161.0</td>\n",
       "    </tr>\n",
       "  </tbody>\n",
       "</table>\n",
       "</div>"
      ],
      "text/plain": [
       "                         País  Classificação\n",
       "182                     Yemen          170.0\n",
       "156          Papua New Guinea          169.0\n",
       "163                   Nigeria          168.0\n",
       "179               Afghanistan          167.0\n",
       "187  Central African Republic          166.0\n",
       "189                      Chad          165.0\n",
       "177                   Liberia          164.0\n",
       "162                     Haiti          163.0\n",
       "180              Sierra Leone          162.0\n",
       "157                Mauritania          161.0"
      ]
     },
     "metadata": {},
     "output_type": "display_data"
    },
    {
     "data": {
      "image/png": "[encoded data removed]",
      "text/plain": [
       "<Figure size 640x480 with 1 Axes>"
      ]
     },
     "metadata": {},
     "output_type": "display_data"
    }
   ],
   "source": [
    "classificacao = df[[\"País\", \"Classificação\"]].sort_values(by=\"Classificação\", ascending=False)[:10]\n",
    "display(classificacao)\n",
    "classificacao[:10].plot.barh(x='País', y='Classificação' , color='blue', title='Classificação de Desigualdade de Género');"
   ]
  },
  {
   "cell_type": "code",
   "execution_count": 6,
   "metadata": {},
   "outputs": [
    {
     "data": {
      "text/html": [
       "<div>\n",
       "<style scoped>\n",
       "    .dataframe tbody tr th:only-of-type {\n",
       "        vertical-align: middle;\n",
       "    }\n",
       "\n",
       "    .dataframe tbody tr th {\n",
       "        vertical-align: top;\n",
       "    }\n",
       "\n",
       "    .dataframe thead th {\n",
       "        text-align: right;\n",
       "    }\n",
       "</style>\n",
       "<table border=\"1\" class=\"dataframe\">\n",
       "  <thead>\n",
       "    <tr style=\"text-align: right;\">\n",
       "      <th></th>\n",
       "      <th>País</th>\n",
       "      <th>Mortalidade_Materna</th>\n",
       "    </tr>\n",
       "  </thead>\n",
       "  <tbody>\n",
       "    <tr>\n",
       "      <th>190</th>\n",
       "      <td>South Sudan</td>\n",
       "      <td>1150.0</td>\n",
       "    </tr>\n",
       "    <tr>\n",
       "      <th>189</th>\n",
       "      <td>Chad</td>\n",
       "      <td>1140.0</td>\n",
       "    </tr>\n",
       "    <tr>\n",
       "      <th>180</th>\n",
       "      <td>Sierra Leone</td>\n",
       "      <td>1120.0</td>\n",
       "    </tr>\n",
       "    <tr>\n",
       "      <th>163</th>\n",
       "      <td>Nigeria</td>\n",
       "      <td>917.0</td>\n",
       "    </tr>\n",
       "    <tr>\n",
       "      <th>187</th>\n",
       "      <td>Central African Republic</td>\n",
       "      <td>829.0</td>\n",
       "    </tr>\n",
       "    <tr>\n",
       "      <th>157</th>\n",
       "      <td>Mauritania</td>\n",
       "      <td>766.0</td>\n",
       "    </tr>\n",
       "    <tr>\n",
       "      <th>176</th>\n",
       "      <td>Guinea-Bissau</td>\n",
       "      <td>667.0</td>\n",
       "    </tr>\n",
       "    <tr>\n",
       "      <th>177</th>\n",
       "      <td>Liberia</td>\n",
       "      <td>661.0</td>\n",
       "    </tr>\n",
       "    <tr>\n",
       "      <th>179</th>\n",
       "      <td>Afghanistan</td>\n",
       "      <td>638.0</td>\n",
       "    </tr>\n",
       "    <tr>\n",
       "      <th>158</th>\n",
       "      <td>Côte d'Ivoire</td>\n",
       "      <td>617.0</td>\n",
       "    </tr>\n",
       "  </tbody>\n",
       "</table>\n",
       "</div>"
      ],
      "text/plain": [
       "                         País  Mortalidade_Materna\n",
       "190               South Sudan               1150.0\n",
       "189                      Chad               1140.0\n",
       "180              Sierra Leone               1120.0\n",
       "163                   Nigeria                917.0\n",
       "187  Central African Republic                829.0\n",
       "157                Mauritania                766.0\n",
       "176             Guinea-Bissau                667.0\n",
       "177                   Liberia                661.0\n",
       "179               Afghanistan                638.0\n",
       "158             Côte d'Ivoire                617.0"
      ]
     },
     "metadata": {},
     "output_type": "display_data"
    },
    {
     "data": {
      "image/png": "[encoded data removed]",
      "text/plain": [
       "<Figure size 640x480 with 1 Axes>"
      ]
     },
     "metadata": {},
     "output_type": "display_data"
    }
   ],
   "source": [
    "mortalidade = df[[\"País\", \"Mortalidade_Materna\"]].sort_values(by=\"Mortalidade_Materna\", ascending=False)[:10]\n",
    "display(mortalidade)\n",
    "mortalidade[:10].plot.barh(x='País', y='Mortalidade_Materna' , color='yellow', title='Classificação de Mortalidade Materna');"
   ]
  },
  {
   "cell_type": "code",
   "execution_count": 7,
   "metadata": {},
   "outputs": [
    {
     "data": {
      "text/html": [
       "<div>\n",
       "<style scoped>\n",
       "    .dataframe tbody tr th:only-of-type {\n",
       "        vertical-align: middle;\n",
       "    }\n",
       "\n",
       "    .dataframe tbody tr th {\n",
       "        vertical-align: top;\n",
       "    }\n",
       "\n",
       "    .dataframe thead th {\n",
       "        text-align: right;\n",
       "    }\n",
       "</style>\n",
       "<table border=\"1\" class=\"dataframe\">\n",
       "  <thead>\n",
       "    <tr style=\"text-align: right;\">\n",
       "      <th></th>\n",
       "      <th>País</th>\n",
       "      <th>TNA</th>\n",
       "    </tr>\n",
       "  </thead>\n",
       "  <tbody>\n",
       "    <tr>\n",
       "      <th>188</th>\n",
       "      <td>Niger</td>\n",
       "      <td>170.5</td>\n",
       "    </tr>\n",
       "    <tr>\n",
       "      <th>184</th>\n",
       "      <td>Mozambique</td>\n",
       "      <td>165.8</td>\n",
       "    </tr>\n",
       "    <tr>\n",
       "      <th>187</th>\n",
       "      <td>Central African Republic</td>\n",
       "      <td>160.5</td>\n",
       "    </tr>\n",
       "    <tr>\n",
       "      <th>185</th>\n",
       "      <td>Mali</td>\n",
       "      <td>150.1</td>\n",
       "    </tr>\n",
       "    <tr>\n",
       "      <th>147</th>\n",
       "      <td>Angola</td>\n",
       "      <td>138.4</td>\n",
       "    </tr>\n",
       "    <tr>\n",
       "      <th>189</th>\n",
       "      <td>Chad</td>\n",
       "      <td>138.3</td>\n",
       "    </tr>\n",
       "    <tr>\n",
       "      <th>159</th>\n",
       "      <td>Tanzania</td>\n",
       "      <td>123.7</td>\n",
       "    </tr>\n",
       "    <tr>\n",
       "      <th>177</th>\n",
       "      <td>Liberia</td>\n",
       "      <td>123.4</td>\n",
       "    </tr>\n",
       "    <tr>\n",
       "      <th>172</th>\n",
       "      <td>Madagascar</td>\n",
       "      <td>119.4</td>\n",
       "    </tr>\n",
       "    <tr>\n",
       "      <th>168</th>\n",
       "      <td>Malawi</td>\n",
       "      <td>117.9</td>\n",
       "    </tr>\n",
       "  </tbody>\n",
       "</table>\n",
       "</div>"
      ],
      "text/plain": [
       "                         País    TNA\n",
       "188                     Niger  170.5\n",
       "184                Mozambique  165.8\n",
       "187  Central African Republic  160.5\n",
       "185                      Mali  150.1\n",
       "147                    Angola  138.4\n",
       "189                      Chad  138.3\n",
       "159                  Tanzania  123.7\n",
       "177                   Liberia  123.4\n",
       "172                Madagascar  119.4\n",
       "168                    Malawi  117.9"
      ]
     },
     "metadata": {},
     "output_type": "display_data"
    },
    {
     "data": {
      "image/png": "[encoded data removed]",
      "text/plain": [
       "<Figure size 640x480 with 1 Axes>"
      ]
     },
     "metadata": {},
     "output_type": "display_data"
    }
   ],
   "source": [
    "tna= df[[\"País\", \"TNA\"]].sort_values(by=\"TNA\", ascending=False)[:10]\n",
    "display(tna)\n",
    "tna[:10].plot.barh(x='País', y='TNA' , color='green', title='Taxa de Natalidade na Adolescencia');"
   ]
  },
  {
   "cell_type": "code",
   "execution_count": 8,
   "metadata": {},
   "outputs": [
    {
     "data": {
      "text/html": [
       "<div>\n",
       "<style scoped>\n",
       "    .dataframe tbody tr th:only-of-type {\n",
       "        vertical-align: middle;\n",
       "    }\n",
       "\n",
       "    .dataframe tbody tr th {\n",
       "        vertical-align: top;\n",
       "    }\n",
       "\n",
       "    .dataframe thead th {\n",
       "        text-align: right;\n",
       "    }\n",
       "</style>\n",
       "<table border=\"1\" class=\"dataframe\">\n",
       "  <thead>\n",
       "    <tr style=\"text-align: right;\">\n",
       "      <th></th>\n",
       "      <th>País</th>\n",
       "      <th>Assentos_no_parlamento</th>\n",
       "    </tr>\n",
       "  </thead>\n",
       "  <tbody>\n",
       "    <tr>\n",
       "      <th>164</th>\n",
       "      <td>Rwanda</td>\n",
       "      <td>55.7</td>\n",
       "    </tr>\n",
       "    <tr>\n",
       "      <th>82</th>\n",
       "      <td>Cuba</td>\n",
       "      <td>53.4</td>\n",
       "    </tr>\n",
       "    <tr>\n",
       "      <th>125</th>\n",
       "      <td>Nicaragua</td>\n",
       "      <td>50.5</td>\n",
       "    </tr>\n",
       "    <tr>\n",
       "      <th>25</th>\n",
       "      <td>United Arab Emirates</td>\n",
       "      <td>50.0</td>\n",
       "    </tr>\n",
       "    <tr>\n",
       "      <th>85</th>\n",
       "      <td>Mexico</td>\n",
       "      <td>49.8</td>\n",
       "    </tr>\n",
       "    <tr>\n",
       "      <th>13</th>\n",
       "      <td>New Zealand</td>\n",
       "      <td>49.2</td>\n",
       "    </tr>\n",
       "    <tr>\n",
       "      <th>117</th>\n",
       "      <td>Bolivia</td>\n",
       "      <td>48.2</td>\n",
       "    </tr>\n",
       "    <tr>\n",
       "      <th>2</th>\n",
       "      <td>Iceland</td>\n",
       "      <td>47.6</td>\n",
       "    </tr>\n",
       "    <tr>\n",
       "      <th>6</th>\n",
       "      <td>Sweden</td>\n",
       "      <td>47.0</td>\n",
       "    </tr>\n",
       "    <tr>\n",
       "      <th>10</th>\n",
       "      <td>Finland</td>\n",
       "      <td>46.0</td>\n",
       "    </tr>\n",
       "  </tbody>\n",
       "</table>\n",
       "</div>"
      ],
      "text/plain": [
       "                     País  Assentos_no_parlamento\n",
       "164                Rwanda                    55.7\n",
       "82                   Cuba                    53.4\n",
       "125             Nicaragua                    50.5\n",
       "25   United Arab Emirates                    50.0\n",
       "85                 Mexico                    49.8\n",
       "13            New Zealand                    49.2\n",
       "117               Bolivia                    48.2\n",
       "2                 Iceland                    47.6\n",
       "6                  Sweden                    47.0\n",
       "10                Finland                    46.0"
      ]
     },
     "metadata": {},
     "output_type": "display_data"
    },
    {
     "data": {
      "image/png": "[encoded data removed]",
      "text/plain": [
       "<Figure size 640x480 with 1 Axes>"
      ]
     },
     "metadata": {},
     "output_type": "display_data"
    }
   ],
   "source": [
    "parlamento = df[[\"País\", \"Assentos_no_parlamento\"]].sort_values(by=\"Assentos_no_parlamento\", ascending=False)[:10]\n",
    "display(parlamento)\n",
    "parlamento[:10].plot.barh(x='País', y='Assentos_no_parlamento' , color='brown', title='Assentos no Parlamento');"
   ]
  },
  {
   "cell_type": "code",
   "execution_count": 9,
   "metadata": {},
   "outputs": [
    {
     "data": {
      "application/vnd.plotly.v1+json": {
       "config": {
        "plotlyServerURL": "https://plot.ly"
       },
       "data": [
        {
         "geo": "geo",
         "hovertemplate": "F_educação_secundária=%{marker.color}<br>País=%{location}<extra></extra>",
         "legendgroup": "",
         "locationmode": "country names",
         "locations": [
          "Switzerland",
          "Norway",
          "Iceland",
          "Australia",
          "Denmark",
          "Sweden",
          "Ireland",
          "Germany",
          "Netherlands",
          "Finland",
          "Singapore",
          "Belgium",
          "New Zealand",
          "Canada",
          "Luxembourg",
          "United Kingdom",
          "Japan",
          "South Korea",
          "United States",
          "Israel",
          "Malta",
          "Slovenia",
          "Austria",
          "United Arab Emirates",
          "Spain",
          "France",
          "Cyprus",
          "Italy",
          "Estonia",
          "Czechia",
          "Greece",
          "Poland",
          "Bahrain",
          "Lithuania",
          "Saudi Arabia",
          "Portugal",
          "Latvia",
          "Croatia",
          "Chile",
          "Qatar",
          "Slovakia",
          "Hungary",
          "Argentina",
          "Türkiye",
          "Montenegro",
          "Kuwait",
          "Brunei Darussalam",
          "Russian Federation",
          "Romania",
          "Oman",
          "Bahamas",
          "Kazakhstan",
          "Trinidad and Tobago",
          "Costa Rica",
          "Uruguay",
          "Belarus",
          "Panama",
          "Malaysia",
          "Georgia",
          "Mauritius",
          "Serbia",
          "Thailand",
          "Albania",
          "Bulgaria",
          "Barbados",
          "Sri Lanka",
          "Bosnia and Herzegovina",
          "Iran",
          "Ukraine",
          "North Macedonia",
          "China",
          "Dominican Republic",
          "Moldova",
          "Cuba",
          "Peru",
          "Armenia",
          "Mexico",
          "Brazil",
          "Colombia",
          "Saint Vincent and the Grenadines",
          "Maldives",
          "Algeria",
          "Azerbaijan",
          "Tonga",
          "Turkmenistan",
          "Ecuador",
          "Mongolia",
          "Egypt",
          "Tunisia",
          "Fiji",
          "Suriname",
          "Uzbekistan",
          "Jordan",
          "Libya",
          "Paraguay",
          "Saint Lucia",
          "Guyana",
          "South Africa",
          "Jamaica",
          "Samoa",
          "Gabon",
          "Lebanon",
          "Indonesia",
          "Viet Nam",
          "Philippines",
          "Botswana",
          "Bolivia",
          "Kyrgyzstan",
          "Venezuela",
          "Iraq",
          "Tajikistan",
          "Belize",
          "Morocco",
          "El Salvador",
          "Nicaragua",
          "Bhutan",
          "Cabo Verde",
          "Bangladesh",
          "India",
          "Ghana",
          "Guatemala",
          "Honduras",
          "Sao Tome and Principe",
          "Namibia",
          "Lao People's Democratic Republic",
          "Timor-Leste",
          "Nepal",
          "Eswatini",
          "Cambodia",
          "Zimbabwe",
          "Angola",
          "Myanmar",
          "Syrian Arab Republic",
          "Cameroon",
          "Kenya",
          "Congo",
          "Zambia",
          "Papua New Guinea",
          "Mauritania",
          "Côte d'Ivoire",
          "Tanzania",
          "Pakistan",
          "Togo",
          "Haiti",
          "Nigeria",
          "Rwanda",
          "Benin",
          "Uganda",
          "Lesotho",
          "Malawi",
          "Senegal",
          "Sudan",
          "Madagascar",
          "Gambia",
          "Ethiopia",
          "Guinea-Bissau",
          "Liberia",
          "Congo",
          "Afghanistan",
          "Sierra Leone",
          "Guinea",
          "Yemen",
          "Burkina Faso",
          "Mozambique",
          "Mali",
          "Burundi",
          "Central African Republic",
          "Niger",
          "Chad",
          "South Sudan"
         ],
         "marker": {
          "color": [
           96.9,
           99.1,
           99.8,
           94.6,
           95.1,
           91.8,
           88.1,
           96.1,
           89.8,
           99,
           80.5,
           87.2,
           82,
           100,
           100,
           99.8,
           95.9,
           83.1,
           96.5,
           91.6,
           82.2,
           97.6,
           100,
           82,
           78.5,
           83.5,
           81.1,
           78.6,
           97.6,
           99.8,
           69.9,
           86.5,
           79.9,
           95.5,
           71.3,
           59.7,
           99.7,
           97,
           80.3,
           79.8,
           98.9,
           97.6,
           71,
           56.3,
           92.3,
           60.9,
           70.4,
           92.8,
           88.8,
           96.6,
           87,
           99.8,
           84.8,
           56.2,
           59.6,
           97.5,
           70.2,
           75,
           97.1,
           64.4,
           88.6,
           47.6,
           95.4,
           94.9,
           95.4,
           84,
           82.7,
           71.6,
           96.2,
           61.9,
           78.3,
           77.4,
           96.1,
           89.5,
           59.3,
           96,
           65.1,
           62.4,
           58.9,
           44.1,
           46.4,
           46,
           93.6,
           93.5,
           93.5,
           53,
           79.3,
           81.6,
           42.9,
           90.2,
           69.9,
           99.9,
           77.4,
           70.5,
           52.5,
           49.9,
           69.5,
           68.9,
           74.3,
           79.1,
           67.2,
           54.3,
           51,
           61.3,
           73.4,
           91.3,
           60.1,
           100,
           79.8,
           42,
           93.5,
           54.5,
           30.9,
           42.7,
           51.2,
           23.6,
           28.8,
           50.6,
           41.8,
           58,
           29.5,
           35.8,
           39.9,
           41.5,
           37.7,
           33.7,
           28.8,
           34,
           18.3,
           61.8,
           28.2,
           38.5,
           37.1,
           36.8,
           31.1,
           48,
           47.1,
           10.8,
           14.5,
           23.9,
           13,
           22.1,
           13.9,
           27.9,
           40.4,
           11.4,
           21.1,
           29.3,
           27.2,
           21.3,
           11.1,
           16.4,
           27.3,
           29.9,
           9.1,
           9.8,
           20.8,
           40.3,
           6.4,
           34.7,
           7.2,
           22.4,
           11.3,
           10.8,
           8,
           7.8,
           13.9,
           9.2,
           7.7,
           26.5
          ],
          "coloraxis": "coloraxis",
          "size": [
           96.9,
           99.1,
           99.8,
           94.6,
           95.1,
           91.8,
           88.1,
           96.1,
           89.8,
           99,
           80.5,
           87.2,
           82,
           100,
           100,
           99.8,
           95.9,
           83.1,
           96.5,
           91.6,
           82.2,
           97.6,
           100,
           82,
           78.5,
           83.5,
           81.1,
           78.6,
           97.6,
           99.8,
           69.9,
           86.5,
           79.9,
           95.5,
           71.3,
           59.7,
           99.7,
           97,
           80.3,
           79.8,
           98.9,
           97.6,
           71,
           56.3,
           92.3,
           60.9,
           70.4,
           92.8,
           88.8,
           96.6,
           87,
           99.8,
           84.8,
           56.2,
           59.6,
           97.5,
           70.2,
           75,
           97.1,
           64.4,
           88.6,
           47.6,
           95.4,
           94.9,
           95.4,
           84,
           82.7,
           71.6,
           96.2,
           61.9,
           78.3,
           77.4,
           96.1,
           89.5,
           59.3,
           96,
           65.1,
           62.4,
           58.9,
           44.1,
           46.4,
           46,
           93.6,
           93.5,
           93.5,
           53,
           79.3,
           81.6,
           42.9,
           90.2,
           69.9,
           99.9,
           77.4,
           70.5,
           52.5,
           49.9,
           69.5,
           68.9,
           74.3,
           79.1,
           67.2,
           54.3,
           51,
           61.3,
           73.4,
           91.3,
           60.1,
           100,
           79.8,
           42,
           93.5,
           54.5,
           30.9,
           42.7,
           51.2,
           23.6,
           28.8,
           50.6,
           41.8,
           58,
           29.5,
           35.8,
           39.9,
           41.5,
           37.7,
           33.7,
           28.8,
           34,
           18.3,
           61.8,
           28.2,
           38.5,
           37.1,
           36.8,
           31.1,
           48,
           47.1,
           10.8,
           14.5,
           23.9,
           13,
           22.1,
           13.9,
           27.9,
           40.4,
           11.4,
           21.1,
           29.3,
           27.2,
           21.3,
           11.1,
           16.4,
           27.3,
           29.9,
           9.1,
           9.8,
           20.8,
           40.3,
           6.4,
           34.7,
           7.2,
           22.4,
           11.3,
           10.8,
           8,
           7.8,
           13.9,
           9.2,
           7.7,
           26.5
          ],
          "sizemode": "area",
          "sizeref": 0.4444444444444444,
          "symbol": "circle"
         },
         "mode": "markers",
         "name": "",
         "showlegend": false,
         "type": "scattergeo"
        }
       ],
       "layout": {
        "coloraxis": {
         "colorbar": {
          "title": {
           "text": "F_educação_secundária"
          }
         },
         "colorscale": [
          [
           0,
           "#30123b"
          ],
          [
           0.07142857142857142,
           "#4145ab"
          ],
          [
           0.14285714285714285,
           "#4675ed"
          ],
          [
           0.21428571428571427,
           "#39a2fc"
          ],
          [
           0.2857142857142857,
           "#1bcfd4"
          ],
          [
           0.35714285714285715,
           "#24eca6"
          ],
          [
           0.42857142857142855,
           "#61fc6c"
          ],
          [
           0.5,
           "#a4fc3b"
          ],
          [
           0.5714285714285714,
           "#d1e834"
          ],
          [
           0.6428571428571429,
           "#f3c63a"
          ],
          [
           0.7142857142857143,
           "#fe9b2d"
          ],
          [
           0.7857142857142857,
           "#f36315"
          ],
          [
           0.8571428571428571,
           "#d93806"
          ],
          [
           0.9285714285714286,
           "#b11901"
          ],
          [
           1,
           "#7a0402"
          ]
         ]
        },
        "geo": {
         "center": {},
         "domain": {
          "x": [
           0,
           1
          ],
          "y": [
           0,
           1
          ]
         },
         "scope": "world"
        },
        "legend": {
         "itemsizing": "constant",
         "tracegroupgap": 0
        },
        "template": {
         "data": {
          "bar": [
           {
            "error_x": {
             "color": "#2a3f5f"
            },
            "error_y": {
             "color": "#2a3f5f"
            },
            "marker": {
             "line": {
              "color": "#E5ECF6",
              "width": 0.5
             },
             "pattern": {
              "fillmode": "overlay",
              "size": 10,
              "solidity": 0.2
             }
            },
            "type": "bar"
           }
          ],
          "barpolar": [
           {
            "marker": {
             "line": {
              "color": "#E5ECF6",
              "width": 0.5
             },
             "pattern": {
              "fillmode": "overlay",
              "size": 10,
              "solidity": 0.2
             }
            },
            "type": "barpolar"
           }
          ],
          "carpet": [
           {
            "aaxis": {
             "endlinecolor": "#2a3f5f",
             "gridcolor": "white",
             "linecolor": "white",
             "minorgridcolor": "white",
             "startlinecolor": "#2a3f5f"
            },
            "baxis": {
             "endlinecolor": "#2a3f5f",
             "gridcolor": "white",
             "linecolor": "white",
             "minorgridcolor": "white",
             "startlinecolor": "#2a3f5f"
            },
            "type": "carpet"
           }
          ],
          "choropleth": [
           {
            "colorbar": {
             "outlinewidth": 0,
             "ticks": ""
            },
            "type": "choropleth"
           }
          ],
          "contour": [
           {
            "colorbar": {
             "outlinewidth": 0,
             "ticks": ""
            },
            "colorscale": [
             [
              0,
              "#0d0887"
             ],
             [
              0.1111111111111111,
              "#46039f"
             ],
             [
              0.2222222222222222,
              "#7201a8"
             ],
             [
              0.3333333333333333,
              "#9c179e"
             ],
             [
              0.4444444444444444,
              "#bd3786"
             ],
             [
              0.5555555555555556,
              "#d8576b"
             ],
             [
              0.6666666666666666,
              "#ed7953"
             ],
             [
              0.7777777777777778,
              "#fb9f3a"
             ],
             [
              0.8888888888888888,
              "#fdca26"
             ],
             [
              1,
              "#f0f921"
             ]
            ],
            "type": "contour"
           }
          ],
          "contourcarpet": [
           {
            "colorbar": {
             "outlinewidth": 0,
             "ticks": ""
            },
            "type": "contourcarpet"
           }
          ],
          "heatmap": [
           {
            "colorbar": {
             "outlinewidth": 0,
             "ticks": ""
            },
            "colorscale": [
             [
              0,
              "#0d0887"
             ],
             [
              0.1111111111111111,
              "#46039f"
             ],
             [
              0.2222222222222222,
              "#7201a8"
             ],
             [
              0.3333333333333333,
              "#9c179e"
             ],
             [
              0.4444444444444444,
              "#bd3786"
             ],
             [
              0.5555555555555556,
              "#d8576b"
             ],
             [
              0.6666666666666666,
              "#ed7953"
             ],
             [
              0.7777777777777778,
              "#fb9f3a"
             ],
             [
              0.8888888888888888,
              "#fdca26"
             ],
             [
              1,
              "#f0f921"
             ]
            ],
            "type": "heatmap"
           }
          ],
          "heatmapgl": [
           {
            "colorbar": {
             "outlinewidth": 0,
             "ticks": ""
            },
            "colorscale": [
             [
              0,
              "#0d0887"
             ],
             [
              0.1111111111111111,
              "#46039f"
             ],
             [
              0.2222222222222222,
              "#7201a8"
             ],
             [
              0.3333333333333333,
              "#9c179e"
             ],
             [
              0.4444444444444444,
              "#bd3786"
             ],
             [
              0.5555555555555556,
              "#d8576b"
             ],
             [
              0.6666666666666666,
              "#ed7953"
             ],
             [
              0.7777777777777778,
              "#fb9f3a"
             ],
             [
              0.8888888888888888,
              "#fdca26"
             ],
             [
              1,
              "#f0f921"
             ]
            ],
            "type": "heatmapgl"
           }
          ],
          "histogram": [
           {
            "marker": {
             "pattern": {
              "fillmode": "overlay",
              "size": 10,
              "solidity": 0.2
             }
            },
            "type": "histogram"
           }
          ],
          "histogram2d": [
           {
            "colorbar": {
             "outlinewidth": 0,
             "ticks": ""
            },
            "colorscale": [
             [
              0,
              "#0d0887"
             ],
             [
              0.1111111111111111,
              "#46039f"
             ],
             [
              0.2222222222222222,
              "#7201a8"
             ],
             [
              0.3333333333333333,
              "#9c179e"
             ],
             [
              0.4444444444444444,
              "#bd3786"
             ],
             [
              0.5555555555555556,
              "#d8576b"
             ],
             [
              0.6666666666666666,
              "#ed7953"
             ],
             [
              0.7777777777777778,
              "#fb9f3a"
             ],
             [
              0.8888888888888888,
              "#fdca26"
             ],
             [
              1,
              "#f0f921"
             ]
            ],
            "type": "histogram2d"
           }
          ],
          "histogram2dcontour": [
           {
            "colorbar": {
             "outlinewidth": 0,
             "ticks": ""
            },
            "colorscale": [
             [
              0,
              "#0d0887"
             ],
             [
              0.1111111111111111,
              "#46039f"
             ],
             [
              0.2222222222222222,
              "#7201a8"
             ],
             [
              0.3333333333333333,
              "#9c179e"
             ],
             [
              0.4444444444444444,
              "#bd3786"
             ],
             [
              0.5555555555555556,
              "#d8576b"
             ],
             [
              0.6666666666666666,
              "#ed7953"
             ],
             [
              0.7777777777777778,
              "#fb9f3a"
             ],
             [
              0.8888888888888888,
              "#fdca26"
             ],
             [
              1,
              "#f0f921"
             ]
            ],
            "type": "histogram2dcontour"
           }
          ],
          "mesh3d": [
           {
            "colorbar": {
             "outlinewidth": 0,
             "ticks": ""
            },
            "type": "mesh3d"
           }
          ],
          "parcoords": [
           {
            "line": {
             "colorbar": {
              "outlinewidth": 0,
              "ticks": ""
             }
            },
            "type": "parcoords"
           }
          ],
          "pie": [
           {
            "automargin": true,
            "type": "pie"
           }
          ],
          "scatter": [
           {
            "fillpattern": {
             "fillmode": "overlay",
             "size": 10,
             "solidity": 0.2
            },
            "type": "scatter"
           }
          ],
          "scatter3d": [
           {
            "line": {
             "colorbar": {
              "outlinewidth": 0,
              "ticks": ""
             }
            },
            "marker": {
             "colorbar": {
              "outlinewidth": 0,
              "ticks": ""
             }
            },
            "type": "scatter3d"
           }
          ],
          "scattercarpet": [
           {
            "marker": {
             "colorbar": {
              "outlinewidth": 0,
              "ticks": ""
             }
            },
            "type": "scattercarpet"
           }
          ],
          "scattergeo": [
           {
            "marker": {
             "colorbar": {
              "outlinewidth": 0,
              "ticks": ""
             }
            },
            "type": "scattergeo"
           }
          ],
          "scattergl": [
           {
            "marker": {
             "colorbar": {
              "outlinewidth": 0,
              "ticks": ""
             }
            },
            "type": "scattergl"
           }
          ],
          "scattermapbox": [
           {
            "marker": {
             "colorbar": {
              "outlinewidth": 0,
              "ticks": ""
             }
            },
            "type": "scattermapbox"
           }
          ],
          "scatterpolar": [
           {
            "marker": {
             "colorbar": {
              "outlinewidth": 0,
              "ticks": ""
             }
            },
            "type": "scatterpolar"
           }
          ],
          "scatterpolargl": [
           {
            "marker": {
             "colorbar": {
              "outlinewidth": 0,
              "ticks": ""
             }
            },
            "type": "scatterpolargl"
           }
          ],
          "scatterternary": [
           {
            "marker": {
             "colorbar": {
              "outlinewidth": 0,
              "ticks": ""
             }
            },
            "type": "scatterternary"
           }
          ],
          "surface": [
           {
            "colorbar": {
             "outlinewidth": 0,
             "ticks": ""
            },
            "colorscale": [
             [
              0,
              "#0d0887"
             ],
             [
              0.1111111111111111,
              "#46039f"
             ],
             [
              0.2222222222222222,
              "#7201a8"
             ],
             [
              0.3333333333333333,
              "#9c179e"
             ],
             [
              0.4444444444444444,
              "#bd3786"
             ],
             [
              0.5555555555555556,
              "#d8576b"
             ],
             [
              0.6666666666666666,
              "#ed7953"
             ],
             [
              0.7777777777777778,
              "#fb9f3a"
             ],
             [
              0.8888888888888888,
              "#fdca26"
             ],
             [
              1,
              "#f0f921"
             ]
            ],
            "type": "surface"
           }
          ],
          "table": [
           {
            "cells": {
             "fill": {
              "color": "#EBF0F8"
             },
             "line": {
              "color": "white"
             }
            },
            "header": {
             "fill": {
              "color": "#C8D4E3"
             },
             "line": {
              "color": "white"
             }
            },
            "type": "table"
           }
          ]
         },
         "layout": {
          "annotationdefaults": {
           "arrowcolor": "#2a3f5f",
           "arrowhead": 0,
           "arrowwidth": 1
          },
          "autotypenumbers": "strict",
          "coloraxis": {
           "colorbar": {
            "outlinewidth": 0,
            "ticks": ""
           }
          },
          "colorscale": {
           "diverging": [
            [
             0,
             "#8e0152"
            ],
            [
             0.1,
             "#c51b7d"
            ],
            [
             0.2,
             "#de77ae"
            ],
            [
             0.3,
             "#f1b6da"
            ],
            [
             0.4,
             "#fde0ef"
            ],
            [
             0.5,
             "#f7f7f7"
            ],
            [
             0.6,
             "#e6f5d0"
            ],
            [
             0.7,
             "#b8e186"
            ],
            [
             0.8,
             "#7fbc41"
            ],
            [
             0.9,
             "#4d9221"
            ],
            [
             1,
             "#276419"
            ]
           ],
           "sequential": [
            [
             0,
             "#0d0887"
            ],
            [
             0.1111111111111111,
             "#46039f"
            ],
            [
             0.2222222222222222,
             "#7201a8"
            ],
            [
             0.3333333333333333,
             "#9c179e"
            ],
            [
             0.4444444444444444,
             "#bd3786"
            ],
            [
             0.5555555555555556,
             "#d8576b"
            ],
            [
             0.6666666666666666,
             "#ed7953"
            ],
            [
             0.7777777777777778,
             "#fb9f3a"
            ],
            [
             0.8888888888888888,
             "#fdca26"
            ],
            [
             1,
             "#f0f921"
            ]
           ],
           "sequentialminus": [
            [
             0,
             "#0d0887"
            ],
            [
             0.1111111111111111,
             "#46039f"
            ],
            [
             0.2222222222222222,
             "#7201a8"
            ],
            [
             0.3333333333333333,
             "#9c179e"
            ],
            [
             0.4444444444444444,
             "#bd3786"
            ],
            [
             0.5555555555555556,
             "#d8576b"
            ],
            [
             0.6666666666666666,
             "#ed7953"
            ],
            [
             0.7777777777777778,
             "#fb9f3a"
            ],
            [
             0.8888888888888888,
             "#fdca26"
            ],
            [
             1,
             "#f0f921"
            ]
           ]
          },
          "colorway": [
           "#636efa",
           "#EF553B",
           "#00cc96",
           "#ab63fa",
           "#FFA15A",
           "#19d3f3",
           "#FF6692",
           "#B6E880",
           "#FF97FF",
           "#FECB52"
          ],
          "font": {
           "color": "#2a3f5f"
          },
          "geo": {
           "bgcolor": "white",
           "lakecolor": "white",
           "landcolor": "#E5ECF6",
           "showlakes": true,
           "showland": true,
           "subunitcolor": "white"
          },
          "hoverlabel": {
           "align": "left"
          },
          "hovermode": "closest",
          "mapbox": {
           "style": "light"
          },
          "paper_bgcolor": "white",
          "plot_bgcolor": "#E5ECF6",
          "polar": {
           "angularaxis": {
            "gridcolor": "white",
            "linecolor": "white",
            "ticks": ""
           },
           "bgcolor": "#E5ECF6",
           "radialaxis": {
            "gridcolor": "white",
            "linecolor": "white",
            "ticks": ""
           }
          },
          "scene": {
           "xaxis": {
            "backgroundcolor": "#E5ECF6",
            "gridcolor": "white",
            "gridwidth": 2,
            "linecolor": "white",
            "showbackground": true,
            "ticks": "",
            "zerolinecolor": "white"
           },
           "yaxis": {
            "backgroundcolor": "#E5ECF6",
            "gridcolor": "white",
            "gridwidth": 2,
            "linecolor": "white",
            "showbackground": true,
            "ticks": "",
            "zerolinecolor": "white"
           },
           "zaxis": {
            "backgroundcolor": "#E5ECF6",
            "gridcolor": "white",
            "gridwidth": 2,
            "linecolor": "white",
            "showbackground": true,
            "ticks": "",
            "zerolinecolor": "white"
           }
          },
          "shapedefaults": {
           "line": {
            "color": "#2a3f5f"
           }
          },
          "ternary": {
           "aaxis": {
            "gridcolor": "white",
            "linecolor": "white",
            "ticks": ""
           },
           "baxis": {
            "gridcolor": "white",
            "linecolor": "white",
            "ticks": ""
           },
           "bgcolor": "#E5ECF6",
           "caxis": {
            "gridcolor": "white",
            "linecolor": "white",
            "ticks": ""
           }
          },
          "title": {
           "x": 0.05
          },
          "xaxis": {
           "automargin": true,
           "gridcolor": "white",
           "linecolor": "white",
           "ticks": "",
           "title": {
            "standoff": 15
           },
           "zerolinecolor": "white",
           "zerolinewidth": 2
          },
          "yaxis": {
           "automargin": true,
           "gridcolor": "white",
           "linecolor": "white",
           "ticks": "",
           "title": {
            "standoff": 15
           },
           "zerolinecolor": "white",
           "zerolinewidth": 2
          }
         }
        },
        "title": {
         "text": "Educação Secundária Feminima"
        }
       }
      }
     },
     "metadata": {},
     "output_type": "display_data"
    },
    {
     "data": {
      "application/vnd.plotly.v1+json": {
       "config": {
        "plotlyServerURL": "https://plot.ly"
       },
       "data": [
        {
         "geo": "geo",
         "hovertemplate": "M_educação_secundário=%{marker.color}<br>País=%{location}<extra></extra>",
         "legendgroup": "",
         "locationmode": "country names",
         "locations": [
          "Switzerland",
          "Norway",
          "Iceland",
          "Australia",
          "Denmark",
          "Sweden",
          "Ireland",
          "Germany",
          "Netherlands",
          "Finland",
          "Singapore",
          "Belgium",
          "New Zealand",
          "Canada",
          "Luxembourg",
          "United Kingdom",
          "Japan",
          "South Korea",
          "United States",
          "Israel",
          "Malta",
          "Slovenia",
          "Austria",
          "United Arab Emirates",
          "Spain",
          "France",
          "Cyprus",
          "Italy",
          "Estonia",
          "Czechia",
          "Greece",
          "Poland",
          "Bahrain",
          "Lithuania",
          "Saudi Arabia",
          "Portugal",
          "Latvia",
          "Croatia",
          "Chile",
          "Qatar",
          "Slovakia",
          "Hungary",
          "Argentina",
          "Türkiye",
          "Montenegro",
          "Kuwait",
          "Brunei Darussalam",
          "Russian Federation",
          "Romania",
          "Oman",
          "Bahamas",
          "Kazakhstan",
          "Trinidad and Tobago",
          "Costa Rica",
          "Uruguay",
          "Belarus",
          "Panama",
          "Malaysia",
          "Georgia",
          "Mauritius",
          "Serbia",
          "Thailand",
          "Albania",
          "Bulgaria",
          "Barbados",
          "Sri Lanka",
          "Bosnia and Herzegovina",
          "Iran",
          "Ukraine",
          "North Macedonia",
          "China",
          "Dominican Republic",
          "Moldova",
          "Cuba",
          "Peru",
          "Armenia",
          "Mexico",
          "Brazil",
          "Colombia",
          "Saint Vincent and the Grenadines",
          "Maldives",
          "Algeria",
          "Azerbaijan",
          "Tonga",
          "Turkmenistan",
          "Ecuador",
          "Mongolia",
          "Egypt",
          "Tunisia",
          "Fiji",
          "Suriname",
          "Uzbekistan",
          "Jordan",
          "Libya",
          "Paraguay",
          "Saint Lucia",
          "Guyana",
          "South Africa",
          "Jamaica",
          "Samoa",
          "Gabon",
          "Lebanon",
          "Indonesia",
          "Viet Nam",
          "Philippines",
          "Botswana",
          "Bolivia",
          "Kyrgyzstan",
          "Venezuela",
          "Iraq",
          "Tajikistan",
          "Belize",
          "Morocco",
          "El Salvador",
          "Nicaragua",
          "Bhutan",
          "Cabo Verde",
          "Bangladesh",
          "India",
          "Ghana",
          "Guatemala",
          "Honduras",
          "Sao Tome and Principe",
          "Namibia",
          "Lao People's Democratic Republic",
          "Timor-Leste",
          "Nepal",
          "Eswatini",
          "Cambodia",
          "Zimbabwe",
          "Angola",
          "Myanmar",
          "Syrian Arab Republic",
          "Cameroon",
          "Kenya",
          "Congo",
          "Zambia",
          "Papua New Guinea",
          "Mauritania",
          "Côte d'Ivoire",
          "Tanzania",
          "Pakistan",
          "Togo",
          "Haiti",
          "Nigeria",
          "Rwanda",
          "Benin",
          "Uganda",
          "Lesotho",
          "Malawi",
          "Senegal",
          "Sudan",
          "Madagascar",
          "Gambia",
          "Ethiopia",
          "Guinea-Bissau",
          "Liberia",
          "Congo",
          "Afghanistan",
          "Sierra Leone",
          "Guinea",
          "Yemen",
          "Burkina Faso",
          "Mozambique",
          "Mali",
          "Burundi",
          "Central African Republic",
          "Niger",
          "Chad",
          "South Sudan"
         ],
         "marker": {
          "color": [
           97.5,
           99.3,
           99.7,
           94.4,
           95.2,
           92.2,
           86,
           96.5,
           92.7,
           98.5,
           85.9,
           89.7,
           81.8,
           100,
           100,
           99.8,
           92.7,
           93.1,
           96.4,
           93.7,
           88.1,
           98.7,
           100,
           85.6,
           83.2,
           87.9,
           84.8,
           86.1,
           98.1,
           99.8,
           77.8,
           90.7,
           83.1,
           97.9,
           80.9,
           61.9,
           99.3,
           100,
           83.5,
           69.6,
           99.2,
           98.8,
           71.4,
           75.9,
           99.2,
           55.2,
           71.2,
           95.9,
           93.7,
           99.9,
           89.9,
           100,
           80.6,
           54.5,
           55.5,
           99,
           68.7,
           78.4,
           98.3,
           70.8,
           95.3,
           51.7,
           93,
           96.5,
           86,
           84.2,
           94,
           76,
           95.8,
           75.1,
           85.4,
           76.9,
           98,
           91.9,
           69.9,
           97.1,
           66.7,
           59.1,
           56.5,
           39.6,
           41.5,
           56.9,
           97.6,
           93.1,
           92.2,
           52,
           73,
           76.6,
           51.8,
           87.9,
           70.7,
           100,
           84.2,
           45.1,
           54,
           43.8,
           62.2,
           87.7,
           66.4,
           71.6,
           84,
           55.6,
           58.2,
           69.6,
           69.1,
           91.8,
           69.7,
           99.8,
           75.4,
           52.9,
           94.6,
           49.8,
           37.1,
           51.4,
           49.7,
           32.3,
           31.2,
           58.5,
           53.8,
           73.2,
           35.8,
           44.8,
           48.4,
           44.1,
           47.7,
           41.8,
           44.7,
           36.2,
           31.7,
           72.4,
           51.5,
           47.8,
           43.4,
           55,
           37.7,
           52,
           56.8,
           15.5,
           21.9,
           32.2,
           19.1,
           28.7,
           42.3,
           41,
           55.3,
           16.3,
           34.4,
           36.3,
           24.6,
           28.4,
           30.9,
           20.1,
           29.8,
           43.2,
           20.1,
           22.8,
           39.2,
           69.1,
           14.9,
           51.5,
           19.7,
           37.5,
           17.1,
           20.2,
           15.5,
           13,
           31.6,
           15.2,
           24.4,
           36.4
          ],
          "coloraxis": "coloraxis",
          "size": [
           97.5,
           99.3,
           99.7,
           94.4,
           95.2,
           92.2,
           86,
           96.5,
           92.7,
           98.5,
           85.9,
           89.7,
           81.8,
           100,
           100,
           99.8,
           92.7,
           93.1,
           96.4,
           93.7,
           88.1,
           98.7,
           100,
           85.6,
           83.2,
           87.9,
           84.8,
           86.1,
           98.1,
           99.8,
           77.8,
           90.7,
           83.1,
           97.9,
           80.9,
           61.9,
           99.3,
           100,
           83.5,
           69.6,
           99.2,
           98.8,
           71.4,
           75.9,
           99.2,
           55.2,
           71.2,
           95.9,
           93.7,
           99.9,
           89.9,
           100,
           80.6,
           54.5,
           55.5,
           99,
           68.7,
           78.4,
           98.3,
           70.8,
           95.3,
           51.7,
           93,
           96.5,
           86,
           84.2,
           94,
           76,
           95.8,
           75.1,
           85.4,
           76.9,
           98,
           91.9,
           69.9,
           97.1,
           66.7,
           59.1,
           56.5,
           39.6,
           41.5,
           56.9,
           97.6,
           93.1,
           92.2,
           52,
           73,
           76.6,
           51.8,
           87.9,
           70.7,
           100,
           84.2,
           45.1,
           54,
           43.8,
           62.2,
           87.7,
           66.4,
           71.6,
           84,
           55.6,
           58.2,
           69.6,
           69.1,
           91.8,
           69.7,
           99.8,
           75.4,
           52.9,
           94.6,
           49.8,
           37.1,
           51.4,
           49.7,
           32.3,
           31.2,
           58.5,
           53.8,
           73.2,
           35.8,
           44.8,
           48.4,
           44.1,
           47.7,
           41.8,
           44.7,
           36.2,
           31.7,
           72.4,
           51.5,
           47.8,
           43.4,
           55,
           37.7,
           52,
           56.8,
           15.5,
           21.9,
           32.2,
           19.1,
           28.7,
           42.3,
           41,
           55.3,
           16.3,
           34.4,
           36.3,
           24.6,
           28.4,
           30.9,
           20.1,
           29.8,
           43.2,
           20.1,
           22.8,
           39.2,
           69.1,
           14.9,
           51.5,
           19.7,
           37.5,
           17.1,
           20.2,
           15.5,
           13,
           31.6,
           15.2,
           24.4,
           36.4
          ],
          "sizemode": "area",
          "sizeref": 0.4444444444444444,
          "symbol": "circle"
         },
         "mode": "markers",
         "name": "",
         "showlegend": false,
         "type": "scattergeo"
        }
       ],
       "layout": {
        "coloraxis": {
         "colorbar": {
          "title": {
           "text": "M_educação_secundário"
          }
         },
         "colorscale": [
          [
           0,
           "rgb(0,0,0)"
          ],
          [
           0.3333333333333333,
           "rgb(230,0,0)"
          ],
          [
           0.6666666666666666,
           "rgb(255,210,0)"
          ],
          [
           1,
           "rgb(255,255,255)"
          ]
         ]
        },
        "geo": {
         "center": {},
         "domain": {
          "x": [
           0,
           1
          ],
          "y": [
           0,
           1
          ]
         },
         "scope": "world"
        },
        "legend": {
         "itemsizing": "constant",
         "tracegroupgap": 0
        },
        "template": {
         "data": {
          "bar": [
           {
            "error_x": {
             "color": "#2a3f5f"
            },
            "error_y": {
             "color": "#2a3f5f"
            },
            "marker": {
             "line": {
              "color": "#E5ECF6",
              "width": 0.5
             },
             "pattern": {
              "fillmode": "overlay",
              "size": 10,
              "solidity": 0.2
             }
            },
            "type": "bar"
           }
          ],
          "barpolar": [
           {
            "marker": {
             "line": {
              "color": "#E5ECF6",
              "width": 0.5
             },
             "pattern": {
              "fillmode": "overlay",
              "size": 10,
              "solidity": 0.2
             }
            },
            "type": "barpolar"
           }
          ],
          "carpet": [
           {
            "aaxis": {
             "endlinecolor": "#2a3f5f",
             "gridcolor": "white",
             "linecolor": "white",
             "minorgridcolor": "white",
             "startlinecolor": "#2a3f5f"
            },
            "baxis": {
             "endlinecolor": "#2a3f5f",
             "gridcolor": "white",
             "linecolor": "white",
             "minorgridcolor": "white",
             "startlinecolor": "#2a3f5f"
            },
            "type": "carpet"
           }
          ],
          "choropleth": [
           {
            "colorbar": {
             "outlinewidth": 0,
             "ticks": ""
            },
            "type": "choropleth"
           }
          ],
          "contour": [
           {
            "colorbar": {
             "outlinewidth": 0,
             "ticks": ""
            },
            "colorscale": [
             [
              0,
              "#0d0887"
             ],
             [
              0.1111111111111111,
              "#46039f"
             ],
             [
              0.2222222222222222,
              "#7201a8"
             ],
             [
              0.3333333333333333,
              "#9c179e"
             ],
             [
              0.4444444444444444,
              "#bd3786"
             ],
             [
              0.5555555555555556,
              "#d8576b"
             ],
             [
              0.6666666666666666,
              "#ed7953"
             ],
             [
              0.7777777777777778,
              "#fb9f3a"
             ],
             [
              0.8888888888888888,
              "#fdca26"
             ],
             [
              1,
              "#f0f921"
             ]
            ],
            "type": "contour"
           }
          ],
          "contourcarpet": [
           {
            "colorbar": {
             "outlinewidth": 0,
             "ticks": ""
            },
            "type": "contourcarpet"
           }
          ],
          "heatmap": [
           {
            "colorbar": {
             "outlinewidth": 0,
             "ticks": ""
            },
            "colorscale": [
             [
              0,
              "#0d0887"
             ],
             [
              0.1111111111111111,
              "#46039f"
             ],
             [
              0.2222222222222222,
              "#7201a8"
             ],
             [
              0.3333333333333333,
              "#9c179e"
             ],
             [
              0.4444444444444444,
              "#bd3786"
             ],
             [
              0.5555555555555556,
              "#d8576b"
             ],
             [
              0.6666666666666666,
              "#ed7953"
             ],
             [
              0.7777777777777778,
              "#fb9f3a"
             ],
             [
              0.8888888888888888,
              "#fdca26"
             ],
             [
              1,
              "#f0f921"
             ]
            ],
            "type": "heatmap"
           }
          ],
          "heatmapgl": [
           {
            "colorbar": {
             "outlinewidth": 0,
             "ticks": ""
            },
            "colorscale": [
             [
              0,
              "#0d0887"
             ],
             [
              0.1111111111111111,
              "#46039f"
             ],
             [
              0.2222222222222222,
              "#7201a8"
             ],
             [
              0.3333333333333333,
              "#9c179e"
             ],
             [
              0.4444444444444444,
              "#bd3786"
             ],
             [
              0.5555555555555556,
              "#d8576b"
             ],
             [
              0.6666666666666666,
              "#ed7953"
             ],
             [
              0.7777777777777778,
              "#fb9f3a"
             ],
             [
              0.8888888888888888,
              "#fdca26"
             ],
             [
              1,
              "#f0f921"
             ]
            ],
            "type": "heatmapgl"
           }
          ],
          "histogram": [
           {
            "marker": {
             "pattern": {
              "fillmode": "overlay",
              "size": 10,
              "solidity": 0.2
             }
            },
            "type": "histogram"
           }
          ],
          "histogram2d": [
           {
            "colorbar": {
             "outlinewidth": 0,
             "ticks": ""
            },
            "colorscale": [
             [
              0,
              "#0d0887"
             ],
             [
              0.1111111111111111,
              "#46039f"
             ],
             [
              0.2222222222222222,
              "#7201a8"
             ],
             [
              0.3333333333333333,
              "#9c179e"
             ],
             [
              0.4444444444444444,
              "#bd3786"
             ],
             [
              0.5555555555555556,
              "#d8576b"
             ],
             [
              0.6666666666666666,
              "#ed7953"
             ],
             [
              0.7777777777777778,
              "#fb9f3a"
             ],
             [
              0.8888888888888888,
              "#fdca26"
             ],
             [
              1,
              "#f0f921"
             ]
            ],
            "type": "histogram2d"
           }
          ],
          "histogram2dcontour": [
           {
            "colorbar": {
             "outlinewidth": 0,
             "ticks": ""
            },
            "colorscale": [
             [
              0,
              "#0d0887"
             ],
             [
              0.1111111111111111,
              "#46039f"
             ],
             [
              0.2222222222222222,
              "#7201a8"
             ],
             [
              0.3333333333333333,
              "#9c179e"
             ],
             [
              0.4444444444444444,
              "#bd3786"
             ],
             [
              0.5555555555555556,
              "#d8576b"
             ],
             [
              0.6666666666666666,
              "#ed7953"
             ],
             [
              0.7777777777777778,
              "#fb9f3a"
             ],
             [
              0.8888888888888888,
              "#fdca26"
             ],
             [
              1,
              "#f0f921"
             ]
            ],
            "type": "histogram2dcontour"
           }
          ],
          "mesh3d": [
           {
            "colorbar": {
             "outlinewidth": 0,
             "ticks": ""
            },
            "type": "mesh3d"
           }
          ],
          "parcoords": [
           {
            "line": {
             "colorbar": {
              "outlinewidth": 0,
              "ticks": ""
             }
            },
            "type": "parcoords"
           }
          ],
          "pie": [
           {
            "automargin": true,
            "type": "pie"
           }
          ],
          "scatter": [
           {
            "fillpattern": {
             "fillmode": "overlay",
             "size": 10,
             "solidity": 0.2
            },
            "type": "scatter"
           }
          ],
          "scatter3d": [
           {
            "line": {
             "colorbar": {
              "outlinewidth": 0,
              "ticks": ""
             }
            },
            "marker": {
             "colorbar": {
              "outlinewidth": 0,
              "ticks": ""
             }
            },
            "type": "scatter3d"
           }
          ],
          "scattercarpet": [
           {
            "marker": {
             "colorbar": {
              "outlinewidth": 0,
              "ticks": ""
             }
            },
            "type": "scattercarpet"
           }
          ],
          "scattergeo": [
           {
            "marker": {
             "colorbar": {
              "outlinewidth": 0,
              "ticks": ""
             }
            },
            "type": "scattergeo"
           }
          ],
          "scattergl": [
           {
            "marker": {
             "colorbar": {
              "outlinewidth": 0,
              "ticks": ""
             }
            },
            "type": "scattergl"
           }
          ],
          "scattermapbox": [
           {
            "marker": {
             "colorbar": {
              "outlinewidth": 0,
              "ticks": ""
             }
            },
            "type": "scattermapbox"
           }
          ],
          "scatterpolar": [
           {
            "marker": {
             "colorbar": {
              "outlinewidth": 0,
              "ticks": ""
             }
            },
            "type": "scatterpolar"
           }
          ],
          "scatterpolargl": [
           {
            "marker": {
             "colorbar": {
              "outlinewidth": 0,
              "ticks": ""
             }
            },
            "type": "scatterpolargl"
           }
          ],
          "scatterternary": [
           {
            "marker": {
             "colorbar": {
              "outlinewidth": 0,
              "ticks": ""
             }
            },
            "type": "scatterternary"
           }
          ],
          "surface": [
           {
            "colorbar": {
             "outlinewidth": 0,
             "ticks": ""
            },
            "colorscale": [
             [
              0,
              "#0d0887"
             ],
             [
              0.1111111111111111,
              "#46039f"
             ],
             [
              0.2222222222222222,
              "#7201a8"
             ],
             [
              0.3333333333333333,
              "#9c179e"
             ],
             [
              0.4444444444444444,
              "#bd3786"
             ],
             [
              0.5555555555555556,
              "#d8576b"
             ],
             [
              0.6666666666666666,
              "#ed7953"
             ],
             [
              0.7777777777777778,
              "#fb9f3a"
             ],
             [
              0.8888888888888888,
              "#fdca26"
             ],
             [
              1,
              "#f0f921"
             ]
            ],
            "type": "surface"
           }
          ],
          "table": [
           {
            "cells": {
             "fill": {
              "color": "#EBF0F8"
             },
             "line": {
              "color": "white"
             }
            },
            "header": {
             "fill": {
              "color": "#C8D4E3"
             },
             "line": {
              "color": "white"
             }
            },
            "type": "table"
           }
          ]
         },
         "layout": {
          "annotationdefaults": {
           "arrowcolor": "#2a3f5f",
           "arrowhead": 0,
           "arrowwidth": 1
          },
          "autotypenumbers": "strict",
          "coloraxis": {
           "colorbar": {
            "outlinewidth": 0,
            "ticks": ""
           }
          },
          "colorscale": {
           "diverging": [
            [
             0,
             "#8e0152"
            ],
            [
             0.1,
             "#c51b7d"
            ],
            [
             0.2,
             "#de77ae"
            ],
            [
             0.3,
             "#f1b6da"
            ],
            [
             0.4,
             "#fde0ef"
            ],
            [
             0.5,
             "#f7f7f7"
            ],
            [
             0.6,
             "#e6f5d0"
            ],
            [
             0.7,
             "#b8e186"
            ],
            [
             0.8,
             "#7fbc41"
            ],
            [
             0.9,
             "#4d9221"
            ],
            [
             1,
             "#276419"
            ]
           ],
           "sequential": [
            [
             0,
             "#0d0887"
            ],
            [
             0.1111111111111111,
             "#46039f"
            ],
            [
             0.2222222222222222,
             "#7201a8"
            ],
            [
             0.3333333333333333,
             "#9c179e"
            ],
            [
             0.4444444444444444,
             "#bd3786"
            ],
            [
             0.5555555555555556,
             "#d8576b"
            ],
            [
             0.6666666666666666,
             "#ed7953"
            ],
            [
             0.7777777777777778,
             "#fb9f3a"
            ],
            [
             0.8888888888888888,
             "#fdca26"
            ],
            [
             1,
             "#f0f921"
            ]
           ],
           "sequentialminus": [
            [
             0,
             "#0d0887"
            ],
            [
             0.1111111111111111,
             "#46039f"
            ],
            [
             0.2222222222222222,
             "#7201a8"
            ],
            [
             0.3333333333333333,
             "#9c179e"
            ],
            [
             0.4444444444444444,
             "#bd3786"
            ],
            [
             0.5555555555555556,
             "#d8576b"
            ],
            [
             0.6666666666666666,
             "#ed7953"
            ],
            [
             0.7777777777777778,
             "#fb9f3a"
            ],
            [
             0.8888888888888888,
             "#fdca26"
            ],
            [
             1,
             "#f0f921"
            ]
           ]
          },
          "colorway": [
           "#636efa",
           "#EF553B",
           "#00cc96",
           "#ab63fa",
           "#FFA15A",
           "#19d3f3",
           "#FF6692",
           "#B6E880",
           "#FF97FF",
           "#FECB52"
          ],
          "font": {
           "color": "#2a3f5f"
          },
          "geo": {
           "bgcolor": "white",
           "lakecolor": "white",
           "landcolor": "#E5ECF6",
           "showlakes": true,
           "showland": true,
           "subunitcolor": "white"
          },
          "hoverlabel": {
           "align": "left"
          },
          "hovermode": "closest",
          "mapbox": {
           "style": "light"
          },
          "paper_bgcolor": "white",
          "plot_bgcolor": "#E5ECF6",
          "polar": {
           "angularaxis": {
            "gridcolor": "white",
            "linecolor": "white",
            "ticks": ""
           },
           "bgcolor": "#E5ECF6",
           "radialaxis": {
            "gridcolor": "white",
            "linecolor": "white",
            "ticks": ""
           }
          },
          "scene": {
           "xaxis": {
            "backgroundcolor": "#E5ECF6",
            "gridcolor": "white",
            "gridwidth": 2,
            "linecolor": "white",
            "showbackground": true,
            "ticks": "",
            "zerolinecolor": "white"
           },
           "yaxis": {
            "backgroundcolor": "#E5ECF6",
            "gridcolor": "white",
            "gridwidth": 2,
            "linecolor": "white",
            "showbackground": true,
            "ticks": "",
            "zerolinecolor": "white"
           },
           "zaxis": {
            "backgroundcolor": "#E5ECF6",
            "gridcolor": "white",
            "gridwidth": 2,
            "linecolor": "white",
            "showbackground": true,
            "ticks": "",
            "zerolinecolor": "white"
           }
          },
          "shapedefaults": {
           "line": {
            "color": "#2a3f5f"
           }
          },
          "ternary": {
           "aaxis": {
            "gridcolor": "white",
            "linecolor": "white",
            "ticks": ""
           },
           "baxis": {
            "gridcolor": "white",
            "linecolor": "white",
            "ticks": ""
           },
           "bgcolor": "#E5ECF6",
           "caxis": {
            "gridcolor": "white",
            "linecolor": "white",
            "ticks": ""
           }
          },
          "title": {
           "x": 0.05
          },
          "xaxis": {
           "automargin": true,
           "gridcolor": "white",
           "linecolor": "white",
           "ticks": "",
           "title": {
            "standoff": 15
           },
           "zerolinecolor": "white",
           "zerolinewidth": 2
          },
          "yaxis": {
           "automargin": true,
           "gridcolor": "white",
           "linecolor": "white",
           "ticks": "",
           "title": {
            "standoff": 15
           },
           "zerolinecolor": "white",
           "zerolinewidth": 2
          }
         }
        },
        "title": {
         "text": "Educação Secundária Masculina"
        }
       }
      }
     },
     "metadata": {},
     "output_type": "display_data"
    }
   ],
   "source": [
    "fig = px.scatter_geo(df, locations='País',locationmode=\"country names\",scope=\"world\",\n",
    "color=\"F_educação_secundária\",size=\"F_educação_secundária\",size_max=15,title=\"Educação Secundária Feminima\",color_continuous_scale=\"turbo\")\n",
    "fig.show()\n",
    "\n",
    "fig = px.scatter_geo(df, locations='País',locationmode=\"country names\",scope=\"world\",\n",
    "color=\"M_educação_secundário\",size=\"M_educação_secundário\",size_max=15,title=\"Educação Secundária Masculina\",color_continuous_scale=\"hot\")\n",
    "fig.show()"
   ]
  },
  {
   "cell_type": "code",
   "execution_count": 10,
   "metadata": {},
   "outputs": [
    {
     "data": {
      "application/vnd.plotly.v1+json": {
       "config": {
        "plotlyServerURL": "https://plot.ly"
       },
       "data": [
        {
         "geo": "geo",
         "hovertemplate": "F_Trabalho_força=%{marker.color}<br>País=%{location}<extra></extra>",
         "legendgroup": "",
         "locationmode": "country names",
         "locations": [
          "Switzerland",
          "Norway",
          "Iceland",
          "Australia",
          "Denmark",
          "Sweden",
          "Ireland",
          "Germany",
          "Netherlands",
          "Finland",
          "Singapore",
          "Belgium",
          "New Zealand",
          "Canada",
          "Luxembourg",
          "United Kingdom",
          "Japan",
          "South Korea",
          "United States",
          "Israel",
          "Malta",
          "Slovenia",
          "Austria",
          "United Arab Emirates",
          "Spain",
          "France",
          "Cyprus",
          "Italy",
          "Estonia",
          "Czechia",
          "Greece",
          "Poland",
          "Bahrain",
          "Lithuania",
          "Saudi Arabia",
          "Portugal",
          "Latvia",
          "Croatia",
          "Chile",
          "Qatar",
          "Slovakia",
          "Hungary",
          "Argentina",
          "Türkiye",
          "Montenegro",
          "Kuwait",
          "Brunei Darussalam",
          "Russian Federation",
          "Romania",
          "Oman",
          "Bahamas",
          "Kazakhstan",
          "Trinidad and Tobago",
          "Costa Rica",
          "Uruguay",
          "Belarus",
          "Panama",
          "Malaysia",
          "Georgia",
          "Mauritius",
          "Serbia",
          "Thailand",
          "Albania",
          "Bulgaria",
          "Barbados",
          "Sri Lanka",
          "Bosnia and Herzegovina",
          "Iran",
          "Ukraine",
          "North Macedonia",
          "China",
          "Dominican Republic",
          "Moldova",
          "Cuba",
          "Peru",
          "Armenia",
          "Mexico",
          "Brazil",
          "Colombia",
          "Saint Vincent and the Grenadines",
          "Maldives",
          "Algeria",
          "Azerbaijan",
          "Tonga",
          "Turkmenistan",
          "Ecuador",
          "Mongolia",
          "Egypt",
          "Tunisia",
          "Fiji",
          "Suriname",
          "Uzbekistan",
          "Jordan",
          "Libya",
          "Paraguay",
          "Saint Lucia",
          "Guyana",
          "South Africa",
          "Jamaica",
          "Samoa",
          "Gabon",
          "Lebanon",
          "Indonesia",
          "Viet Nam",
          "Philippines",
          "Botswana",
          "Bolivia",
          "Kyrgyzstan",
          "Venezuela",
          "Iraq",
          "Tajikistan",
          "Belize",
          "Morocco",
          "El Salvador",
          "Nicaragua",
          "Bhutan",
          "Cabo Verde",
          "Bangladesh",
          "India",
          "Ghana",
          "Guatemala",
          "Honduras",
          "Sao Tome and Principe",
          "Namibia",
          "Lao People's Democratic Republic",
          "Timor-Leste",
          "Nepal",
          "Eswatini",
          "Cambodia",
          "Zimbabwe",
          "Angola",
          "Myanmar",
          "Syrian Arab Republic",
          "Cameroon",
          "Kenya",
          "Congo",
          "Zambia",
          "Papua New Guinea",
          "Mauritania",
          "Côte d'Ivoire",
          "Tanzania",
          "Pakistan",
          "Togo",
          "Haiti",
          "Nigeria",
          "Rwanda",
          "Benin",
          "Uganda",
          "Lesotho",
          "Malawi",
          "Senegal",
          "Sudan",
          "Madagascar",
          "Gambia",
          "Ethiopia",
          "Guinea-Bissau",
          "Liberia",
          "Congo",
          "Afghanistan",
          "Sierra Leone",
          "Guinea",
          "Yemen",
          "Burkina Faso",
          "Mozambique",
          "Mali",
          "Burundi",
          "Central African Republic",
          "Niger",
          "Chad",
          "South Sudan"
         ],
         "marker": {
          "color": [
           61.7,
           60.3,
           61.7,
           61.1,
           57.7,
           61.7,
           56.5,
           56.8,
           62.4,
           56.5,
           59.4,
           49.8,
           65.1,
           60.8,
           58.5,
           58,
           53.3,
           53.4,
           55.2,
           58.5,
           53.1,
           53.8,
           55.5,
           46.5,
           52.7,
           51.9,
           56.6,
           39.9,
           57.5,
           51.7,
           43.3,
           49.2,
           42.4,
           57.3,
           30.9,
           54,
           54.5,
           45.9,
           44.2,
           57.2,
           54.7,
           52.1,
           50,
           31.8,
           47.8,
           47.4,
           54.1,
           54.5,
           42.8,
           28.7,
           65.6,
           63.3,
           46.7,
           47.5,
           54.8,
           57.3,
           50.4,
           51.2,
           51,
           43.4,
           46.6,
           59,
           50.7,
           49.1,
           56.1,
           30.9,
           32.3,
           14.4,
           48.1,
           42.4,
           61.6,
           49.6,
           33.9,
           40.3,
           66.1,
           42.7,
           43.8,
           49.1,
           52.2,
           52.9,
           34.3,
           15.7,
           60.4,
           37.3,
           36.5,
           53.3,
           51.5,
           15.4,
           25.5,
           37.7,
           43.4,
           44.9,
           13.5,
           34.1,
           59.6,
           63.2,
           40.3,
           46.2,
           56.1,
           30.7,
           39.1,
           20.8,
           53.7,
           69.6,
           43.8,
           56.3,
           68.3,
           42.1,
           34.3,
           11.1,
           30.2,
           46.9,
           22,
           43.6,
           46.8,
           51.6,
           46.9,
           34.9,
           19.2,
           64.5,
           37.4,
           42.3,
           37.1,
           54.5,
           74.8,
           61,
           78.7,
           45.6,
           74,
           79.3,
           74,
           41,
           15.7,
           70.2,
           71,
           65.1,
           69.2,
           46.3,
           27.4,
           45.9,
           79.5,
           20.7,
           55.5,
           60.7,
           47.9,
           82.5,
           69.3,
           64.2,
           56.1,
           71.6,
           33.5,
           28.7,
           81.5,
           48.9,
           72.3,
           63.9,
           69.8,
           61.2,
           14.8,
           56.1,
           62.1,
           6,
           57.2,
           77.7,
           57.7,
           79,
           63.3,
           61.7,
           46.9,
           70.4
          ],
          "coloraxis": "coloraxis",
          "size": [
           61.7,
           60.3,
           61.7,
           61.1,
           57.7,
           61.7,
           56.5,
           56.8,
           62.4,
           56.5,
           59.4,
           49.8,
           65.1,
           60.8,
           58.5,
           58,
           53.3,
           53.4,
           55.2,
           58.5,
           53.1,
           53.8,
           55.5,
           46.5,
           52.7,
           51.9,
           56.6,
           39.9,
           57.5,
           51.7,
           43.3,
           49.2,
           42.4,
           57.3,
           30.9,
           54,
           54.5,
           45.9,
           44.2,
           57.2,
           54.7,
           52.1,
           50,
           31.8,
           47.8,
           47.4,
           54.1,
           54.5,
           42.8,
           28.7,
           65.6,
           63.3,
           46.7,
           47.5,
           54.8,
           57.3,
           50.4,
           51.2,
           51,
           43.4,
           46.6,
           59,
           50.7,
           49.1,
           56.1,
           30.9,
           32.3,
           14.4,
           48.1,
           42.4,
           61.6,
           49.6,
           33.9,
           40.3,
           66.1,
           42.7,
           43.8,
           49.1,
           52.2,
           52.9,
           34.3,
           15.7,
           60.4,
           37.3,
           36.5,
           53.3,
           51.5,
           15.4,
           25.5,
           37.7,
           43.4,
           44.9,
           13.5,
           34.1,
           59.6,
           63.2,
           40.3,
           46.2,
           56.1,
           30.7,
           39.1,
           20.8,
           53.7,
           69.6,
           43.8,
           56.3,
           68.3,
           42.1,
           34.3,
           11.1,
           30.2,
           46.9,
           22,
           43.6,
           46.8,
           51.6,
           46.9,
           34.9,
           19.2,
           64.5,
           37.4,
           42.3,
           37.1,
           54.5,
           74.8,
           61,
           78.7,
           45.6,
           74,
           79.3,
           74,
           41,
           15.7,
           70.2,
           71,
           65.1,
           69.2,
           46.3,
           27.4,
           45.9,
           79.5,
           20.7,
           55.5,
           60.7,
           47.9,
           82.5,
           69.3,
           64.2,
           56.1,
           71.6,
           33.5,
           28.7,
           81.5,
           48.9,
           72.3,
           63.9,
           69.8,
           61.2,
           14.8,
           56.1,
           62.1,
           6,
           57.2,
           77.7,
           57.7,
           79,
           63.3,
           61.7,
           46.9,
           70.4
          ],
          "sizemode": "area",
          "sizeref": 0.36666666666666664,
          "symbol": "circle"
         },
         "mode": "markers",
         "name": "",
         "showlegend": false,
         "type": "scattergeo"
        }
       ],
       "layout": {
        "coloraxis": {
         "colorbar": {
          "title": {
           "text": "F_Trabalho_força"
          }
         },
         "colorscale": [
          [
           0,
           "rgb(51, 19, 23)"
          ],
          [
           0.09090909090909091,
           "rgb(79, 28, 33)"
          ],
          [
           0.18181818181818182,
           "rgb(108, 36, 36)"
          ],
          [
           0.2727272727272727,
           "rgb(135, 47, 32)"
          ],
          [
           0.36363636363636365,
           "rgb(157, 66, 25)"
          ],
          [
           0.45454545454545453,
           "rgb(174, 88, 20)"
          ],
          [
           0.5454545454545454,
           "rgb(188, 111, 19)"
          ],
          [
           0.6363636363636364,
           "rgb(199, 137, 22)"
          ],
          [
           0.7272727272727273,
           "rgb(209, 164, 32)"
          ],
          [
           0.8181818181818182,
           "rgb(217, 192, 44)"
          ],
          [
           0.9090909090909091,
           "rgb(222, 222, 59)"
          ],
          [
           1,
           "rgb(224, 253, 74)"
          ]
         ]
        },
        "geo": {
         "center": {},
         "domain": {
          "x": [
           0,
           1
          ],
          "y": [
           0,
           1
          ]
         },
         "scope": "world"
        },
        "legend": {
         "itemsizing": "constant",
         "tracegroupgap": 0
        },
        "template": {
         "data": {
          "bar": [
           {
            "error_x": {
             "color": "#2a3f5f"
            },
            "error_y": {
             "color": "#2a3f5f"
            },
            "marker": {
             "line": {
              "color": "#E5ECF6",
              "width": 0.5
             },
             "pattern": {
              "fillmode": "overlay",
              "size": 10,
              "solidity": 0.2
             }
            },
            "type": "bar"
           }
          ],
          "barpolar": [
           {
            "marker": {
             "line": {
              "color": "#E5ECF6",
              "width": 0.5
             },
             "pattern": {
              "fillmode": "overlay",
              "size": 10,
              "solidity": 0.2
             }
            },
            "type": "barpolar"
           }
          ],
          "carpet": [
           {
            "aaxis": {
             "endlinecolor": "#2a3f5f",
             "gridcolor": "white",
             "linecolor": "white",
             "minorgridcolor": "white",
             "startlinecolor": "#2a3f5f"
            },
            "baxis": {
             "endlinecolor": "#2a3f5f",
             "gridcolor": "white",
             "linecolor": "white",
             "minorgridcolor": "white",
             "startlinecolor": "#2a3f5f"
            },
            "type": "carpet"
           }
          ],
          "choropleth": [
           {
            "colorbar": {
             "outlinewidth": 0,
             "ticks": ""
            },
            "type": "choropleth"
           }
          ],
          "contour": [
           {
            "colorbar": {
             "outlinewidth": 0,
             "ticks": ""
            },
            "colorscale": [
             [
              0,
              "#0d0887"
             ],
             [
              0.1111111111111111,
              "#46039f"
             ],
             [
              0.2222222222222222,
              "#7201a8"
             ],
             [
              0.3333333333333333,
              "#9c179e"
             ],
             [
              0.4444444444444444,
              "#bd3786"
             ],
             [
              0.5555555555555556,
              "#d8576b"
             ],
             [
              0.6666666666666666,
              "#ed7953"
             ],
             [
              0.7777777777777778,
              "#fb9f3a"
             ],
             [
              0.8888888888888888,
              "#fdca26"
             ],
             [
              1,
              "#f0f921"
             ]
            ],
            "type": "contour"
           }
          ],
          "contourcarpet": [
           {
            "colorbar": {
             "outlinewidth": 0,
             "ticks": ""
            },
            "type": "contourcarpet"
           }
          ],
          "heatmap": [
           {
            "colorbar": {
             "outlinewidth": 0,
             "ticks": ""
            },
            "colorscale": [
             [
              0,
              "#0d0887"
             ],
             [
              0.1111111111111111,
              "#46039f"
             ],
             [
              0.2222222222222222,
              "#7201a8"
             ],
             [
              0.3333333333333333,
              "#9c179e"
             ],
             [
              0.4444444444444444,
              "#bd3786"
             ],
             [
              0.5555555555555556,
              "#d8576b"
             ],
             [
              0.6666666666666666,
              "#ed7953"
             ],
             [
              0.7777777777777778,
              "#fb9f3a"
             ],
             [
              0.8888888888888888,
              "#fdca26"
             ],
             [
              1,
              "#f0f921"
             ]
            ],
            "type": "heatmap"
           }
          ],
          "heatmapgl": [
           {
            "colorbar": {
             "outlinewidth": 0,
             "ticks": ""
            },
            "colorscale": [
             [
              0,
              "#0d0887"
             ],
             [
              0.1111111111111111,
              "#46039f"
             ],
             [
              0.2222222222222222,
              "#7201a8"
             ],
             [
              0.3333333333333333,
              "#9c179e"
             ],
             [
              0.4444444444444444,
              "#bd3786"
             ],
             [
              0.5555555555555556,
              "#d8576b"
             ],
             [
              0.6666666666666666,
              "#ed7953"
             ],
             [
              0.7777777777777778,
              "#fb9f3a"
             ],
             [
              0.8888888888888888,
              "#fdca26"
             ],
             [
              1,
              "#f0f921"
             ]
            ],
            "type": "heatmapgl"
           }
          ],
          "histogram": [
           {
            "marker": {
             "pattern": {
              "fillmode": "overlay",
              "size": 10,
              "solidity": 0.2
             }
            },
            "type": "histogram"
           }
          ],
          "histogram2d": [
           {
            "colorbar": {
             "outlinewidth": 0,
             "ticks": ""
            },
            "colorscale": [
             [
              0,
              "#0d0887"
             ],
             [
              0.1111111111111111,
              "#46039f"
             ],
             [
              0.2222222222222222,
              "#7201a8"
             ],
             [
              0.3333333333333333,
              "#9c179e"
             ],
             [
              0.4444444444444444,
              "#bd3786"
             ],
             [
              0.5555555555555556,
              "#d8576b"
             ],
             [
              0.6666666666666666,
              "#ed7953"
             ],
             [
              0.7777777777777778,
              "#fb9f3a"
             ],
             [
              0.8888888888888888,
              "#fdca26"
             ],
             [
              1,
              "#f0f921"
             ]
            ],
            "type": "histogram2d"
           }
          ],
          "histogram2dcontour": [
           {
            "colorbar": {
             "outlinewidth": 0,
             "ticks": ""
            },
            "colorscale": [
             [
              0,
              "#0d0887"
             ],
             [
              0.1111111111111111,
              "#46039f"
             ],
             [
              0.2222222222222222,
              "#7201a8"
             ],
             [
              0.3333333333333333,
              "#9c179e"
             ],
             [
              0.4444444444444444,
              "#bd3786"
             ],
             [
              0.5555555555555556,
              "#d8576b"
             ],
             [
              0.6666666666666666,
              "#ed7953"
             ],
             [
              0.7777777777777778,
              "#fb9f3a"
             ],
             [
              0.8888888888888888,
              "#fdca26"
             ],
             [
              1,
              "#f0f921"
             ]
            ],
            "type": "histogram2dcontour"
           }
          ],
          "mesh3d": [
           {
            "colorbar": {
             "outlinewidth": 0,
             "ticks": ""
            },
            "type": "mesh3d"
           }
          ],
          "parcoords": [
           {
            "line": {
             "colorbar": {
              "outlinewidth": 0,
              "ticks": ""
             }
            },
            "type": "parcoords"
           }
          ],
          "pie": [
           {
            "automargin": true,
            "type": "pie"
           }
          ],
          "scatter": [
           {
            "fillpattern": {
             "fillmode": "overlay",
             "size": 10,
             "solidity": 0.2
            },
            "type": "scatter"
           }
          ],
          "scatter3d": [
           {
            "line": {
             "colorbar": {
              "outlinewidth": 0,
              "ticks": ""
             }
            },
            "marker": {
             "colorbar": {
              "outlinewidth": 0,
              "ticks": ""
             }
            },
            "type": "scatter3d"
           }
          ],
          "scattercarpet": [
           {
            "marker": {
             "colorbar": {
              "outlinewidth": 0,
              "ticks": ""
             }
            },
            "type": "scattercarpet"
           }
          ],
          "scattergeo": [
           {
            "marker": {
             "colorbar": {
              "outlinewidth": 0,
              "ticks": ""
             }
            },
            "type": "scattergeo"
           }
          ],
          "scattergl": [
           {
            "marker": {
             "colorbar": {
              "outlinewidth": 0,
              "ticks": ""
             }
            },
            "type": "scattergl"
           }
          ],
          "scattermapbox": [
           {
            "marker": {
             "colorbar": {
              "outlinewidth": 0,
              "ticks": ""
             }
            },
            "type": "scattermapbox"
           }
          ],
          "scatterpolar": [
           {
            "marker": {
             "colorbar": {
              "outlinewidth": 0,
              "ticks": ""
             }
            },
            "type": "scatterpolar"
           }
          ],
          "scatterpolargl": [
           {
            "marker": {
             "colorbar": {
              "outlinewidth": 0,
              "ticks": ""
             }
            },
            "type": "scatterpolargl"
           }
          ],
          "scatterternary": [
           {
            "marker": {
             "colorbar": {
              "outlinewidth": 0,
              "ticks": ""
             }
            },
            "type": "scatterternary"
           }
          ],
          "surface": [
           {
            "colorbar": {
             "outlinewidth": 0,
             "ticks": ""
            },
            "colorscale": [
             [
              0,
              "#0d0887"
             ],
             [
              0.1111111111111111,
              "#46039f"
             ],
             [
              0.2222222222222222,
              "#7201a8"
             ],
             [
              0.3333333333333333,
              "#9c179e"
             ],
             [
              0.4444444444444444,
              "#bd3786"
             ],
             [
              0.5555555555555556,
              "#d8576b"
             ],
             [
              0.6666666666666666,
              "#ed7953"
             ],
             [
              0.7777777777777778,
              "#fb9f3a"
             ],
             [
              0.8888888888888888,
              "#fdca26"
             ],
             [
              1,
              "#f0f921"
             ]
            ],
            "type": "surface"
           }
          ],
          "table": [
           {
            "cells": {
             "fill": {
              "color": "#EBF0F8"
             },
             "line": {
              "color": "white"
             }
            },
            "header": {
             "fill": {
              "color": "#C8D4E3"
             },
             "line": {
              "color": "white"
             }
            },
            "type": "table"
           }
          ]
         },
         "layout": {
          "annotationdefaults": {
           "arrowcolor": "#2a3f5f",
           "arrowhead": 0,
           "arrowwidth": 1
          },
          "autotypenumbers": "strict",
          "coloraxis": {
           "colorbar": {
            "outlinewidth": 0,
            "ticks": ""
           }
          },
          "colorscale": {
           "diverging": [
            [
             0,
             "#8e0152"
            ],
            [
             0.1,
             "#c51b7d"
            ],
            [
             0.2,
             "#de77ae"
            ],
            [
             0.3,
             "#f1b6da"
            ],
            [
             0.4,
             "#fde0ef"
            ],
            [
             0.5,
             "#f7f7f7"
            ],
            [
             0.6,
             "#e6f5d0"
            ],
            [
             0.7,
             "#b8e186"
            ],
            [
             0.8,
             "#7fbc41"
            ],
            [
             0.9,
             "#4d9221"
            ],
            [
             1,
             "#276419"
            ]
           ],
           "sequential": [
            [
             0,
             "#0d0887"
            ],
            [
             0.1111111111111111,
             "#46039f"
            ],
            [
             0.2222222222222222,
             "#7201a8"
            ],
            [
             0.3333333333333333,
             "#9c179e"
            ],
            [
             0.4444444444444444,
             "#bd3786"
            ],
            [
             0.5555555555555556,
             "#d8576b"
            ],
            [
             0.6666666666666666,
             "#ed7953"
            ],
            [
             0.7777777777777778,
             "#fb9f3a"
            ],
            [
             0.8888888888888888,
             "#fdca26"
            ],
            [
             1,
             "#f0f921"
            ]
           ],
           "sequentialminus": [
            [
             0,
             "#0d0887"
            ],
            [
             0.1111111111111111,
             "#46039f"
            ],
            [
             0.2222222222222222,
             "#7201a8"
            ],
            [
             0.3333333333333333,
             "#9c179e"
            ],
            [
             0.4444444444444444,
             "#bd3786"
            ],
            [
             0.5555555555555556,
             "#d8576b"
            ],
            [
             0.6666666666666666,
             "#ed7953"
            ],
            [
             0.7777777777777778,
             "#fb9f3a"
            ],
            [
             0.8888888888888888,
             "#fdca26"
            ],
            [
             1,
             "#f0f921"
            ]
           ]
          },
          "colorway": [
           "#636efa",
           "#EF553B",
           "#00cc96",
           "#ab63fa",
           "#FFA15A",
           "#19d3f3",
           "#FF6692",
           "#B6E880",
           "#FF97FF",
           "#FECB52"
          ],
          "font": {
           "color": "#2a3f5f"
          },
          "geo": {
           "bgcolor": "white",
           "lakecolor": "white",
           "landcolor": "#E5ECF6",
           "showlakes": true,
           "showland": true,
           "subunitcolor": "white"
          },
          "hoverlabel": {
           "align": "left"
          },
          "hovermode": "closest",
          "mapbox": {
           "style": "light"
          },
          "paper_bgcolor": "white",
          "plot_bgcolor": "#E5ECF6",
          "polar": {
           "angularaxis": {
            "gridcolor": "white",
            "linecolor": "white",
            "ticks": ""
           },
           "bgcolor": "#E5ECF6",
           "radialaxis": {
            "gridcolor": "white",
            "linecolor": "white",
            "ticks": ""
           }
          },
          "scene": {
           "xaxis": {
            "backgroundcolor": "#E5ECF6",
            "gridcolor": "white",
            "gridwidth": 2,
            "linecolor": "white",
            "showbackground": true,
            "ticks": "",
            "zerolinecolor": "white"
           },
           "yaxis": {
            "backgroundcolor": "#E5ECF6",
            "gridcolor": "white",
            "gridwidth": 2,
            "linecolor": "white",
            "showbackground": true,
            "ticks": "",
            "zerolinecolor": "white"
           },
           "zaxis": {
            "backgroundcolor": "#E5ECF6",
            "gridcolor": "white",
            "gridwidth": 2,
            "linecolor": "white",
            "showbackground": true,
            "ticks": "",
            "zerolinecolor": "white"
           }
          },
          "shapedefaults": {
           "line": {
            "color": "#2a3f5f"
           }
          },
          "ternary": {
           "aaxis": {
            "gridcolor": "white",
            "linecolor": "white",
            "ticks": ""
           },
           "baxis": {
            "gridcolor": "white",
            "linecolor": "white",
            "ticks": ""
           },
           "bgcolor": "#E5ECF6",
           "caxis": {
            "gridcolor": "white",
            "linecolor": "white",
            "ticks": ""
           }
          },
          "title": {
           "x": 0.05
          },
          "xaxis": {
           "automargin": true,
           "gridcolor": "white",
           "linecolor": "white",
           "ticks": "",
           "title": {
            "standoff": 15
           },
           "zerolinecolor": "white",
           "zerolinewidth": 2
          },
          "yaxis": {
           "automargin": true,
           "gridcolor": "white",
           "linecolor": "white",
           "ticks": "",
           "title": {
            "standoff": 15
           },
           "zerolinecolor": "white",
           "zerolinewidth": 2
          }
         }
        },
        "title": {
         "text": "Trabalho Feminino"
        }
       }
      }
     },
     "metadata": {},
     "output_type": "display_data"
    },
    {
     "data": {
      "application/vnd.plotly.v1+json": {
       "config": {
        "plotlyServerURL": "https://plot.ly"
       },
       "data": [
        {
         "geo": "geo",
         "hovertemplate": "M_Trabalho_força=%{marker.color}<br>País=%{location}<extra></extra>",
         "legendgroup": "",
         "locationmode": "country names",
         "locations": [
          "Switzerland",
          "Norway",
          "Iceland",
          "Australia",
          "Denmark",
          "Sweden",
          "Ireland",
          "Germany",
          "Netherlands",
          "Finland",
          "Singapore",
          "Belgium",
          "New Zealand",
          "Canada",
          "Luxembourg",
          "United Kingdom",
          "Japan",
          "South Korea",
          "United States",
          "Israel",
          "Malta",
          "Slovenia",
          "Austria",
          "United Arab Emirates",
          "Spain",
          "France",
          "Cyprus",
          "Italy",
          "Estonia",
          "Czechia",
          "Greece",
          "Poland",
          "Bahrain",
          "Lithuania",
          "Saudi Arabia",
          "Portugal",
          "Latvia",
          "Croatia",
          "Chile",
          "Qatar",
          "Slovakia",
          "Hungary",
          "Argentina",
          "Türkiye",
          "Montenegro",
          "Kuwait",
          "Brunei Darussalam",
          "Russian Federation",
          "Romania",
          "Oman",
          "Bahamas",
          "Kazakhstan",
          "Trinidad and Tobago",
          "Costa Rica",
          "Uruguay",
          "Belarus",
          "Panama",
          "Malaysia",
          "Georgia",
          "Mauritius",
          "Serbia",
          "Thailand",
          "Albania",
          "Bulgaria",
          "Barbados",
          "Sri Lanka",
          "Bosnia and Herzegovina",
          "Iran",
          "Ukraine",
          "North Macedonia",
          "China",
          "Dominican Republic",
          "Moldova",
          "Cuba",
          "Peru",
          "Armenia",
          "Mexico",
          "Brazil",
          "Colombia",
          "Saint Vincent and the Grenadines",
          "Maldives",
          "Algeria",
          "Azerbaijan",
          "Tonga",
          "Turkmenistan",
          "Ecuador",
          "Mongolia",
          "Egypt",
          "Tunisia",
          "Fiji",
          "Suriname",
          "Uzbekistan",
          "Jordan",
          "Libya",
          "Paraguay",
          "Saint Lucia",
          "Guyana",
          "South Africa",
          "Jamaica",
          "Samoa",
          "Gabon",
          "Lebanon",
          "Indonesia",
          "Viet Nam",
          "Philippines",
          "Botswana",
          "Bolivia",
          "Kyrgyzstan",
          "Venezuela",
          "Iraq",
          "Tajikistan",
          "Belize",
          "Morocco",
          "El Salvador",
          "Nicaragua",
          "Bhutan",
          "Cabo Verde",
          "Bangladesh",
          "India",
          "Ghana",
          "Guatemala",
          "Honduras",
          "Sao Tome and Principe",
          "Namibia",
          "Lao People's Democratic Republic",
          "Timor-Leste",
          "Nepal",
          "Eswatini",
          "Cambodia",
          "Zimbabwe",
          "Angola",
          "Myanmar",
          "Syrian Arab Republic",
          "Cameroon",
          "Kenya",
          "Congo",
          "Zambia",
          "Papua New Guinea",
          "Mauritania",
          "Côte d'Ivoire",
          "Tanzania",
          "Pakistan",
          "Togo",
          "Haiti",
          "Nigeria",
          "Rwanda",
          "Benin",
          "Uganda",
          "Lesotho",
          "Malawi",
          "Senegal",
          "Sudan",
          "Madagascar",
          "Gambia",
          "Ethiopia",
          "Guinea-Bissau",
          "Liberia",
          "Congo",
          "Afghanistan",
          "Sierra Leone",
          "Guinea",
          "Yemen",
          "Burkina Faso",
          "Mozambique",
          "Mali",
          "Burundi",
          "Central African Republic",
          "Niger",
          "Chad",
          "South Sudan"
         ],
         "marker": {
          "color": [
           72.7,
           72,
           70.5,
           70.5,
           66.7,
           68,
           68.6,
           66,
           71.3,
           64,
           76.8,
           58.8,
           75.3,
           69.7,
           65.5,
           67.1,
           71,
           72.4,
           66.4,
           66.1,
           71.4,
           62.2,
           66.3,
           88,
           62.4,
           59.7,
           68.8,
           57.6,
           70.2,
           68.1,
           58.1,
           65.5,
           83.5,
           67.9,
           80.1,
           62.2,
           66.8,
           58.8,
           65.5,
           95.5,
           66.4,
           67.2,
           71.6,
           69.4,
           62,
           83.8,
           72.3,
           69.7,
           62.3,
           85,
           71.5,
           75.5,
           68,
           71.1,
           69.3,
           71.4,
           72.6,
           77.6,
           68,
           70.4,
           62.3,
           75,
           66.2,
           62.6,
           63.7,
           68.5,
           52.4,
           68.1,
           63.6,
           63.4,
           74.3,
           75.2,
           43.9,
           68.5,
           81.9,
           63,
           75.4,
           68.2,
           78,
           74.1,
           67.5,
           64.5,
           67.3,
           55.3,
           55.6,
           76.5,
           66.6,
           67.1,
           67.2,
           75.3,
           65.1,
           70.9,
           62.3,
           61,
           84.2,
           73.2,
           64.1,
           59.9,
           70,
           54.2,
           57,
           64.3,
           81.7,
           79.4,
           68.3,
           65.1,
           83.8,
           71.7,
           67.8,
           71.8,
           50.5,
           76.8,
           66,
           72.6,
           81.3,
           67.4,
           61.7,
           78.8,
           70.1,
           72.2,
           80.3,
           78.9,
           69.9,
           62.2,
           78.1,
           72.2,
           80.8,
           53.6,
           85.9,
           88.9,
           79.1,
           70,
           70.8,
           80.7,
           75.6,
           67.6,
           77.8,
           48.1,
           62.2,
           64.9,
           87.1,
           78.1,
           59.4,
           68.9,
           59.6,
           82.2,
           72.6,
           71.3,
           71.3,
           80,
           56.7,
           67.8,
           87.6,
           66.3,
           84.7,
           78.4,
           79.7,
           69.1,
           66.5,
           55.9,
           62.2,
           67.6,
           72.7,
           78.9,
           79.7,
           77.4,
           79.5,
           84.3,
           69.9,
           73.6
          ],
          "coloraxis": "coloraxis",
          "size": [
           72.7,
           72,
           70.5,
           70.5,
           66.7,
           68,
           68.6,
           66,
           71.3,
           64,
           76.8,
           58.8,
           75.3,
           69.7,
           65.5,
           67.1,
           71,
           72.4,
           66.4,
           66.1,
           71.4,
           62.2,
           66.3,
           88,
           62.4,
           59.7,
           68.8,
           57.6,
           70.2,
           68.1,
           58.1,
           65.5,
           83.5,
           67.9,
           80.1,
           62.2,
           66.8,
           58.8,
           65.5,
           95.5,
           66.4,
           67.2,
           71.6,
           69.4,
           62,
           83.8,
           72.3,
           69.7,
           62.3,
           85,
           71.5,
           75.5,
           68,
           71.1,
           69.3,
           71.4,
           72.6,
           77.6,
           68,
           70.4,
           62.3,
           75,
           66.2,
           62.6,
           63.7,
           68.5,
           52.4,
           68.1,
           63.6,
           63.4,
           74.3,
           75.2,
           43.9,
           68.5,
           81.9,
           63,
           75.4,
           68.2,
           78,
           74.1,
           67.5,
           64.5,
           67.3,
           55.3,
           55.6,
           76.5,
           66.6,
           67.1,
           67.2,
           75.3,
           65.1,
           70.9,
           62.3,
           61,
           84.2,
           73.2,
           64.1,
           59.9,
           70,
           54.2,
           57,
           64.3,
           81.7,
           79.4,
           68.3,
           65.1,
           83.8,
           71.7,
           67.8,
           71.8,
           50.5,
           76.8,
           66,
           72.6,
           81.3,
           67.4,
           61.7,
           78.8,
           70.1,
           72.2,
           80.3,
           78.9,
           69.9,
           62.2,
           78.1,
           72.2,
           80.8,
           53.6,
           85.9,
           88.9,
           79.1,
           70,
           70.8,
           80.7,
           75.6,
           67.6,
           77.8,
           48.1,
           62.2,
           64.9,
           87.1,
           78.1,
           59.4,
           68.9,
           59.6,
           82.2,
           72.6,
           71.3,
           71.3,
           80,
           56.7,
           67.8,
           87.6,
           66.3,
           84.7,
           78.4,
           79.7,
           69.1,
           66.5,
           55.9,
           62.2,
           67.6,
           72.7,
           78.9,
           79.7,
           77.4,
           79.5,
           84.3,
           69.9,
           73.6
          ],
          "sizemode": "area",
          "sizeref": 0.42444444444444446,
          "symbol": "circle"
         },
         "mode": "markers",
         "name": "",
         "showlegend": false,
         "type": "scattergeo"
        }
       ],
       "layout": {
        "coloraxis": {
         "colorbar": {
          "title": {
           "text": "M_Trabalho_força"
          }
         },
         "colorscale": [
          [
           0,
           "#000004"
          ],
          [
           0.1111111111111111,
           "#1b0c41"
          ],
          [
           0.2222222222222222,
           "#4a0c6b"
          ],
          [
           0.3333333333333333,
           "#781c6d"
          ],
          [
           0.4444444444444444,
           "#a52c60"
          ],
          [
           0.5555555555555556,
           "#cf4446"
          ],
          [
           0.6666666666666666,
           "#ed6925"
          ],
          [
           0.7777777777777778,
           "#fb9b06"
          ],
          [
           0.8888888888888888,
           "#f7d13d"
          ],
          [
           1,
           "#fcffa4"
          ]
         ]
        },
        "geo": {
         "center": {},
         "domain": {
          "x": [
           0,
           1
          ],
          "y": [
           0,
           1
          ]
         },
         "scope": "world"
        },
        "legend": {
         "itemsizing": "constant",
         "tracegroupgap": 0
        },
        "template": {
         "data": {
          "bar": [
           {
            "error_x": {
             "color": "#2a3f5f"
            },
            "error_y": {
             "color": "#2a3f5f"
            },
            "marker": {
             "line": {
              "color": "#E5ECF6",
              "width": 0.5
             },
             "pattern": {
              "fillmode": "overlay",
              "size": 10,
              "solidity": 0.2
             }
            },
            "type": "bar"
           }
          ],
          "barpolar": [
           {
            "marker": {
             "line": {
              "color": "#E5ECF6",
              "width": 0.5
             },
             "pattern": {
              "fillmode": "overlay",
              "size": 10,
              "solidity": 0.2
             }
            },
            "type": "barpolar"
           }
          ],
          "carpet": [
           {
            "aaxis": {
             "endlinecolor": "#2a3f5f",
             "gridcolor": "white",
             "linecolor": "white",
             "minorgridcolor": "white",
             "startlinecolor": "#2a3f5f"
            },
            "baxis": {
             "endlinecolor": "#2a3f5f",
             "gridcolor": "white",
             "linecolor": "white",
             "minorgridcolor": "white",
             "startlinecolor": "#2a3f5f"
            },
            "type": "carpet"
           }
          ],
          "choropleth": [
           {
            "colorbar": {
             "outlinewidth": 0,
             "ticks": ""
            },
            "type": "choropleth"
           }
          ],
          "contour": [
           {
            "colorbar": {
             "outlinewidth": 0,
             "ticks": ""
            },
            "colorscale": [
             [
              0,
              "#0d0887"
             ],
             [
              0.1111111111111111,
              "#46039f"
             ],
             [
              0.2222222222222222,
              "#7201a8"
             ],
             [
              0.3333333333333333,
              "#9c179e"
             ],
             [
              0.4444444444444444,
              "#bd3786"
             ],
             [
              0.5555555555555556,
              "#d8576b"
             ],
             [
              0.6666666666666666,
              "#ed7953"
             ],
             [
              0.7777777777777778,
              "#fb9f3a"
             ],
             [
              0.8888888888888888,
              "#fdca26"
             ],
             [
              1,
              "#f0f921"
             ]
            ],
            "type": "contour"
           }
          ],
          "contourcarpet": [
           {
            "colorbar": {
             "outlinewidth": 0,
             "ticks": ""
            },
            "type": "contourcarpet"
           }
          ],
          "heatmap": [
           {
            "colorbar": {
             "outlinewidth": 0,
             "ticks": ""
            },
            "colorscale": [
             [
              0,
              "#0d0887"
             ],
             [
              0.1111111111111111,
              "#46039f"
             ],
             [
              0.2222222222222222,
              "#7201a8"
             ],
             [
              0.3333333333333333,
              "#9c179e"
             ],
             [
              0.4444444444444444,
              "#bd3786"
             ],
             [
              0.5555555555555556,
              "#d8576b"
             ],
             [
              0.6666666666666666,
              "#ed7953"
             ],
             [
              0.7777777777777778,
              "#fb9f3a"
             ],
             [
              0.8888888888888888,
              "#fdca26"
             ],
             [
              1,
              "#f0f921"
             ]
            ],
            "type": "heatmap"
           }
          ],
          "heatmapgl": [
           {
            "colorbar": {
             "outlinewidth": 0,
             "ticks": ""
            },
            "colorscale": [
             [
              0,
              "#0d0887"
             ],
             [
              0.1111111111111111,
              "#46039f"
             ],
             [
              0.2222222222222222,
              "#7201a8"
             ],
             [
              0.3333333333333333,
              "#9c179e"
             ],
             [
              0.4444444444444444,
              "#bd3786"
             ],
             [
              0.5555555555555556,
              "#d8576b"
             ],
             [
              0.6666666666666666,
              "#ed7953"
             ],
             [
              0.7777777777777778,
              "#fb9f3a"
             ],
             [
              0.8888888888888888,
              "#fdca26"
             ],
             [
              1,
              "#f0f921"
             ]
            ],
            "type": "heatmapgl"
           }
          ],
          "histogram": [
           {
            "marker": {
             "pattern": {
              "fillmode": "overlay",
              "size": 10,
              "solidity": 0.2
             }
            },
            "type": "histogram"
           }
          ],
          "histogram2d": [
           {
            "colorbar": {
             "outlinewidth": 0,
             "ticks": ""
            },
            "colorscale": [
             [
              0,
              "#0d0887"
             ],
             [
              0.1111111111111111,
              "#46039f"
             ],
             [
              0.2222222222222222,
              "#7201a8"
             ],
             [
              0.3333333333333333,
              "#9c179e"
             ],
             [
              0.4444444444444444,
              "#bd3786"
             ],
             [
              0.5555555555555556,
              "#d8576b"
             ],
             [
              0.6666666666666666,
              "#ed7953"
             ],
             [
              0.7777777777777778,
              "#fb9f3a"
             ],
             [
              0.8888888888888888,
              "#fdca26"
             ],
             [
              1,
              "#f0f921"
             ]
            ],
            "type": "histogram2d"
           }
          ],
          "histogram2dcontour": [
           {
            "colorbar": {
             "outlinewidth": 0,
             "ticks": ""
            },
            "colorscale": [
             [
              0,
              "#0d0887"
             ],
             [
              0.1111111111111111,
              "#46039f"
             ],
             [
              0.2222222222222222,
              "#7201a8"
             ],
             [
              0.3333333333333333,
              "#9c179e"
             ],
             [
              0.4444444444444444,
              "#bd3786"
             ],
             [
              0.5555555555555556,
              "#d8576b"
             ],
             [
              0.6666666666666666,
              "#ed7953"
             ],
             [
              0.7777777777777778,
              "#fb9f3a"
             ],
             [
              0.8888888888888888,
              "#fdca26"
             ],
             [
              1,
              "#f0f921"
             ]
            ],
            "type": "histogram2dcontour"
           }
          ],
          "mesh3d": [
           {
            "colorbar": {
             "outlinewidth": 0,
             "ticks": ""
            },
            "type": "mesh3d"
           }
          ],
          "parcoords": [
           {
            "line": {
             "colorbar": {
              "outlinewidth": 0,
              "ticks": ""
             }
            },
            "type": "parcoords"
           }
          ],
          "pie": [
           {
            "automargin": true,
            "type": "pie"
           }
          ],
          "scatter": [
           {
            "fillpattern": {
             "fillmode": "overlay",
             "size": 10,
             "solidity": 0.2
            },
            "type": "scatter"
           }
          ],
          "scatter3d": [
           {
            "line": {
             "colorbar": {
              "outlinewidth": 0,
              "ticks": ""
             }
            },
            "marker": {
             "colorbar": {
              "outlinewidth": 0,
              "ticks": ""
             }
            },
            "type": "scatter3d"
           }
          ],
          "scattercarpet": [
           {
            "marker": {
             "colorbar": {
              "outlinewidth": 0,
              "ticks": ""
             }
            },
            "type": "scattercarpet"
           }
          ],
          "scattergeo": [
           {
            "marker": {
             "colorbar": {
              "outlinewidth": 0,
              "ticks": ""
             }
            },
            "type": "scattergeo"
           }
          ],
          "scattergl": [
           {
            "marker": {
             "colorbar": {
              "outlinewidth": 0,
              "ticks": ""
             }
            },
            "type": "scattergl"
           }
          ],
          "scattermapbox": [
           {
            "marker": {
             "colorbar": {
              "outlinewidth": 0,
              "ticks": ""
             }
            },
            "type": "scattermapbox"
           }
          ],
          "scatterpolar": [
           {
            "marker": {
             "colorbar": {
              "outlinewidth": 0,
              "ticks": ""
             }
            },
            "type": "scatterpolar"
           }
          ],
          "scatterpolargl": [
           {
            "marker": {
             "colorbar": {
              "outlinewidth": 0,
              "ticks": ""
             }
            },
            "type": "scatterpolargl"
           }
          ],
          "scatterternary": [
           {
            "marker": {
             "colorbar": {
              "outlinewidth": 0,
              "ticks": ""
             }
            },
            "type": "scatterternary"
           }
          ],
          "surface": [
           {
            "colorbar": {
             "outlinewidth": 0,
             "ticks": ""
            },
            "colorscale": [
             [
              0,
              "#0d0887"
             ],
             [
              0.1111111111111111,
              "#46039f"
             ],
             [
              0.2222222222222222,
              "#7201a8"
             ],
             [
              0.3333333333333333,
              "#9c179e"
             ],
             [
              0.4444444444444444,
              "#bd3786"
             ],
             [
              0.5555555555555556,
              "#d8576b"
             ],
             [
              0.6666666666666666,
              "#ed7953"
             ],
             [
              0.7777777777777778,
              "#fb9f3a"
             ],
             [
              0.8888888888888888,
              "#fdca26"
             ],
             [
              1,
              "#f0f921"
             ]
            ],
            "type": "surface"
           }
          ],
          "table": [
           {
            "cells": {
             "fill": {
              "color": "#EBF0F8"
             },
             "line": {
              "color": "white"
             }
            },
            "header": {
             "fill": {
              "color": "#C8D4E3"
             },
             "line": {
              "color": "white"
             }
            },
            "type": "table"
           }
          ]
         },
         "layout": {
          "annotationdefaults": {
           "arrowcolor": "#2a3f5f",
           "arrowhead": 0,
           "arrowwidth": 1
          },
          "autotypenumbers": "strict",
          "coloraxis": {
           "colorbar": {
            "outlinewidth": 0,
            "ticks": ""
           }
          },
          "colorscale": {
           "diverging": [
            [
             0,
             "#8e0152"
            ],
            [
             0.1,
             "#c51b7d"
            ],
            [
             0.2,
             "#de77ae"
            ],
            [
             0.3,
             "#f1b6da"
            ],
            [
             0.4,
             "#fde0ef"
            ],
            [
             0.5,
             "#f7f7f7"
            ],
            [
             0.6,
             "#e6f5d0"
            ],
            [
             0.7,
             "#b8e186"
            ],
            [
             0.8,
             "#7fbc41"
            ],
            [
             0.9,
             "#4d9221"
            ],
            [
             1,
             "#276419"
            ]
           ],
           "sequential": [
            [
             0,
             "#0d0887"
            ],
            [
             0.1111111111111111,
             "#46039f"
            ],
            [
             0.2222222222222222,
             "#7201a8"
            ],
            [
             0.3333333333333333,
             "#9c179e"
            ],
            [
             0.4444444444444444,
             "#bd3786"
            ],
            [
             0.5555555555555556,
             "#d8576b"
            ],
            [
             0.6666666666666666,
             "#ed7953"
            ],
            [
             0.7777777777777778,
             "#fb9f3a"
            ],
            [
             0.8888888888888888,
             "#fdca26"
            ],
            [
             1,
             "#f0f921"
            ]
           ],
           "sequentialminus": [
            [
             0,
             "#0d0887"
            ],
            [
             0.1111111111111111,
             "#46039f"
            ],
            [
             0.2222222222222222,
             "#7201a8"
            ],
            [
             0.3333333333333333,
             "#9c179e"
            ],
            [
             0.4444444444444444,
             "#bd3786"
            ],
            [
             0.5555555555555556,
             "#d8576b"
            ],
            [
             0.6666666666666666,
             "#ed7953"
            ],
            [
             0.7777777777777778,
             "#fb9f3a"
            ],
            [
             0.8888888888888888,
             "#fdca26"
            ],
            [
             1,
             "#f0f921"
            ]
           ]
          },
          "colorway": [
           "#636efa",
           "#EF553B",
           "#00cc96",
           "#ab63fa",
           "#FFA15A",
           "#19d3f3",
           "#FF6692",
           "#B6E880",
           "#FF97FF",
           "#FECB52"
          ],
          "font": {
           "color": "#2a3f5f"
          },
          "geo": {
           "bgcolor": "white",
           "lakecolor": "white",
           "landcolor": "#E5ECF6",
           "showlakes": true,
           "showland": true,
           "subunitcolor": "white"
          },
          "hoverlabel": {
           "align": "left"
          },
          "hovermode": "closest",
          "mapbox": {
           "style": "light"
          },
          "paper_bgcolor": "white",
          "plot_bgcolor": "#E5ECF6",
          "polar": {
           "angularaxis": {
            "gridcolor": "white",
            "linecolor": "white",
            "ticks": ""
           },
           "bgcolor": "#E5ECF6",
           "radialaxis": {
            "gridcolor": "white",
            "linecolor": "white",
            "ticks": ""
           }
          },
          "scene": {
           "xaxis": {
            "backgroundcolor": "#E5ECF6",
            "gridcolor": "white",
            "gridwidth": 2,
            "linecolor": "white",
            "showbackground": true,
            "ticks": "",
            "zerolinecolor": "white"
           },
           "yaxis": {
            "backgroundcolor": "#E5ECF6",
            "gridcolor": "white",
            "gridwidth": 2,
            "linecolor": "white",
            "showbackground": true,
            "ticks": "",
            "zerolinecolor": "white"
           },
           "zaxis": {
            "backgroundcolor": "#E5ECF6",
            "gridcolor": "white",
            "gridwidth": 2,
            "linecolor": "white",
            "showbackground": true,
            "ticks": "",
            "zerolinecolor": "white"
           }
          },
          "shapedefaults": {
           "line": {
            "color": "#2a3f5f"
           }
          },
          "ternary": {
           "aaxis": {
            "gridcolor": "white",
            "linecolor": "white",
            "ticks": ""
           },
           "baxis": {
            "gridcolor": "white",
            "linecolor": "white",
            "ticks": ""
           },
           "bgcolor": "#E5ECF6",
           "caxis": {
            "gridcolor": "white",
            "linecolor": "white",
            "ticks": ""
           }
          },
          "title": {
           "x": 0.05
          },
          "xaxis": {
           "automargin": true,
           "gridcolor": "white",
           "linecolor": "white",
           "ticks": "",
           "title": {
            "standoff": 15
           },
           "zerolinecolor": "white",
           "zerolinewidth": 2
          },
          "yaxis": {
           "automargin": true,
           "gridcolor": "white",
           "linecolor": "white",
           "ticks": "",
           "title": {
            "standoff": 15
           },
           "zerolinecolor": "white",
           "zerolinewidth": 2
          }
         }
        },
        "title": {
         "text": "Trabalho Masculino"
        }
       }
      }
     },
     "metadata": {},
     "output_type": "display_data"
    }
   ],
   "source": [
    "fig = px.scatter_geo(df, locations='País',locationmode=\"country names\",scope=\"world\",\n",
    "color=\"F_Trabalho_força\",size=\"F_Trabalho_força\",size_max=15,title=\"Trabalho Feminino\",color_continuous_scale=\"solar\")\n",
    "fig.show()\n",
    "\n",
    "fig = px.scatter_geo(df, locations='País',locationmode=\"country names\",scope=\"world\",\n",
    "color=\"M_Trabalho_força\",size=\"M_Trabalho_força\",size_max=15,title=\"Trabalho Masculino\",color_continuous_scale=\"inferno\")\n",
    "fig.show()"
   ]
  }
 ],
 "metadata": {
  "kernelspec": {
   "display_name": "Python 3",
   "language": "python",
   "name": "python3"
  },
  "language_info": {
   "codemirror_mode": {
    "name": "ipython",
    "version": 3
   },
   "file_extension": ".py",
   "mimetype": "text/x-python",
   "name": "python",
   "nbconvert_exporter": "python",
   "pygments_lexer": "ipython3",
   "version": "3.11.0"
  },
  "orig_nbformat": 4
 },
 "nbformat": 4,
 "nbformat_minor": 2
}
