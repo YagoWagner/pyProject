{
 "cells": [
  {
   "cell_type": "markdown",
   "metadata": {},
   "source": [
    "# LBMA Preços do Ouro (1968 - 2023)\n",
    "\n",
    "Preços Diários Históricos do Ouro desde 1968"
   ]
  },
  {
   "cell_type": "markdown",
   "metadata": {},
   "source": [
    "## Sobre o conjunto de dados\n",
    "\n",
    "O preço do ouro LBMA é um preço de referência diário do ouro que é definido duas vezes por dia pela London Bullion Market Association (LBMA). O preço é usado como um ponto de referência para compradores e vendedores de ouro em todo o mundo e é amplamente considerado o padrão global para o preço do ouro.\n",
    "\n",
    "O preço do ouro LBMA é definido por um grupo de bancos que são membros do LBMA, que inclui alguns dos maiores bancos de barras de ouro do mundo. Esses bancos usam uma plataforma de leilão eletrônico chamada ICE Benchmark Administration (IBA) para definir o preço. O leilão acontece duas vezes por dia, uma vez de manhã e uma vez à tarde, e é baseado em lances e ofertas em tempo real dos bancos participantes.\n",
    "\n",
    "O preço do ouro LBMA é cotado em dólares americanos por onça troy e é baseado no preço à vista do ouro. O preço à vista é o preço de mercado atual para a entrega imediata de ouro. O preço do ouro LBMA é calculado utilizando a mediana das propostas e ofertas apresentadas pelos bancos participantes. O preço final é publicado no site da LBMA e é amplamente utilizado pelos participantes do mercado para avaliar suas participações de ouro e liquidar transações.\n",
    "\n",
    "Além do preço do ouro LBMA, o LBMA também define preços de referência para prata, platina e paládio. Estes preços de referência são também amplamente utilizados no mercado dos metais preciosos como pontos de referência para a fixação de preços e liquidação."
   ]
  },
  {
   "cell_type": "code",
   "execution_count": 12,
   "metadata": {},
   "outputs": [
    {
     "data": {
      "text/html": [
       "<div>\n",
       "<style scoped>\n",
       "    .dataframe tbody tr th:only-of-type {\n",
       "        vertical-align: middle;\n",
       "    }\n",
       "\n",
       "    .dataframe tbody tr th {\n",
       "        vertical-align: top;\n",
       "    }\n",
       "\n",
       "    .dataframe thead th {\n",
       "        text-align: right;\n",
       "    }\n",
       "</style>\n",
       "<table border=\"1\" class=\"dataframe\">\n",
       "  <thead>\n",
       "    <tr style=\"text-align: right;\">\n",
       "      <th></th>\n",
       "      <th>Date</th>\n",
       "      <th>USD (AM)</th>\n",
       "      <th>USD (PM)</th>\n",
       "      <th>GBP (AM)</th>\n",
       "      <th>GBP (PM)</th>\n",
       "      <th>EURO (AM)</th>\n",
       "      <th>EURO (PM)</th>\n",
       "    </tr>\n",
       "  </thead>\n",
       "  <tbody>\n",
       "    <tr>\n",
       "      <th>0</th>\n",
       "      <td>2023-02-24</td>\n",
       "      <td>1824.10</td>\n",
       "      <td>1810.95</td>\n",
       "      <td>1517.290</td>\n",
       "      <td>1516.13</td>\n",
       "      <td>1722.13</td>\n",
       "      <td>1717.87</td>\n",
       "    </tr>\n",
       "    <tr>\n",
       "      <th>1</th>\n",
       "      <td>2023-02-23</td>\n",
       "      <td>1826.95</td>\n",
       "      <td>1826.05</td>\n",
       "      <td>1518.010</td>\n",
       "      <td>1515.07</td>\n",
       "      <td>1724.64</td>\n",
       "      <td>1721.97</td>\n",
       "    </tr>\n",
       "    <tr>\n",
       "      <th>2</th>\n",
       "      <td>2023-02-22</td>\n",
       "      <td>1833.45</td>\n",
       "      <td>1835.75</td>\n",
       "      <td>1518.460</td>\n",
       "      <td>1516.33</td>\n",
       "      <td>1723.63</td>\n",
       "      <td>1723.03</td>\n",
       "    </tr>\n",
       "    <tr>\n",
       "      <th>3</th>\n",
       "      <td>2023-02-21</td>\n",
       "      <td>1833.20</td>\n",
       "      <td>1836.85</td>\n",
       "      <td>1516.420</td>\n",
       "      <td>1519.26</td>\n",
       "      <td>1719.91</td>\n",
       "      <td>1723.70</td>\n",
       "    </tr>\n",
       "    <tr>\n",
       "      <th>4</th>\n",
       "      <td>2023-02-20</td>\n",
       "      <td>1844.20</td>\n",
       "      <td>1845.80</td>\n",
       "      <td>1533.270</td>\n",
       "      <td>1532.94</td>\n",
       "      <td>1725.99</td>\n",
       "      <td>1726.19</td>\n",
       "    </tr>\n",
       "    <tr>\n",
       "      <th>...</th>\n",
       "      <td>...</td>\n",
       "      <td>...</td>\n",
       "      <td>...</td>\n",
       "      <td>...</td>\n",
       "      <td>...</td>\n",
       "      <td>...</td>\n",
       "      <td>...</td>\n",
       "    </tr>\n",
       "    <tr>\n",
       "      <th>13934</th>\n",
       "      <td>1968-01-08</td>\n",
       "      <td>35.14</td>\n",
       "      <td>NaN</td>\n",
       "      <td>14.586</td>\n",
       "      <td>NaN</td>\n",
       "      <td>NaN</td>\n",
       "      <td>NaN</td>\n",
       "    </tr>\n",
       "    <tr>\n",
       "      <th>13935</th>\n",
       "      <td>1968-01-05</td>\n",
       "      <td>35.14</td>\n",
       "      <td>NaN</td>\n",
       "      <td>14.597</td>\n",
       "      <td>NaN</td>\n",
       "      <td>NaN</td>\n",
       "      <td>NaN</td>\n",
       "    </tr>\n",
       "    <tr>\n",
       "      <th>13936</th>\n",
       "      <td>1968-01-04</td>\n",
       "      <td>35.14</td>\n",
       "      <td>NaN</td>\n",
       "      <td>14.603</td>\n",
       "      <td>NaN</td>\n",
       "      <td>NaN</td>\n",
       "      <td>NaN</td>\n",
       "    </tr>\n",
       "    <tr>\n",
       "      <th>13937</th>\n",
       "      <td>1968-01-03</td>\n",
       "      <td>35.16</td>\n",
       "      <td>NaN</td>\n",
       "      <td>14.617</td>\n",
       "      <td>NaN</td>\n",
       "      <td>NaN</td>\n",
       "      <td>NaN</td>\n",
       "    </tr>\n",
       "    <tr>\n",
       "      <th>13938</th>\n",
       "      <td>1968-01-02</td>\n",
       "      <td>35.18</td>\n",
       "      <td>NaN</td>\n",
       "      <td>14.641</td>\n",
       "      <td>NaN</td>\n",
       "      <td>NaN</td>\n",
       "      <td>NaN</td>\n",
       "    </tr>\n",
       "  </tbody>\n",
       "</table>\n",
       "<p>13939 rows × 7 columns</p>\n",
       "</div>"
      ],
      "text/plain": [
       "             Date  USD (AM)  USD (PM)  GBP (AM)  GBP (PM)  EURO (AM)  \\\n",
       "0      2023-02-24   1824.10   1810.95  1517.290   1516.13    1722.13   \n",
       "1      2023-02-23   1826.95   1826.05  1518.010   1515.07    1724.64   \n",
       "2      2023-02-22   1833.45   1835.75  1518.460   1516.33    1723.63   \n",
       "3      2023-02-21   1833.20   1836.85  1516.420   1519.26    1719.91   \n",
       "4      2023-02-20   1844.20   1845.80  1533.270   1532.94    1725.99   \n",
       "...           ...       ...       ...       ...       ...        ...   \n",
       "13934  1968-01-08     35.14       NaN    14.586       NaN        NaN   \n",
       "13935  1968-01-05     35.14       NaN    14.597       NaN        NaN   \n",
       "13936  1968-01-04     35.14       NaN    14.603       NaN        NaN   \n",
       "13937  1968-01-03     35.16       NaN    14.617       NaN        NaN   \n",
       "13938  1968-01-02     35.18       NaN    14.641       NaN        NaN   \n",
       "\n",
       "       EURO (PM)  \n",
       "0        1717.87  \n",
       "1        1721.97  \n",
       "2        1723.03  \n",
       "3        1723.70  \n",
       "4        1726.19  \n",
       "...          ...  \n",
       "13934        NaN  \n",
       "13935        NaN  \n",
       "13936        NaN  \n",
       "13937        NaN  \n",
       "13938        NaN  \n",
       "\n",
       "[13939 rows x 7 columns]"
      ]
     },
     "metadata": {},
     "output_type": "display_data"
    }
   ],
   "source": [
    "import pandas as pd\n",
    "import numpy as np\n",
    "import plotly.express as px\n",
    "import warnings\n",
    "warnings.filterwarnings(\"ignore\")\n",
    "\n",
    "tabela = pd.read_csv(r'DtScience\\LBMA-GOLD.csv')\n",
    "display(tabela)"
   ]
  },
  {
   "cell_type": "code",
   "execution_count": 13,
   "metadata": {},
   "outputs": [
    {
     "name": "stdout",
     "output_type": "stream",
     "text": [
      "<class 'pandas.core.frame.DataFrame'>\n",
      "RangeIndex: 13939 entries, 0 to 13938\n",
      "Data columns (total 7 columns):\n",
      " #   Column     Non-Null Count  Dtype  \n",
      "---  ------     --------------  -----  \n",
      " 0   Date       13939 non-null  object \n",
      " 1   USD (AM)   13938 non-null  float64\n",
      " 2   USD (PM)   13792 non-null  float64\n",
      " 3   GBP (AM)   13928 non-null  float64\n",
      " 4   GBP (PM)   13781 non-null  float64\n",
      " 5   EURO (AM)  6102 non-null   float64\n",
      " 6   EURO (PM)  6055 non-null   float64\n",
      "dtypes: float64(6), object(1)\n",
      "memory usage: 762.4+ KB\n"
     ]
    },
    {
     "data": {
      "text/plain": [
       "None"
      ]
     },
     "metadata": {},
     "output_type": "display_data"
    },
    {
     "name": "stdout",
     "output_type": "stream",
     "text": [
      "<class 'pandas.core.frame.DataFrame'>\n",
      "Index: 6055 entries, 0 to 6101\n",
      "Data columns (total 7 columns):\n",
      " #   Column     Non-Null Count  Dtype  \n",
      "---  ------     --------------  -----  \n",
      " 0   Date       6055 non-null   object \n",
      " 1   USD (AM)   6055 non-null   float64\n",
      " 2   USD (PM)   6055 non-null   float64\n",
      " 3   GBP (AM)   6055 non-null   float64\n",
      " 4   GBP (PM)   6055 non-null   float64\n",
      " 5   EURO (AM)  6055 non-null   float64\n",
      " 6   EURO (PM)  6055 non-null   float64\n",
      "dtypes: float64(6), object(1)\n",
      "memory usage: 378.4+ KB\n"
     ]
    },
    {
     "data": {
      "text/plain": [
       "None"
      ]
     },
     "metadata": {},
     "output_type": "display_data"
    }
   ],
   "source": [
    "# identificando e removendo valores vazios\n",
    "display(tabela.info())\n",
    "# Tratar valores vazios\n",
    "tabela = tabela.dropna()\n",
    "display(tabela.info())"
   ]
  },
  {
   "cell_type": "code",
   "execution_count": 14,
   "metadata": {},
   "outputs": [
    {
     "data": {
      "text/html": [
       "<div>\n",
       "<style scoped>\n",
       "    .dataframe tbody tr th:only-of-type {\n",
       "        vertical-align: middle;\n",
       "    }\n",
       "\n",
       "    .dataframe tbody tr th {\n",
       "        vertical-align: top;\n",
       "    }\n",
       "\n",
       "    .dataframe thead th {\n",
       "        text-align: right;\n",
       "    }\n",
       "</style>\n",
       "<table border=\"1\" class=\"dataframe\">\n",
       "  <thead>\n",
       "    <tr style=\"text-align: right;\">\n",
       "      <th></th>\n",
       "      <th>USD (AM)</th>\n",
       "      <th>USD (PM)</th>\n",
       "      <th>GBP (AM)</th>\n",
       "      <th>GBP (PM)</th>\n",
       "      <th>EURO (AM)</th>\n",
       "      <th>EURO (PM)</th>\n",
       "      <th>Ano</th>\n",
       "    </tr>\n",
       "  </thead>\n",
       "  <tbody>\n",
       "    <tr>\n",
       "      <th>0</th>\n",
       "      <td>1824.10</td>\n",
       "      <td>1810.95</td>\n",
       "      <td>1517.290</td>\n",
       "      <td>1516.130</td>\n",
       "      <td>1722.130</td>\n",
       "      <td>1717.870</td>\n",
       "      <td>2023</td>\n",
       "    </tr>\n",
       "    <tr>\n",
       "      <th>1</th>\n",
       "      <td>1826.95</td>\n",
       "      <td>1826.05</td>\n",
       "      <td>1518.010</td>\n",
       "      <td>1515.070</td>\n",
       "      <td>1724.640</td>\n",
       "      <td>1721.970</td>\n",
       "      <td>2023</td>\n",
       "    </tr>\n",
       "    <tr>\n",
       "      <th>2</th>\n",
       "      <td>1833.45</td>\n",
       "      <td>1835.75</td>\n",
       "      <td>1518.460</td>\n",
       "      <td>1516.330</td>\n",
       "      <td>1723.630</td>\n",
       "      <td>1723.030</td>\n",
       "      <td>2023</td>\n",
       "    </tr>\n",
       "    <tr>\n",
       "      <th>3</th>\n",
       "      <td>1833.20</td>\n",
       "      <td>1836.85</td>\n",
       "      <td>1516.420</td>\n",
       "      <td>1519.260</td>\n",
       "      <td>1719.910</td>\n",
       "      <td>1723.700</td>\n",
       "      <td>2023</td>\n",
       "    </tr>\n",
       "    <tr>\n",
       "      <th>4</th>\n",
       "      <td>1844.20</td>\n",
       "      <td>1845.80</td>\n",
       "      <td>1533.270</td>\n",
       "      <td>1532.940</td>\n",
       "      <td>1725.990</td>\n",
       "      <td>1726.190</td>\n",
       "      <td>2023</td>\n",
       "    </tr>\n",
       "    <tr>\n",
       "      <th>...</th>\n",
       "      <td>...</td>\n",
       "      <td>...</td>\n",
       "      <td>...</td>\n",
       "      <td>...</td>\n",
       "      <td>...</td>\n",
       "      <td>...</td>\n",
       "      <td>...</td>\n",
       "    </tr>\n",
       "    <tr>\n",
       "      <th>6097</th>\n",
       "      <td>290.90</td>\n",
       "      <td>290.90</td>\n",
       "      <td>177.000</td>\n",
       "      <td>177.324</td>\n",
       "      <td>249.293</td>\n",
       "      <td>250.992</td>\n",
       "      <td>1999</td>\n",
       "    </tr>\n",
       "    <tr>\n",
       "      <th>6098</th>\n",
       "      <td>288.60</td>\n",
       "      <td>289.95</td>\n",
       "      <td>174.486</td>\n",
       "      <td>175.887</td>\n",
       "      <td>247.089</td>\n",
       "      <td>248.351</td>\n",
       "      <td>1999</td>\n",
       "    </tr>\n",
       "    <tr>\n",
       "      <th>6099</th>\n",
       "      <td>287.15</td>\n",
       "      <td>287.65</td>\n",
       "      <td>173.191</td>\n",
       "      <td>173.733</td>\n",
       "      <td>244.258</td>\n",
       "      <td>245.331</td>\n",
       "      <td>1999</td>\n",
       "    </tr>\n",
       "    <tr>\n",
       "      <th>6100</th>\n",
       "      <td>287.00</td>\n",
       "      <td>287.15</td>\n",
       "      <td>173.362</td>\n",
       "      <td>172.947</td>\n",
       "      <td>242.809</td>\n",
       "      <td>242.918</td>\n",
       "      <td>1999</td>\n",
       "    </tr>\n",
       "    <tr>\n",
       "      <th>6101</th>\n",
       "      <td>288.25</td>\n",
       "      <td>287.15</td>\n",
       "      <td>173.854</td>\n",
       "      <td>172.930</td>\n",
       "      <td>244.383</td>\n",
       "      <td>243.039</td>\n",
       "      <td>1999</td>\n",
       "    </tr>\n",
       "  </tbody>\n",
       "</table>\n",
       "<p>6055 rows × 7 columns</p>\n",
       "</div>"
      ],
      "text/plain": [
       "      USD (AM)  USD (PM)  GBP (AM)  GBP (PM)  EURO (AM)  EURO (PM)   Ano\n",
       "0      1824.10   1810.95  1517.290  1516.130   1722.130   1717.870  2023\n",
       "1      1826.95   1826.05  1518.010  1515.070   1724.640   1721.970  2023\n",
       "2      1833.45   1835.75  1518.460  1516.330   1723.630   1723.030  2023\n",
       "3      1833.20   1836.85  1516.420  1519.260   1719.910   1723.700  2023\n",
       "4      1844.20   1845.80  1533.270  1532.940   1725.990   1726.190  2023\n",
       "...        ...       ...       ...       ...        ...        ...   ...\n",
       "6097    290.90    290.90   177.000   177.324    249.293    250.992  1999\n",
       "6098    288.60    289.95   174.486   175.887    247.089    248.351  1999\n",
       "6099    287.15    287.65   173.191   173.733    244.258    245.331  1999\n",
       "6100    287.00    287.15   173.362   172.947    242.809    242.918  1999\n",
       "6101    288.25    287.15   173.854   172.930    244.383    243.039  1999\n",
       "\n",
       "[6055 rows x 7 columns]"
      ]
     },
     "execution_count": 14,
     "metadata": {},
     "output_type": "execute_result"
    }
   ],
   "source": [
    "tabela['Dia'] = tabela['Date'].apply(lambda x: x.split('-')[2])\n",
    "tabela['Mes'] = tabela['Date'].apply(lambda x: x.split('-')[1])\n",
    "tabela['Ano'] = tabela['Date'].apply(lambda x: x.split('-')[0])\n",
    "\n",
    "tabela = tabela.drop('Date', axis=1)\n",
    "tabela = tabela.drop('Dia', axis=1)\n",
    "tabela = tabela.drop('Mes', axis=1)\n",
    "tabela"
   ]
  },
  {
   "cell_type": "code",
   "execution_count": 15,
   "metadata": {},
   "outputs": [
    {
     "data": {
      "text/html": [
       "<div>\n",
       "<style scoped>\n",
       "    .dataframe tbody tr th:only-of-type {\n",
       "        vertical-align: middle;\n",
       "    }\n",
       "\n",
       "    .dataframe tbody tr th {\n",
       "        vertical-align: top;\n",
       "    }\n",
       "\n",
       "    .dataframe thead th {\n",
       "        text-align: right;\n",
       "    }\n",
       "</style>\n",
       "<table border=\"1\" class=\"dataframe\">\n",
       "  <thead>\n",
       "    <tr style=\"text-align: right;\">\n",
       "      <th></th>\n",
       "      <th>Ano</th>\n",
       "      <th>USD (AM)</th>\n",
       "      <th>USD (PM)</th>\n",
       "      <th>GBP (AM)</th>\n",
       "      <th>GBP (PM)</th>\n",
       "      <th>EURO (AM)</th>\n",
       "      <th>EURO (PM)</th>\n",
       "    </tr>\n",
       "  </thead>\n",
       "  <tbody>\n",
       "    <tr>\n",
       "      <th>0</th>\n",
       "      <td>1999</td>\n",
       "      <td>69985.60</td>\n",
       "      <td>69921.75</td>\n",
       "      <td>43236.137</td>\n",
       "      <td>43193.522</td>\n",
       "      <td>65647.567</td>\n",
       "      <td>65603.052</td>\n",
       "    </tr>\n",
       "    <tr>\n",
       "      <th>1</th>\n",
       "      <td>2000</td>\n",
       "      <td>69834.40</td>\n",
       "      <td>69775.50</td>\n",
       "      <td>46114.226</td>\n",
       "      <td>46075.255</td>\n",
       "      <td>75668.983</td>\n",
       "      <td>75659.895</td>\n",
       "    </tr>\n",
       "    <tr>\n",
       "      <th>2</th>\n",
       "      <td>2001</td>\n",
       "      <td>68056.90</td>\n",
       "      <td>68030.00</td>\n",
       "      <td>47256.054</td>\n",
       "      <td>47246.780</td>\n",
       "      <td>75993.429</td>\n",
       "      <td>76003.233</td>\n",
       "    </tr>\n",
       "    <tr>\n",
       "      <th>3</th>\n",
       "      <td>2002</td>\n",
       "      <td>77451.40</td>\n",
       "      <td>77419.30</td>\n",
       "      <td>51553.824</td>\n",
       "      <td>51531.595</td>\n",
       "      <td>82035.589</td>\n",
       "      <td>82013.701</td>\n",
       "    </tr>\n",
       "    <tr>\n",
       "      <th>4</th>\n",
       "      <td>2003</td>\n",
       "      <td>91221.35</td>\n",
       "      <td>91193.55</td>\n",
       "      <td>55801.313</td>\n",
       "      <td>55770.752</td>\n",
       "      <td>80681.666</td>\n",
       "      <td>80634.106</td>\n",
       "    </tr>\n",
       "    <tr>\n",
       "      <th>5</th>\n",
       "      <td>2004</td>\n",
       "      <td>103141.00</td>\n",
       "      <td>103109.90</td>\n",
       "      <td>56298.041</td>\n",
       "      <td>56274.478</td>\n",
       "      <td>83068.583</td>\n",
       "      <td>82924.128</td>\n",
       "    </tr>\n",
       "    <tr>\n",
       "      <th>6</th>\n",
       "      <td>2005</td>\n",
       "      <td>111120.35</td>\n",
       "      <td>111111.95</td>\n",
       "      <td>61199.836</td>\n",
       "      <td>61211.475</td>\n",
       "      <td>89534.702</td>\n",
       "      <td>89579.195</td>\n",
       "    </tr>\n",
       "    <tr>\n",
       "      <th>7</th>\n",
       "      <td>2006</td>\n",
       "      <td>151037.70</td>\n",
       "      <td>150943.05</td>\n",
       "      <td>81973.970</td>\n",
       "      <td>81909.214</td>\n",
       "      <td>120189.666</td>\n",
       "      <td>120129.921</td>\n",
       "    </tr>\n",
       "    <tr>\n",
       "      <th>8</th>\n",
       "      <td>2007</td>\n",
       "      <td>174550.35</td>\n",
       "      <td>174542.00</td>\n",
       "      <td>87114.184</td>\n",
       "      <td>87100.069</td>\n",
       "      <td>127251.832</td>\n",
       "      <td>127215.297</td>\n",
       "    </tr>\n",
       "    <tr>\n",
       "      <th>9</th>\n",
       "      <td>2008</td>\n",
       "      <td>219880.80</td>\n",
       "      <td>219734.60</td>\n",
       "      <td>118890.266</td>\n",
       "      <td>118814.228</td>\n",
       "      <td>149518.292</td>\n",
       "      <td>149457.248</td>\n",
       "    </tr>\n",
       "    <tr>\n",
       "      <th>10</th>\n",
       "      <td>2009</td>\n",
       "      <td>244127.00</td>\n",
       "      <td>244059.50</td>\n",
       "      <td>155987.762</td>\n",
       "      <td>155979.453</td>\n",
       "      <td>174942.188</td>\n",
       "      <td>174927.015</td>\n",
       "    </tr>\n",
       "    <tr>\n",
       "      <th>11</th>\n",
       "      <td>2010</td>\n",
       "      <td>307555.40</td>\n",
       "      <td>307354.75</td>\n",
       "      <td>198992.544</td>\n",
       "      <td>198903.374</td>\n",
       "      <td>232251.094</td>\n",
       "      <td>232202.830</td>\n",
       "    </tr>\n",
       "    <tr>\n",
       "      <th>12</th>\n",
       "      <td>2011</td>\n",
       "      <td>391681.15</td>\n",
       "      <td>391308.50</td>\n",
       "      <td>244403.067</td>\n",
       "      <td>244181.956</td>\n",
       "      <td>281438.035</td>\n",
       "      <td>281295.020</td>\n",
       "    </tr>\n",
       "    <tr>\n",
       "      <th>13</th>\n",
       "      <td>2012</td>\n",
       "      <td>417225.50</td>\n",
       "      <td>417245.10</td>\n",
       "      <td>263237.392</td>\n",
       "      <td>263251.796</td>\n",
       "      <td>324577.606</td>\n",
       "      <td>324666.406</td>\n",
       "    </tr>\n",
       "    <tr>\n",
       "      <th>14</th>\n",
       "      <td>2013</td>\n",
       "      <td>354207.00</td>\n",
       "      <td>354217.65</td>\n",
       "      <td>226820.686</td>\n",
       "      <td>226766.790</td>\n",
       "      <td>266980.561</td>\n",
       "      <td>267010.342</td>\n",
       "    </tr>\n",
       "    <tr>\n",
       "      <th>15</th>\n",
       "      <td>2014</td>\n",
       "      <td>317937.60</td>\n",
       "      <td>317867.00</td>\n",
       "      <td>192832.327</td>\n",
       "      <td>192801.896</td>\n",
       "      <td>239175.239</td>\n",
       "      <td>239172.682</td>\n",
       "    </tr>\n",
       "    <tr>\n",
       "      <th>16</th>\n",
       "      <td>2015</td>\n",
       "      <td>291300.60</td>\n",
       "      <td>291175.65</td>\n",
       "      <td>190513.348</td>\n",
       "      <td>190468.746</td>\n",
       "      <td>262426.150</td>\n",
       "      <td>262351.509</td>\n",
       "    </tr>\n",
       "    <tr>\n",
       "      <th>17</th>\n",
       "      <td>2016</td>\n",
       "      <td>313920.45</td>\n",
       "      <td>313950.30</td>\n",
       "      <td>232607.548</td>\n",
       "      <td>232718.680</td>\n",
       "      <td>283330.859</td>\n",
       "      <td>283456.046</td>\n",
       "    </tr>\n",
       "    <tr>\n",
       "      <th>18</th>\n",
       "      <td>2017</td>\n",
       "      <td>314416.10</td>\n",
       "      <td>314286.35</td>\n",
       "      <td>244234.900</td>\n",
       "      <td>244121.600</td>\n",
       "      <td>278720.570</td>\n",
       "      <td>278578.930</td>\n",
       "    </tr>\n",
       "    <tr>\n",
       "      <th>19</th>\n",
       "      <td>2018</td>\n",
       "      <td>318496.10</td>\n",
       "      <td>318390.15</td>\n",
       "      <td>238398.550</td>\n",
       "      <td>238332.760</td>\n",
       "      <td>269508.880</td>\n",
       "      <td>269463.020</td>\n",
       "    </tr>\n",
       "    <tr>\n",
       "      <th>20</th>\n",
       "      <td>2019</td>\n",
       "      <td>349595.75</td>\n",
       "      <td>349541.60</td>\n",
       "      <td>274464.330</td>\n",
       "      <td>274361.460</td>\n",
       "      <td>312459.650</td>\n",
       "      <td>312439.730</td>\n",
       "    </tr>\n",
       "    <tr>\n",
       "      <th>21</th>\n",
       "      <td>2020</td>\n",
       "      <td>446081.05</td>\n",
       "      <td>445936.65</td>\n",
       "      <td>347602.170</td>\n",
       "      <td>347468.040</td>\n",
       "      <td>390485.580</td>\n",
       "      <td>390313.730</td>\n",
       "    </tr>\n",
       "    <tr>\n",
       "      <th>22</th>\n",
       "      <td>2021</td>\n",
       "      <td>451585.20</td>\n",
       "      <td>451452.15</td>\n",
       "      <td>328262.150</td>\n",
       "      <td>328148.900</td>\n",
       "      <td>381724.530</td>\n",
       "      <td>381625.390</td>\n",
       "    </tr>\n",
       "    <tr>\n",
       "      <th>23</th>\n",
       "      <td>2022</td>\n",
       "      <td>446589.70</td>\n",
       "      <td>446423.25</td>\n",
       "      <td>361536.770</td>\n",
       "      <td>361534.600</td>\n",
       "      <td>424194.620</td>\n",
       "      <td>424166.910</td>\n",
       "    </tr>\n",
       "    <tr>\n",
       "      <th>24</th>\n",
       "      <td>2023</td>\n",
       "      <td>73394.70</td>\n",
       "      <td>73318.75</td>\n",
       "      <td>60325.880</td>\n",
       "      <td>60271.740</td>\n",
       "      <td>68222.760</td>\n",
       "      <td>68202.500</td>\n",
       "    </tr>\n",
       "  </tbody>\n",
       "</table>\n",
       "</div>"
      ],
      "text/plain": [
       "     Ano   USD (AM)   USD (PM)    GBP (AM)    GBP (PM)   EURO (AM)   EURO (PM)\n",
       "0   1999   69985.60   69921.75   43236.137   43193.522   65647.567   65603.052\n",
       "1   2000   69834.40   69775.50   46114.226   46075.255   75668.983   75659.895\n",
       "2   2001   68056.90   68030.00   47256.054   47246.780   75993.429   76003.233\n",
       "3   2002   77451.40   77419.30   51553.824   51531.595   82035.589   82013.701\n",
       "4   2003   91221.35   91193.55   55801.313   55770.752   80681.666   80634.106\n",
       "5   2004  103141.00  103109.90   56298.041   56274.478   83068.583   82924.128\n",
       "6   2005  111120.35  111111.95   61199.836   61211.475   89534.702   89579.195\n",
       "7   2006  151037.70  150943.05   81973.970   81909.214  120189.666  120129.921\n",
       "8   2007  174550.35  174542.00   87114.184   87100.069  127251.832  127215.297\n",
       "9   2008  219880.80  219734.60  118890.266  118814.228  149518.292  149457.248\n",
       "10  2009  244127.00  244059.50  155987.762  155979.453  174942.188  174927.015\n",
       "11  2010  307555.40  307354.75  198992.544  198903.374  232251.094  232202.830\n",
       "12  2011  391681.15  391308.50  244403.067  244181.956  281438.035  281295.020\n",
       "13  2012  417225.50  417245.10  263237.392  263251.796  324577.606  324666.406\n",
       "14  2013  354207.00  354217.65  226820.686  226766.790  266980.561  267010.342\n",
       "15  2014  317937.60  317867.00  192832.327  192801.896  239175.239  239172.682\n",
       "16  2015  291300.60  291175.65  190513.348  190468.746  262426.150  262351.509\n",
       "17  2016  313920.45  313950.30  232607.548  232718.680  283330.859  283456.046\n",
       "18  2017  314416.10  314286.35  244234.900  244121.600  278720.570  278578.930\n",
       "19  2018  318496.10  318390.15  238398.550  238332.760  269508.880  269463.020\n",
       "20  2019  349595.75  349541.60  274464.330  274361.460  312459.650  312439.730\n",
       "21  2020  446081.05  445936.65  347602.170  347468.040  390485.580  390313.730\n",
       "22  2021  451585.20  451452.15  328262.150  328148.900  381724.530  381625.390\n",
       "23  2022  446589.70  446423.25  361536.770  361534.600  424194.620  424166.910\n",
       "24  2023   73394.70   73318.75   60325.880   60271.740   68222.760   68202.500"
      ]
     },
     "metadata": {},
     "output_type": "display_data"
    }
   ],
   "source": [
    "df_ouro = tabela.groupby('Ano')[['USD (AM)', 'USD (PM)', 'GBP (AM)', 'GBP (PM)', 'EURO (AM)',\n",
    "                                        'EURO (PM)']].sum().reset_index()\n",
    "display(df_ouro)"
   ]
  },
  {
   "cell_type": "code",
   "execution_count": 16,
   "metadata": {},
   "outputs": [],
   "source": [
    "df_ouro = df_ouro.drop(24, axis=0)"
   ]
  },
  {
   "cell_type": "code",
   "execution_count": 17,
   "metadata": {},
   "outputs": [
    {
     "data": {
      "image/png": "[encoded data removed]",
      "text/plain": [
       "<Figure size 1000x600 with 1 Axes>"
      ]
     },
     "metadata": {},
     "output_type": "display_data"
    }
   ],
   "source": [
    "import matplotlib.pyplot as plt\n",
    "\n",
    "colunas_moedas = ['USD (AM)', 'USD (PM)', 'GBP (AM)', 'GBP (PM)', 'EURO (AM)', 'EURO (PM)']\n",
    "\n",
    "# Crie o gráfico de linhas\n",
    "plt.figure(figsize=(10, 6))  # Ajuste o tamanho do gráfico conforme necessário\n",
    "for coluna in colunas_moedas:\n",
    "    plt.plot(df_ouro['Ano'], df_ouro[coluna], label=coluna)\n",
    "\n",
    "plt.xlabel('Ano')\n",
    "plt.ylabel('Valor')\n",
    "plt.title('Desempenho das Moedas em Relação ao Ano')\n",
    "plt.legend()\n",
    "plt.grid(True)\n",
    "plt.show()"
   ]
  },
  {
   "cell_type": "code",
   "execution_count": 18,
   "metadata": {},
   "outputs": [
    {
     "data": {
      "application/vnd.plotly.v1+json": {
       "config": {
        "plotlyServerURL": "https://plot.ly"
       },
       "data": [
        {
         "hovertemplate": "Ouro=USD (AM)<br>Ano=%{x}<br>Valor=%{y}<extra></extra>",
         "legendgroup": "USD (AM)",
         "line": {
          "color": "#636efa",
          "dash": "solid"
         },
         "marker": {
          "symbol": "circle"
         },
         "mode": "lines",
         "name": "USD (AM)",
         "orientation": "v",
         "showlegend": true,
         "type": "scatter",
         "x": [
          "1999",
          "2000",
          "2001",
          "2002",
          "2003",
          "2004",
          "2005",
          "2006",
          "2007",
          "2008",
          "2009",
          "2010",
          "2011",
          "2012",
          "2013",
          "2014",
          "2015",
          "2016",
          "2017",
          "2018",
          "2019",
          "2020",
          "2021",
          "2022"
         ],
         "xaxis": "x",
         "y": [
          69985.6,
          69834.4,
          68056.9,
          77451.4,
          91221.35,
          103141,
          111120.35,
          151037.7,
          174550.35,
          219880.8,
          244127,
          307555.4,
          391681.15,
          417225.5,
          354207,
          317937.6,
          291300.6,
          313920.45,
          314416.1,
          318496.1,
          349595.75,
          446081.05,
          451585.2,
          446589.7
         ],
         "yaxis": "y"
        },
        {
         "hovertemplate": "Ouro=USD (PM)<br>Ano=%{x}<br>Valor=%{y}<extra></extra>",
         "legendgroup": "USD (PM)",
         "line": {
          "color": "#EF553B",
          "dash": "solid"
         },
         "marker": {
          "symbol": "circle"
         },
         "mode": "lines",
         "name": "USD (PM)",
         "orientation": "v",
         "showlegend": true,
         "type": "scatter",
         "x": [
          "1999",
          "2000",
          "2001",
          "2002",
          "2003",
          "2004",
          "2005",
          "2006",
          "2007",
          "2008",
          "2009",
          "2010",
          "2011",
          "2012",
          "2013",
          "2014",
          "2015",
          "2016",
          "2017",
          "2018",
          "2019",
          "2020",
          "2021",
          "2022"
         ],
         "xaxis": "x",
         "y": [
          69921.75,
          69775.5,
          68030,
          77419.3,
          91193.55,
          103109.9,
          111111.95,
          150943.05,
          174542,
          219734.6,
          244059.5,
          307354.75,
          391308.5,
          417245.1,
          354217.65,
          317867,
          291175.65,
          313950.3,
          314286.35,
          318390.15,
          349541.6,
          445936.65,
          451452.15,
          446423.25
         ],
         "yaxis": "y"
        },
        {
         "hovertemplate": "Ouro=GBP (AM)<br>Ano=%{x}<br>Valor=%{y}<extra></extra>",
         "legendgroup": "GBP (AM)",
         "line": {
          "color": "#00cc96",
          "dash": "solid"
         },
         "marker": {
          "symbol": "circle"
         },
         "mode": "lines",
         "name": "GBP (AM)",
         "orientation": "v",
         "showlegend": true,
         "type": "scatter",
         "x": [
          "1999",
          "2000",
          "2001",
          "2002",
          "2003",
          "2004",
          "2005",
          "2006",
          "2007",
          "2008",
          "2009",
          "2010",
          "2011",
          "2012",
          "2013",
          "2014",
          "2015",
          "2016",
          "2017",
          "2018",
          "2019",
          "2020",
          "2021",
          "2022"
         ],
         "xaxis": "x",
         "y": [
          43236.137,
          46114.226,
          47256.054,
          51553.824,
          55801.313,
          56298.041,
          61199.836,
          81973.97,
          87114.184,
          118890.266,
          155987.762,
          198992.544,
          244403.067,
          263237.392,
          226820.686,
          192832.327,
          190513.348,
          232607.548,
          244234.9,
          238398.55,
          274464.33,
          347602.17,
          328262.15,
          361536.77
         ],
         "yaxis": "y"
        },
        {
         "hovertemplate": "Ouro=GBP (PM)<br>Ano=%{x}<br>Valor=%{y}<extra></extra>",
         "legendgroup": "GBP (PM)",
         "line": {
          "color": "#ab63fa",
          "dash": "solid"
         },
         "marker": {
          "symbol": "circle"
         },
         "mode": "lines",
         "name": "GBP (PM)",
         "orientation": "v",
         "showlegend": true,
         "type": "scatter",
         "x": [
          "1999",
          "2000",
          "2001",
          "2002",
          "2003",
          "2004",
          "2005",
          "2006",
          "2007",
          "2008",
          "2009",
          "2010",
          "2011",
          "2012",
          "2013",
          "2014",
          "2015",
          "2016",
          "2017",
          "2018",
          "2019",
          "2020",
          "2021",
          "2022"
         ],
         "xaxis": "x",
         "y": [
          43193.522,
          46075.255,
          47246.78,
          51531.595,
          55770.752,
          56274.478,
          61211.475,
          81909.214,
          87100.069,
          118814.228,
          155979.453,
          198903.374,
          244181.956,
          263251.796,
          226766.79,
          192801.896,
          190468.746,
          232718.68,
          244121.6,
          238332.76,
          274361.46,
          347468.04,
          328148.9,
          361534.6
         ],
         "yaxis": "y"
        },
        {
         "hovertemplate": "Ouro=EURO (AM)<br>Ano=%{x}<br>Valor=%{y}<extra></extra>",
         "legendgroup": "EURO (AM)",
         "line": {
          "color": "#FFA15A",
          "dash": "solid"
         },
         "marker": {
          "symbol": "circle"
         },
         "mode": "lines",
         "name": "EURO (AM)",
         "orientation": "v",
         "showlegend": true,
         "type": "scatter",
         "x": [
          "1999",
          "2000",
          "2001",
          "2002",
          "2003",
          "2004",
          "2005",
          "2006",
          "2007",
          "2008",
          "2009",
          "2010",
          "2011",
          "2012",
          "2013",
          "2014",
          "2015",
          "2016",
          "2017",
          "2018",
          "2019",
          "2020",
          "2021",
          "2022"
         ],
         "xaxis": "x",
         "y": [
          65647.567,
          75668.983,
          75993.429,
          82035.58899999999,
          80681.666,
          83068.583,
          89534.702,
          120189.666,
          127251.832,
          149518.292,
          174942.188,
          232251.094,
          281438.035,
          324577.606,
          266980.561,
          239175.239,
          262426.15,
          283330.859,
          278720.57,
          269508.88,
          312459.65,
          390485.58,
          381724.53,
          424194.62
         ],
         "yaxis": "y"
        },
        {
         "hovertemplate": "Ouro=EURO (PM)<br>Ano=%{x}<br>Valor=%{y}<extra></extra>",
         "legendgroup": "EURO (PM)",
         "line": {
          "color": "#19d3f3",
          "dash": "solid"
         },
         "marker": {
          "symbol": "circle"
         },
         "mode": "lines",
         "name": "EURO (PM)",
         "orientation": "v",
         "showlegend": true,
         "type": "scatter",
         "x": [
          "1999",
          "2000",
          "2001",
          "2002",
          "2003",
          "2004",
          "2005",
          "2006",
          "2007",
          "2008",
          "2009",
          "2010",
          "2011",
          "2012",
          "2013",
          "2014",
          "2015",
          "2016",
          "2017",
          "2018",
          "2019",
          "2020",
          "2021",
          "2022"
         ],
         "xaxis": "x",
         "y": [
          65603.052,
          75659.895,
          76003.23300000001,
          82013.701,
          80634.106,
          82924.128,
          89579.195,
          120129.921,
          127215.297,
          149457.248,
          174927.015,
          232202.83,
          281295.02,
          324666.406,
          267010.342,
          239172.682,
          262351.509,
          283456.04600000003,
          278578.93,
          269463.02,
          312439.73,
          390313.73,
          381625.39,
          424166.91
         ],
         "yaxis": "y"
        }
       ],
       "layout": {
        "legend": {
         "title": {
          "text": "Ouro"
         },
         "tracegroupgap": 0
        },
        "template": {
         "data": {
          "bar": [
           {
            "error_x": {
             "color": "#2a3f5f"
            },
            "error_y": {
             "color": "#2a3f5f"
            },
            "marker": {
             "line": {
              "color": "#E5ECF6",
              "width": 0.5
             },
             "pattern": {
              "fillmode": "overlay",
              "size": 10,
              "solidity": 0.2
             }
            },
            "type": "bar"
           }
          ],
          "barpolar": [
           {
            "marker": {
             "line": {
              "color": "#E5ECF6",
              "width": 0.5
             },
             "pattern": {
              "fillmode": "overlay",
              "size": 10,
              "solidity": 0.2
             }
            },
            "type": "barpolar"
           }
          ],
          "carpet": [
           {
            "aaxis": {
             "endlinecolor": "#2a3f5f",
             "gridcolor": "white",
             "linecolor": "white",
             "minorgridcolor": "white",
             "startlinecolor": "#2a3f5f"
            },
            "baxis": {
             "endlinecolor": "#2a3f5f",
             "gridcolor": "white",
             "linecolor": "white",
             "minorgridcolor": "white",
             "startlinecolor": "#2a3f5f"
            },
            "type": "carpet"
           }
          ],
          "choropleth": [
           {
            "colorbar": {
             "outlinewidth": 0,
             "ticks": ""
            },
            "type": "choropleth"
           }
          ],
          "contour": [
           {
            "colorbar": {
             "outlinewidth": 0,
             "ticks": ""
            },
            "colorscale": [
             [
              0,
              "#0d0887"
             ],
             [
              0.1111111111111111,
              "#46039f"
             ],
             [
              0.2222222222222222,
              "#7201a8"
             ],
             [
              0.3333333333333333,
              "#9c179e"
             ],
             [
              0.4444444444444444,
              "#bd3786"
             ],
             [
              0.5555555555555556,
              "#d8576b"
             ],
             [
              0.6666666666666666,
              "#ed7953"
             ],
             [
              0.7777777777777778,
              "#fb9f3a"
             ],
             [
              0.8888888888888888,
              "#fdca26"
             ],
             [
              1,
              "#f0f921"
             ]
            ],
            "type": "contour"
           }
          ],
          "contourcarpet": [
           {
            "colorbar": {
             "outlinewidth": 0,
             "ticks": ""
            },
            "type": "contourcarpet"
           }
          ],
          "heatmap": [
           {
            "colorbar": {
             "outlinewidth": 0,
             "ticks": ""
            },
            "colorscale": [
             [
              0,
              "#0d0887"
             ],
             [
              0.1111111111111111,
              "#46039f"
             ],
             [
              0.2222222222222222,
              "#7201a8"
             ],
             [
              0.3333333333333333,
              "#9c179e"
             ],
             [
              0.4444444444444444,
              "#bd3786"
             ],
             [
              0.5555555555555556,
              "#d8576b"
             ],
             [
              0.6666666666666666,
              "#ed7953"
             ],
             [
              0.7777777777777778,
              "#fb9f3a"
             ],
             [
              0.8888888888888888,
              "#fdca26"
             ],
             [
              1,
              "#f0f921"
             ]
            ],
            "type": "heatmap"
           }
          ],
          "heatmapgl": [
           {
            "colorbar": {
             "outlinewidth": 0,
             "ticks": ""
            },
            "colorscale": [
             [
              0,
              "#0d0887"
             ],
             [
              0.1111111111111111,
              "#46039f"
             ],
             [
              0.2222222222222222,
              "#7201a8"
             ],
             [
              0.3333333333333333,
              "#9c179e"
             ],
             [
              0.4444444444444444,
              "#bd3786"
             ],
             [
              0.5555555555555556,
              "#d8576b"
             ],
             [
              0.6666666666666666,
              "#ed7953"
             ],
             [
              0.7777777777777778,
              "#fb9f3a"
             ],
             [
              0.8888888888888888,
              "#fdca26"
             ],
             [
              1,
              "#f0f921"
             ]
            ],
            "type": "heatmapgl"
           }
          ],
          "histogram": [
           {
            "marker": {
             "pattern": {
              "fillmode": "overlay",
              "size": 10,
              "solidity": 0.2
             }
            },
            "type": "histogram"
           }
          ],
          "histogram2d": [
           {
            "colorbar": {
             "outlinewidth": 0,
             "ticks": ""
            },
            "colorscale": [
             [
              0,
              "#0d0887"
             ],
             [
              0.1111111111111111,
              "#46039f"
             ],
             [
              0.2222222222222222,
              "#7201a8"
             ],
             [
              0.3333333333333333,
              "#9c179e"
             ],
             [
              0.4444444444444444,
              "#bd3786"
             ],
             [
              0.5555555555555556,
              "#d8576b"
             ],
             [
              0.6666666666666666,
              "#ed7953"
             ],
             [
              0.7777777777777778,
              "#fb9f3a"
             ],
             [
              0.8888888888888888,
              "#fdca26"
             ],
             [
              1,
              "#f0f921"
             ]
            ],
            "type": "histogram2d"
           }
          ],
          "histogram2dcontour": [
           {
            "colorbar": {
             "outlinewidth": 0,
             "ticks": ""
            },
            "colorscale": [
             [
              0,
              "#0d0887"
             ],
             [
              0.1111111111111111,
              "#46039f"
             ],
             [
              0.2222222222222222,
              "#7201a8"
             ],
             [
              0.3333333333333333,
              "#9c179e"
             ],
             [
              0.4444444444444444,
              "#bd3786"
             ],
             [
              0.5555555555555556,
              "#d8576b"
             ],
             [
              0.6666666666666666,
              "#ed7953"
             ],
             [
              0.7777777777777778,
              "#fb9f3a"
             ],
             [
              0.8888888888888888,
              "#fdca26"
             ],
             [
              1,
              "#f0f921"
             ]
            ],
            "type": "histogram2dcontour"
           }
          ],
          "mesh3d": [
           {
            "colorbar": {
             "outlinewidth": 0,
             "ticks": ""
            },
            "type": "mesh3d"
           }
          ],
          "parcoords": [
           {
            "line": {
             "colorbar": {
              "outlinewidth": 0,
              "ticks": ""
             }
            },
            "type": "parcoords"
           }
          ],
          "pie": [
           {
            "automargin": true,
            "type": "pie"
           }
          ],
          "scatter": [
           {
            "fillpattern": {
             "fillmode": "overlay",
             "size": 10,
             "solidity": 0.2
            },
            "type": "scatter"
           }
          ],
          "scatter3d": [
           {
            "line": {
             "colorbar": {
              "outlinewidth": 0,
              "ticks": ""
             }
            },
            "marker": {
             "colorbar": {
              "outlinewidth": 0,
              "ticks": ""
             }
            },
            "type": "scatter3d"
           }
          ],
          "scattercarpet": [
           {
            "marker": {
             "colorbar": {
              "outlinewidth": 0,
              "ticks": ""
             }
            },
            "type": "scattercarpet"
           }
          ],
          "scattergeo": [
           {
            "marker": {
             "colorbar": {
              "outlinewidth": 0,
              "ticks": ""
             }
            },
            "type": "scattergeo"
           }
          ],
          "scattergl": [
           {
            "marker": {
             "colorbar": {
              "outlinewidth": 0,
              "ticks": ""
             }
            },
            "type": "scattergl"
           }
          ],
          "scattermapbox": [
           {
            "marker": {
             "colorbar": {
              "outlinewidth": 0,
              "ticks": ""
             }
            },
            "type": "scattermapbox"
           }
          ],
          "scatterpolar": [
           {
            "marker": {
             "colorbar": {
              "outlinewidth": 0,
              "ticks": ""
             }
            },
            "type": "scatterpolar"
           }
          ],
          "scatterpolargl": [
           {
            "marker": {
             "colorbar": {
              "outlinewidth": 0,
              "ticks": ""
             }
            },
            "type": "scatterpolargl"
           }
          ],
          "scatterternary": [
           {
            "marker": {
             "colorbar": {
              "outlinewidth": 0,
              "ticks": ""
             }
            },
            "type": "scatterternary"
           }
          ],
          "surface": [
           {
            "colorbar": {
             "outlinewidth": 0,
             "ticks": ""
            },
            "colorscale": [
             [
              0,
              "#0d0887"
             ],
             [
              0.1111111111111111,
              "#46039f"
             ],
             [
              0.2222222222222222,
              "#7201a8"
             ],
             [
              0.3333333333333333,
              "#9c179e"
             ],
             [
              0.4444444444444444,
              "#bd3786"
             ],
             [
              0.5555555555555556,
              "#d8576b"
             ],
             [
              0.6666666666666666,
              "#ed7953"
             ],
             [
              0.7777777777777778,
              "#fb9f3a"
             ],
             [
              0.8888888888888888,
              "#fdca26"
             ],
             [
              1,
              "#f0f921"
             ]
            ],
            "type": "surface"
           }
          ],
          "table": [
           {
            "cells": {
             "fill": {
              "color": "#EBF0F8"
             },
             "line": {
              "color": "white"
             }
            },
            "header": {
             "fill": {
              "color": "#C8D4E3"
             },
             "line": {
              "color": "white"
             }
            },
            "type": "table"
           }
          ]
         },
         "layout": {
          "annotationdefaults": {
           "arrowcolor": "#2a3f5f",
           "arrowhead": 0,
           "arrowwidth": 1
          },
          "autotypenumbers": "strict",
          "coloraxis": {
           "colorbar": {
            "outlinewidth": 0,
            "ticks": ""
           }
          },
          "colorscale": {
           "diverging": [
            [
             0,
             "#8e0152"
            ],
            [
             0.1,
             "#c51b7d"
            ],
            [
             0.2,
             "#de77ae"
            ],
            [
             0.3,
             "#f1b6da"
            ],
            [
             0.4,
             "#fde0ef"
            ],
            [
             0.5,
             "#f7f7f7"
            ],
            [
             0.6,
             "#e6f5d0"
            ],
            [
             0.7,
             "#b8e186"
            ],
            [
             0.8,
             "#7fbc41"
            ],
            [
             0.9,
             "#4d9221"
            ],
            [
             1,
             "#276419"
            ]
           ],
           "sequential": [
            [
             0,
             "#0d0887"
            ],
            [
             0.1111111111111111,
             "#46039f"
            ],
            [
             0.2222222222222222,
             "#7201a8"
            ],
            [
             0.3333333333333333,
             "#9c179e"
            ],
            [
             0.4444444444444444,
             "#bd3786"
            ],
            [
             0.5555555555555556,
             "#d8576b"
            ],
            [
             0.6666666666666666,
             "#ed7953"
            ],
            [
             0.7777777777777778,
             "#fb9f3a"
            ],
            [
             0.8888888888888888,
             "#fdca26"
            ],
            [
             1,
             "#f0f921"
            ]
           ],
           "sequentialminus": [
            [
             0,
             "#0d0887"
            ],
            [
             0.1111111111111111,
             "#46039f"
            ],
            [
             0.2222222222222222,
             "#7201a8"
            ],
            [
             0.3333333333333333,
             "#9c179e"
            ],
            [
             0.4444444444444444,
             "#bd3786"
            ],
            [
             0.5555555555555556,
             "#d8576b"
            ],
            [
             0.6666666666666666,
             "#ed7953"
            ],
            [
             0.7777777777777778,
             "#fb9f3a"
            ],
            [
             0.8888888888888888,
             "#fdca26"
            ],
            [
             1,
             "#f0f921"
            ]
           ]
          },
          "colorway": [
           "#636efa",
           "#EF553B",
           "#00cc96",
           "#ab63fa",
           "#FFA15A",
           "#19d3f3",
           "#FF6692",
           "#B6E880",
           "#FF97FF",
           "#FECB52"
          ],
          "font": {
           "color": "#2a3f5f"
          },
          "geo": {
           "bgcolor": "white",
           "lakecolor": "white",
           "landcolor": "#E5ECF6",
           "showlakes": true,
           "showland": true,
           "subunitcolor": "white"
          },
          "hoverlabel": {
           "align": "left"
          },
          "hovermode": "closest",
          "mapbox": {
           "style": "light"
          },
          "paper_bgcolor": "white",
          "plot_bgcolor": "#E5ECF6",
          "polar": {
           "angularaxis": {
            "gridcolor": "white",
            "linecolor": "white",
            "ticks": ""
           },
           "bgcolor": "#E5ECF6",
           "radialaxis": {
            "gridcolor": "white",
            "linecolor": "white",
            "ticks": ""
           }
          },
          "scene": {
           "xaxis": {
            "backgroundcolor": "#E5ECF6",
            "gridcolor": "white",
            "gridwidth": 2,
            "linecolor": "white",
            "showbackground": true,
            "ticks": "",
            "zerolinecolor": "white"
           },
           "yaxis": {
            "backgroundcolor": "#E5ECF6",
            "gridcolor": "white",
            "gridwidth": 2,
            "linecolor": "white",
            "showbackground": true,
            "ticks": "",
            "zerolinecolor": "white"
           },
           "zaxis": {
            "backgroundcolor": "#E5ECF6",
            "gridcolor": "white",
            "gridwidth": 2,
            "linecolor": "white",
            "showbackground": true,
            "ticks": "",
            "zerolinecolor": "white"
           }
          },
          "shapedefaults": {
           "line": {
            "color": "#2a3f5f"
           }
          },
          "ternary": {
           "aaxis": {
            "gridcolor": "white",
            "linecolor": "white",
            "ticks": ""
           },
           "baxis": {
            "gridcolor": "white",
            "linecolor": "white",
            "ticks": ""
           },
           "bgcolor": "#E5ECF6",
           "caxis": {
            "gridcolor": "white",
            "linecolor": "white",
            "ticks": ""
           }
          },
          "title": {
           "x": 0.05
          },
          "xaxis": {
           "automargin": true,
           "gridcolor": "white",
           "linecolor": "white",
           "ticks": "",
           "title": {
            "standoff": 15
           },
           "zerolinecolor": "white",
           "zerolinewidth": 2
          },
          "yaxis": {
           "automargin": true,
           "gridcolor": "white",
           "linecolor": "white",
           "ticks": "",
           "title": {
            "standoff": 15
           },
           "zerolinecolor": "white",
           "zerolinewidth": 2
          }
         }
        },
        "title": {
         "text": "Desempenho do Ouro em Relação ao Ano"
        },
        "xaxis": {
         "anchor": "y",
         "domain": [
          0,
          1
         ],
         "title": {
          "text": "Ano"
         }
        },
        "yaxis": {
         "anchor": "x",
         "domain": [
          0,
          1
         ],
         "title": {
          "text": "Valor"
         }
        }
       }
      }
     },
     "metadata": {},
     "output_type": "display_data"
    }
   ],
   "source": [
    "fig = px.line(df_ouro, x='Ano', y=['USD (AM)', 'USD (PM)', 'GBP (AM)', 'GBP (PM)', 'EURO (AM)', 'EURO (PM)'],\n",
    "              labels={'value': 'Valor', 'variable': 'Ouro'},\n",
    "              title='Desempenho do Ouro em Relação ao Ano')\n",
    "\n",
    "fig.show()"
   ]
  }
 ],
 "metadata": {
  "kernelspec": {
   "display_name": "Python 3",
   "language": "python",
   "name": "python3"
  },
  "language_info": {
   "codemirror_mode": {
    "name": "ipython",
    "version": 3
   },
   "file_extension": ".py",
   "mimetype": "text/x-python",
   "name": "python",
   "nbconvert_exporter": "python",
   "pygments_lexer": "ipython3",
   "version": "3.11.0"
  },
  "orig_nbformat": 4
 },
 "nbformat": 4,
 "nbformat_minor": 2
}
