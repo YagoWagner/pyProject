{
 "cells": [
  {
   "attachments": {},
   "cell_type": "markdown",
   "metadata": {},
   "source": [
    "# Casos de COVID em todo o país\n",
    "\n",
    "Números totais de pacientes COVID em termos de país"
   ]
  },
  {
   "attachments": {},
   "cell_type": "markdown",
   "metadata": {},
   "source": [
    "## Sobre o conjunto de dados\n",
    "\n",
    "Este conjunto de dados contém o número total de casos de COVID-19 até agora em vários países. Inclui o total de casos, o total de óbitos, o total de recuperações e a percentagem de óbitos e recuperação"
   ]
  },
  {
   "cell_type": "code",
   "execution_count": 1,
   "metadata": {},
   "outputs": [],
   "source": [
    "import pandas as pd\n",
    "import matplotlib.pyplot as plt\n",
    "import seaborn as sns\n",
    "import numpy as np\n",
    "import plotly.express as px\n",
    "import warnings\n",
    "warnings.filterwarnings(\"ignore\")\n"
   ]
  },
  {
   "cell_type": "code",
   "execution_count": 2,
   "metadata": {},
   "outputs": [
    {
     "data": {
      "text/html": [
       "<div>\n",
       "<style scoped>\n",
       "    .dataframe tbody tr th:only-of-type {\n",
       "        vertical-align: middle;\n",
       "    }\n",
       "\n",
       "    .dataframe tbody tr th {\n",
       "        vertical-align: top;\n",
       "    }\n",
       "\n",
       "    .dataframe thead th {\n",
       "        text-align: right;\n",
       "    }\n",
       "</style>\n",
       "<table border=\"1\" class=\"dataframe\">\n",
       "  <thead>\n",
       "    <tr style=\"text-align: right;\">\n",
       "      <th></th>\n",
       "      <th>Country Name</th>\n",
       "      <th>Total Infected</th>\n",
       "      <th>Total Deaths</th>\n",
       "      <th>Total Recovered</th>\n",
       "      <th>Death %</th>\n",
       "      <th>Recovered %</th>\n",
       "    </tr>\n",
       "  </thead>\n",
       "  <tbody>\n",
       "    <tr>\n",
       "      <th>0</th>\n",
       "      <td>USA</td>\n",
       "      <td>47916190</td>\n",
       "      <td>783565</td>\n",
       "      <td>37918301.0</td>\n",
       "      <td>1.6</td>\n",
       "      <td>79.1</td>\n",
       "    </tr>\n",
       "    <tr>\n",
       "      <th>1</th>\n",
       "      <td>India</td>\n",
       "      <td>34447536</td>\n",
       "      <td>463655</td>\n",
       "      <td>33849785.0</td>\n",
       "      <td>1.3</td>\n",
       "      <td>98.3</td>\n",
       "    </tr>\n",
       "    <tr>\n",
       "      <th>2</th>\n",
       "      <td>Brazil</td>\n",
       "      <td>21957967</td>\n",
       "      <td>611318</td>\n",
       "      <td>21151342.0</td>\n",
       "      <td>2.8</td>\n",
       "      <td>96.3</td>\n",
       "    </tr>\n",
       "    <tr>\n",
       "      <th>3</th>\n",
       "      <td>UK</td>\n",
       "      <td>9561099</td>\n",
       "      <td>142898</td>\n",
       "      <td>7825200.0</td>\n",
       "      <td>1.5</td>\n",
       "      <td>81.8</td>\n",
       "    </tr>\n",
       "    <tr>\n",
       "      <th>4</th>\n",
       "      <td>Russia</td>\n",
       "      <td>9109094</td>\n",
       "      <td>256597</td>\n",
       "      <td>7812557.0</td>\n",
       "      <td>2.8</td>\n",
       "      <td>85.8</td>\n",
       "    </tr>\n",
       "    <tr>\n",
       "      <th>...</th>\n",
       "      <td>...</td>\n",
       "      <td>...</td>\n",
       "      <td>...</td>\n",
       "      <td>...</td>\n",
       "      <td>...</td>\n",
       "      <td>...</td>\n",
       "    </tr>\n",
       "    <tr>\n",
       "      <th>207</th>\n",
       "      <td>Vanuatu</td>\n",
       "      <td>6</td>\n",
       "      <td>1</td>\n",
       "      <td>3.0</td>\n",
       "      <td>16.7</td>\n",
       "      <td>50.0</td>\n",
       "    </tr>\n",
       "    <tr>\n",
       "      <th>208</th>\n",
       "      <td>Marshall Islands</td>\n",
       "      <td>4</td>\n",
       "      <td>0</td>\n",
       "      <td>4.0</td>\n",
       "      <td>0.0</td>\n",
       "      <td>100.0</td>\n",
       "    </tr>\n",
       "    <tr>\n",
       "      <th>209</th>\n",
       "      <td>Samoa</td>\n",
       "      <td>3</td>\n",
       "      <td>0</td>\n",
       "      <td>3.0</td>\n",
       "      <td>0.0</td>\n",
       "      <td>100.0</td>\n",
       "    </tr>\n",
       "    <tr>\n",
       "      <th>210</th>\n",
       "      <td>Micronesia</td>\n",
       "      <td>1</td>\n",
       "      <td>0</td>\n",
       "      <td>1.0</td>\n",
       "      <td>0.0</td>\n",
       "      <td>100.0</td>\n",
       "    </tr>\n",
       "    <tr>\n",
       "      <th>211</th>\n",
       "      <td>Tonga</td>\n",
       "      <td>1</td>\n",
       "      <td>0</td>\n",
       "      <td>NaN</td>\n",
       "      <td>0.0</td>\n",
       "      <td>0.0</td>\n",
       "    </tr>\n",
       "  </tbody>\n",
       "</table>\n",
       "<p>212 rows × 6 columns</p>\n",
       "</div>"
      ],
      "text/plain": [
       "         Country Name  Total Infected  Total Deaths  Total Recovered  Death %  \\\n",
       "0                 USA        47916190        783565       37918301.0      1.6   \n",
       "1               India        34447536        463655       33849785.0      1.3   \n",
       "2              Brazil        21957967        611318       21151342.0      2.8   \n",
       "3                  UK         9561099        142898        7825200.0      1.5   \n",
       "4              Russia         9109094        256597        7812557.0      2.8   \n",
       "..                ...             ...           ...              ...      ...   \n",
       "207           Vanuatu               6             1              3.0     16.7   \n",
       "208  Marshall Islands               4             0              4.0      0.0   \n",
       "209             Samoa               3             0              3.0      0.0   \n",
       "210        Micronesia               1             0              1.0      0.0   \n",
       "211             Tonga               1             0              NaN      0.0   \n",
       "\n",
       "     Recovered %  \n",
       "0           79.1  \n",
       "1           98.3  \n",
       "2           96.3  \n",
       "3           81.8  \n",
       "4           85.8  \n",
       "..           ...  \n",
       "207         50.0  \n",
       "208        100.0  \n",
       "209        100.0  \n",
       "210        100.0  \n",
       "211          0.0  \n",
       "\n",
       "[212 rows x 6 columns]"
      ]
     },
     "metadata": {},
     "output_type": "display_data"
    }
   ],
   "source": [
    "tabela = pd.read_csv(r'..\\DtScience\\Country-wise-COVID-cases.csv')\n",
    "display(tabela)"
   ]
  },
  {
   "cell_type": "code",
   "execution_count": 3,
   "metadata": {},
   "outputs": [
    {
     "data": {
      "text/html": [
       "<div>\n",
       "<style scoped>\n",
       "    .dataframe tbody tr th:only-of-type {\n",
       "        vertical-align: middle;\n",
       "    }\n",
       "\n",
       "    .dataframe tbody tr th {\n",
       "        vertical-align: top;\n",
       "    }\n",
       "\n",
       "    .dataframe thead th {\n",
       "        text-align: right;\n",
       "    }\n",
       "</style>\n",
       "<table border=\"1\" class=\"dataframe\">\n",
       "  <thead>\n",
       "    <tr style=\"text-align: right;\">\n",
       "      <th></th>\n",
       "      <th>Nome do país</th>\n",
       "      <th>Total de infectados</th>\n",
       "      <th>Total de óbitos</th>\n",
       "      <th>Total de recuperados</th>\n",
       "      <th>Morte %</th>\n",
       "      <th>Recuperados %</th>\n",
       "    </tr>\n",
       "  </thead>\n",
       "  <tbody>\n",
       "    <tr>\n",
       "      <th>0</th>\n",
       "      <td>USA</td>\n",
       "      <td>47916190</td>\n",
       "      <td>783565</td>\n",
       "      <td>37918301.0</td>\n",
       "      <td>1.6</td>\n",
       "      <td>79.1</td>\n",
       "    </tr>\n",
       "    <tr>\n",
       "      <th>1</th>\n",
       "      <td>India</td>\n",
       "      <td>34447536</td>\n",
       "      <td>463655</td>\n",
       "      <td>33849785.0</td>\n",
       "      <td>1.3</td>\n",
       "      <td>98.3</td>\n",
       "    </tr>\n",
       "    <tr>\n",
       "      <th>2</th>\n",
       "      <td>Brazil</td>\n",
       "      <td>21957967</td>\n",
       "      <td>611318</td>\n",
       "      <td>21151342.0</td>\n",
       "      <td>2.8</td>\n",
       "      <td>96.3</td>\n",
       "    </tr>\n",
       "    <tr>\n",
       "      <th>3</th>\n",
       "      <td>UK</td>\n",
       "      <td>9561099</td>\n",
       "      <td>142898</td>\n",
       "      <td>7825200.0</td>\n",
       "      <td>1.5</td>\n",
       "      <td>81.8</td>\n",
       "    </tr>\n",
       "    <tr>\n",
       "      <th>4</th>\n",
       "      <td>Russia</td>\n",
       "      <td>9109094</td>\n",
       "      <td>256597</td>\n",
       "      <td>7812557.0</td>\n",
       "      <td>2.8</td>\n",
       "      <td>85.8</td>\n",
       "    </tr>\n",
       "    <tr>\n",
       "      <th>...</th>\n",
       "      <td>...</td>\n",
       "      <td>...</td>\n",
       "      <td>...</td>\n",
       "      <td>...</td>\n",
       "      <td>...</td>\n",
       "      <td>...</td>\n",
       "    </tr>\n",
       "    <tr>\n",
       "      <th>207</th>\n",
       "      <td>Vanuatu</td>\n",
       "      <td>6</td>\n",
       "      <td>1</td>\n",
       "      <td>3.0</td>\n",
       "      <td>16.7</td>\n",
       "      <td>50.0</td>\n",
       "    </tr>\n",
       "    <tr>\n",
       "      <th>208</th>\n",
       "      <td>Marshall Islands</td>\n",
       "      <td>4</td>\n",
       "      <td>0</td>\n",
       "      <td>4.0</td>\n",
       "      <td>0.0</td>\n",
       "      <td>100.0</td>\n",
       "    </tr>\n",
       "    <tr>\n",
       "      <th>209</th>\n",
       "      <td>Samoa</td>\n",
       "      <td>3</td>\n",
       "      <td>0</td>\n",
       "      <td>3.0</td>\n",
       "      <td>0.0</td>\n",
       "      <td>100.0</td>\n",
       "    </tr>\n",
       "    <tr>\n",
       "      <th>210</th>\n",
       "      <td>Micronesia</td>\n",
       "      <td>1</td>\n",
       "      <td>0</td>\n",
       "      <td>1.0</td>\n",
       "      <td>0.0</td>\n",
       "      <td>100.0</td>\n",
       "    </tr>\n",
       "    <tr>\n",
       "      <th>211</th>\n",
       "      <td>Tonga</td>\n",
       "      <td>1</td>\n",
       "      <td>0</td>\n",
       "      <td>NaN</td>\n",
       "      <td>0.0</td>\n",
       "      <td>0.0</td>\n",
       "    </tr>\n",
       "  </tbody>\n",
       "</table>\n",
       "<p>212 rows × 6 columns</p>\n",
       "</div>"
      ],
      "text/plain": [
       "         Nome do país  Total de infectados  Total de óbitos  \\\n",
       "0                 USA             47916190           783565   \n",
       "1               India             34447536           463655   \n",
       "2              Brazil             21957967           611318   \n",
       "3                  UK              9561099           142898   \n",
       "4              Russia              9109094           256597   \n",
       "..                ...                  ...              ...   \n",
       "207           Vanuatu                    6                1   \n",
       "208  Marshall Islands                    4                0   \n",
       "209             Samoa                    3                0   \n",
       "210        Micronesia                    1                0   \n",
       "211             Tonga                    1                0   \n",
       "\n",
       "     Total de recuperados  Morte %  Recuperados %  \n",
       "0              37918301.0      1.6           79.1  \n",
       "1              33849785.0      1.3           98.3  \n",
       "2              21151342.0      2.8           96.3  \n",
       "3               7825200.0      1.5           81.8  \n",
       "4               7812557.0      2.8           85.8  \n",
       "..                    ...      ...            ...  \n",
       "207                   3.0     16.7           50.0  \n",
       "208                   4.0      0.0          100.0  \n",
       "209                   3.0      0.0          100.0  \n",
       "210                   1.0      0.0          100.0  \n",
       "211                   NaN      0.0            0.0  \n",
       "\n",
       "[212 rows x 6 columns]"
      ]
     },
     "metadata": {},
     "output_type": "display_data"
    }
   ],
   "source": [
    "tabela.columns=['Nome do país','Total de infectados', 'Total de óbitos', 'Total de recuperados', 'Morte %', 'Recuperados %']\n",
    "display(tabela)"
   ]
  },
  {
   "cell_type": "code",
   "execution_count": 4,
   "metadata": {},
   "outputs": [
    {
     "name": "stdout",
     "output_type": "stream",
     "text": [
      "<class 'pandas.core.frame.DataFrame'>\n",
      "RangeIndex: 212 entries, 0 to 211\n",
      "Data columns (total 6 columns):\n",
      " #   Column                Non-Null Count  Dtype  \n",
      "---  ------                --------------  -----  \n",
      " 0   Nome do país          212 non-null    object \n",
      " 1   Total de infectados   212 non-null    int64  \n",
      " 2   Total de óbitos       212 non-null    int64  \n",
      " 3   Total de recuperados  211 non-null    float64\n",
      " 4   Morte %               212 non-null    float64\n",
      " 5   Recuperados %         212 non-null    float64\n",
      "dtypes: float64(3), int64(2), object(1)\n",
      "memory usage: 10.1+ KB\n"
     ]
    }
   ],
   "source": [
    "tabela.info()"
   ]
  },
  {
   "cell_type": "code",
   "execution_count": 5,
   "metadata": {},
   "outputs": [],
   "source": [
    "tabela = tabela.dropna(how='all', axis=1)\n",
    "tabela = tabela.dropna(how=\"any\", axis=0)"
   ]
  },
  {
   "cell_type": "code",
   "execution_count": 6,
   "metadata": {},
   "outputs": [
    {
     "name": "stdout",
     "output_type": "stream",
     "text": [
      "<class 'pandas.core.frame.DataFrame'>\n",
      "Index: 211 entries, 0 to 210\n",
      "Data columns (total 6 columns):\n",
      " #   Column                Non-Null Count  Dtype  \n",
      "---  ------                --------------  -----  \n",
      " 0   Nome do país          211 non-null    object \n",
      " 1   Total de infectados   211 non-null    int64  \n",
      " 2   Total de óbitos       211 non-null    int64  \n",
      " 3   Total de recuperados  211 non-null    float64\n",
      " 4   Morte %               211 non-null    float64\n",
      " 5   Recuperados %         211 non-null    float64\n",
      "dtypes: float64(3), int64(2), object(1)\n",
      "memory usage: 11.5+ KB\n"
     ]
    }
   ],
   "source": [
    "tabela.info()"
   ]
  },
  {
   "cell_type": "code",
   "execution_count": 7,
   "metadata": {},
   "outputs": [
    {
     "data": {
      "text/plain": [
       "Nome do país            0\n",
       "Total de infectados     0\n",
       "Total de óbitos         0\n",
       "Total de recuperados    0\n",
       "Morte %                 0\n",
       "Recuperados %           0\n",
       "dtype: int64"
      ]
     },
     "execution_count": 7,
     "metadata": {},
     "output_type": "execute_result"
    }
   ],
   "source": [
    "tabela.isnull().sum()"
   ]
  },
  {
   "cell_type": "code",
   "execution_count": 8,
   "metadata": {},
   "outputs": [
    {
     "data": {
      "text/html": [
       "<div>\n",
       "<style scoped>\n",
       "    .dataframe tbody tr th:only-of-type {\n",
       "        vertical-align: middle;\n",
       "    }\n",
       "\n",
       "    .dataframe tbody tr th {\n",
       "        vertical-align: top;\n",
       "    }\n",
       "\n",
       "    .dataframe thead th {\n",
       "        text-align: right;\n",
       "    }\n",
       "</style>\n",
       "<table border=\"1\" class=\"dataframe\">\n",
       "  <thead>\n",
       "    <tr style=\"text-align: right;\">\n",
       "      <th></th>\n",
       "      <th>Nome do país</th>\n",
       "      <th>Total de infectados</th>\n",
       "      <th>Total de óbitos</th>\n",
       "      <th>Total de recuperados</th>\n",
       "      <th>Morte %</th>\n",
       "      <th>Recuperados %</th>\n",
       "    </tr>\n",
       "  </thead>\n",
       "  <tbody>\n",
       "    <tr>\n",
       "      <th>0</th>\n",
       "      <td>USA</td>\n",
       "      <td>47916190</td>\n",
       "      <td>783565</td>\n",
       "      <td>37918301.0</td>\n",
       "      <td>1.6</td>\n",
       "      <td>79.1</td>\n",
       "    </tr>\n",
       "    <tr>\n",
       "      <th>1</th>\n",
       "      <td>India</td>\n",
       "      <td>34447536</td>\n",
       "      <td>463655</td>\n",
       "      <td>33849785.0</td>\n",
       "      <td>1.3</td>\n",
       "      <td>98.3</td>\n",
       "    </tr>\n",
       "    <tr>\n",
       "      <th>2</th>\n",
       "      <td>Brazil</td>\n",
       "      <td>21957967</td>\n",
       "      <td>611318</td>\n",
       "      <td>21151342.0</td>\n",
       "      <td>2.8</td>\n",
       "      <td>96.3</td>\n",
       "    </tr>\n",
       "    <tr>\n",
       "      <th>3</th>\n",
       "      <td>UK</td>\n",
       "      <td>9561099</td>\n",
       "      <td>142898</td>\n",
       "      <td>7825200.0</td>\n",
       "      <td>1.5</td>\n",
       "      <td>81.8</td>\n",
       "    </tr>\n",
       "    <tr>\n",
       "      <th>4</th>\n",
       "      <td>Russia</td>\n",
       "      <td>9109094</td>\n",
       "      <td>256597</td>\n",
       "      <td>7812557.0</td>\n",
       "      <td>2.8</td>\n",
       "      <td>85.8</td>\n",
       "    </tr>\n",
       "    <tr>\n",
       "      <th>...</th>\n",
       "      <td>...</td>\n",
       "      <td>...</td>\n",
       "      <td>...</td>\n",
       "      <td>...</td>\n",
       "      <td>...</td>\n",
       "      <td>...</td>\n",
       "    </tr>\n",
       "    <tr>\n",
       "      <th>206</th>\n",
       "      <td>Palau</td>\n",
       "      <td>8</td>\n",
       "      <td>0</td>\n",
       "      <td>8.0</td>\n",
       "      <td>0.0</td>\n",
       "      <td>100.0</td>\n",
       "    </tr>\n",
       "    <tr>\n",
       "      <th>207</th>\n",
       "      <td>Vanuatu</td>\n",
       "      <td>6</td>\n",
       "      <td>1</td>\n",
       "      <td>3.0</td>\n",
       "      <td>16.7</td>\n",
       "      <td>50.0</td>\n",
       "    </tr>\n",
       "    <tr>\n",
       "      <th>208</th>\n",
       "      <td>Marshall Islands</td>\n",
       "      <td>4</td>\n",
       "      <td>0</td>\n",
       "      <td>4.0</td>\n",
       "      <td>0.0</td>\n",
       "      <td>100.0</td>\n",
       "    </tr>\n",
       "    <tr>\n",
       "      <th>209</th>\n",
       "      <td>Samoa</td>\n",
       "      <td>3</td>\n",
       "      <td>0</td>\n",
       "      <td>3.0</td>\n",
       "      <td>0.0</td>\n",
       "      <td>100.0</td>\n",
       "    </tr>\n",
       "    <tr>\n",
       "      <th>210</th>\n",
       "      <td>Micronesia</td>\n",
       "      <td>1</td>\n",
       "      <td>0</td>\n",
       "      <td>1.0</td>\n",
       "      <td>0.0</td>\n",
       "      <td>100.0</td>\n",
       "    </tr>\n",
       "  </tbody>\n",
       "</table>\n",
       "<p>211 rows × 6 columns</p>\n",
       "</div>"
      ],
      "text/plain": [
       "         Nome do país  Total de infectados  Total de óbitos  \\\n",
       "0                 USA             47916190           783565   \n",
       "1               India             34447536           463655   \n",
       "2              Brazil             21957967           611318   \n",
       "3                  UK              9561099           142898   \n",
       "4              Russia              9109094           256597   \n",
       "..                ...                  ...              ...   \n",
       "206             Palau                    8                0   \n",
       "207           Vanuatu                    6                1   \n",
       "208  Marshall Islands                    4                0   \n",
       "209             Samoa                    3                0   \n",
       "210        Micronesia                    1                0   \n",
       "\n",
       "     Total de recuperados  Morte %  Recuperados %  \n",
       "0              37918301.0      1.6           79.1  \n",
       "1              33849785.0      1.3           98.3  \n",
       "2              21151342.0      2.8           96.3  \n",
       "3               7825200.0      1.5           81.8  \n",
       "4               7812557.0      2.8           85.8  \n",
       "..                    ...      ...            ...  \n",
       "206                   8.0      0.0          100.0  \n",
       "207                   3.0     16.7           50.0  \n",
       "208                   4.0      0.0          100.0  \n",
       "209                   3.0      0.0          100.0  \n",
       "210                   1.0      0.0          100.0  \n",
       "\n",
       "[211 rows x 6 columns]"
      ]
     },
     "metadata": {},
     "output_type": "display_data"
    }
   ],
   "source": [
    "display(tabela)"
   ]
  },
  {
   "cell_type": "code",
   "execution_count": 9,
   "metadata": {},
   "outputs": [
    {
     "data": {
      "text/html": [
       "<div>\n",
       "<style scoped>\n",
       "    .dataframe tbody tr th:only-of-type {\n",
       "        vertical-align: middle;\n",
       "    }\n",
       "\n",
       "    .dataframe tbody tr th {\n",
       "        vertical-align: top;\n",
       "    }\n",
       "\n",
       "    .dataframe thead th {\n",
       "        text-align: right;\n",
       "    }\n",
       "</style>\n",
       "<table border=\"1\" class=\"dataframe\">\n",
       "  <thead>\n",
       "    <tr style=\"text-align: right;\">\n",
       "      <th></th>\n",
       "      <th>Nome do país</th>\n",
       "      <th>Morte %</th>\n",
       "    </tr>\n",
       "  </thead>\n",
       "  <tbody>\n",
       "    <tr>\n",
       "      <th>172</th>\n",
       "      <td>Yemen</td>\n",
       "      <td>19.4</td>\n",
       "    </tr>\n",
       "    <tr>\n",
       "      <th>207</th>\n",
       "      <td>Vanuatu</td>\n",
       "      <td>16.7</td>\n",
       "    </tr>\n",
       "    <tr>\n",
       "      <th>205</th>\n",
       "      <td>Western Sahara</td>\n",
       "      <td>10.0</td>\n",
       "    </tr>\n",
       "    <tr>\n",
       "      <th>21</th>\n",
       "      <td>Peru</td>\n",
       "      <td>9.1</td>\n",
       "    </tr>\n",
       "    <tr>\n",
       "      <th>129</th>\n",
       "      <td>Sudan</td>\n",
       "      <td>7.7</td>\n",
       "    </tr>\n",
       "    <tr>\n",
       "      <th>14</th>\n",
       "      <td>Mexico</td>\n",
       "      <td>7.6</td>\n",
       "    </tr>\n",
       "    <tr>\n",
       "      <th>60</th>\n",
       "      <td>Ecuador</td>\n",
       "      <td>6.3</td>\n",
       "    </tr>\n",
       "    <tr>\n",
       "      <th>125</th>\n",
       "      <td>Syria</td>\n",
       "      <td>5.8</td>\n",
       "    </tr>\n",
       "    <tr>\n",
       "      <th>142</th>\n",
       "      <td>Somalia</td>\n",
       "      <td>5.7</td>\n",
       "    </tr>\n",
       "    <tr>\n",
       "      <th>79</th>\n",
       "      <td>Egypt</td>\n",
       "      <td>5.7</td>\n",
       "    </tr>\n",
       "  </tbody>\n",
       "</table>\n",
       "</div>"
      ],
      "text/plain": [
       "       Nome do país  Morte %\n",
       "172           Yemen     19.4\n",
       "207         Vanuatu     16.7\n",
       "205  Western Sahara     10.0\n",
       "21             Peru      9.1\n",
       "129           Sudan      7.7\n",
       "14           Mexico      7.6\n",
       "60          Ecuador      6.3\n",
       "125           Syria      5.8\n",
       "142         Somalia      5.7\n",
       "79            Egypt      5.7"
      ]
     },
     "execution_count": 9,
     "metadata": {},
     "output_type": "execute_result"
    }
   ],
   "source": [
    "porcento_morte = tabela[[\"Nome do país\",\"Morte %\"]].sort_values(by=\"Morte %\", ascending=False)[:10]\n",
    "porcento_morte"
   ]
  },
  {
   "cell_type": "code",
   "execution_count": 10,
   "metadata": {},
   "outputs": [
    {
     "data": {
      "image/png": "[encoded data removed]",
      "text/plain": [
       "<Figure size 640x480 with 1 Axes>"
      ]
     },
     "metadata": {},
     "output_type": "display_data"
    }
   ],
   "source": [
    "porcento_morte[:10].plot.barh(x='Nome do país', y='Morte %',color='green',title='TOP 10 Percentual de Morte');"
   ]
  },
  {
   "cell_type": "code",
   "execution_count": 11,
   "metadata": {},
   "outputs": [
    {
     "data": {
      "text/html": [
       "<div>\n",
       "<style scoped>\n",
       "    .dataframe tbody tr th:only-of-type {\n",
       "        vertical-align: middle;\n",
       "    }\n",
       "\n",
       "    .dataframe tbody tr th {\n",
       "        vertical-align: top;\n",
       "    }\n",
       "\n",
       "    .dataframe thead th {\n",
       "        text-align: right;\n",
       "    }\n",
       "</style>\n",
       "<table border=\"1\" class=\"dataframe\">\n",
       "  <thead>\n",
       "    <tr style=\"text-align: right;\">\n",
       "      <th></th>\n",
       "      <th>Nome do país</th>\n",
       "      <th>Total de óbitos</th>\n",
       "    </tr>\n",
       "  </thead>\n",
       "  <tbody>\n",
       "    <tr>\n",
       "      <th>0</th>\n",
       "      <td>USA</td>\n",
       "      <td>783565</td>\n",
       "    </tr>\n",
       "    <tr>\n",
       "      <th>2</th>\n",
       "      <td>Brazil</td>\n",
       "      <td>611318</td>\n",
       "    </tr>\n",
       "    <tr>\n",
       "      <th>1</th>\n",
       "      <td>India</td>\n",
       "      <td>463655</td>\n",
       "    </tr>\n",
       "    <tr>\n",
       "      <th>14</th>\n",
       "      <td>Mexico</td>\n",
       "      <td>291147</td>\n",
       "    </tr>\n",
       "    <tr>\n",
       "      <th>4</th>\n",
       "      <td>Russia</td>\n",
       "      <td>256597</td>\n",
       "    </tr>\n",
       "    <tr>\n",
       "      <th>21</th>\n",
       "      <td>Peru</td>\n",
       "      <td>200635</td>\n",
       "    </tr>\n",
       "    <tr>\n",
       "      <th>13</th>\n",
       "      <td>Indonesia</td>\n",
       "      <td>143670</td>\n",
       "    </tr>\n",
       "    <tr>\n",
       "      <th>3</th>\n",
       "      <td>UK</td>\n",
       "      <td>142898</td>\n",
       "    </tr>\n",
       "    <tr>\n",
       "      <th>12</th>\n",
       "      <td>Italy</td>\n",
       "      <td>132775</td>\n",
       "    </tr>\n",
       "    <tr>\n",
       "      <th>7</th>\n",
       "      <td>Iran</td>\n",
       "      <td>128272</td>\n",
       "    </tr>\n",
       "  </tbody>\n",
       "</table>\n",
       "</div>"
      ],
      "text/plain": [
       "   Nome do país  Total de óbitos\n",
       "0           USA           783565\n",
       "2        Brazil           611318\n",
       "1         India           463655\n",
       "14       Mexico           291147\n",
       "4        Russia           256597\n",
       "21         Peru           200635\n",
       "13    Indonesia           143670\n",
       "3            UK           142898\n",
       "12        Italy           132775\n",
       "7          Iran           128272"
      ]
     },
     "execution_count": 11,
     "metadata": {},
     "output_type": "execute_result"
    }
   ],
   "source": [
    "top_Mortos = tabela[[\"Nome do país\",\"Total de óbitos\"]].sort_values(by=\"Total de óbitos\", ascending=False)[:10]\n",
    "top_Mortos"
   ]
  },
  {
   "cell_type": "code",
   "execution_count": 12,
   "metadata": {},
   "outputs": [
    {
     "data": {
      "image/png": "[encoded data removed]",
      "text/plain": [
       "<Figure size 640x480 with 1 Axes>"
      ]
     },
     "metadata": {},
     "output_type": "display_data"
    }
   ],
   "source": [
    "top_Mortos[:10].plot.barh(x='Nome do país', y='Total de óbitos',color='red',title='TOP 10 Mais Mortes');"
   ]
  },
  {
   "cell_type": "code",
   "execution_count": 13,
   "metadata": {},
   "outputs": [
    {
     "data": {
      "text/html": [
       "<div>\n",
       "<style scoped>\n",
       "    .dataframe tbody tr th:only-of-type {\n",
       "        vertical-align: middle;\n",
       "    }\n",
       "\n",
       "    .dataframe tbody tr th {\n",
       "        vertical-align: top;\n",
       "    }\n",
       "\n",
       "    .dataframe thead th {\n",
       "        text-align: right;\n",
       "    }\n",
       "</style>\n",
       "<table border=\"1\" class=\"dataframe\">\n",
       "  <thead>\n",
       "    <tr style=\"text-align: right;\">\n",
       "      <th></th>\n",
       "      <th>Nome do país</th>\n",
       "      <th>Total de óbitos</th>\n",
       "    </tr>\n",
       "  </thead>\n",
       "  <tbody>\n",
       "    <tr>\n",
       "      <th>210</th>\n",
       "      <td>Micronesia</td>\n",
       "      <td>0</td>\n",
       "    </tr>\n",
       "    <tr>\n",
       "      <th>208</th>\n",
       "      <td>Marshall Islands</td>\n",
       "      <td>0</td>\n",
       "    </tr>\n",
       "    <tr>\n",
       "      <th>206</th>\n",
       "      <td>Palau</td>\n",
       "      <td>0</td>\n",
       "    </tr>\n",
       "    <tr>\n",
       "      <th>204</th>\n",
       "      <td>Solomon Islands</td>\n",
       "      <td>0</td>\n",
       "    </tr>\n",
       "    <tr>\n",
       "      <th>202</th>\n",
       "      <td>Macao</td>\n",
       "      <td>0</td>\n",
       "    </tr>\n",
       "    <tr>\n",
       "      <th>209</th>\n",
       "      <td>Samoa</td>\n",
       "      <td>0</td>\n",
       "    </tr>\n",
       "    <tr>\n",
       "      <th>199</th>\n",
       "      <td>Greenland</td>\n",
       "      <td>0</td>\n",
       "    </tr>\n",
       "    <tr>\n",
       "      <th>207</th>\n",
       "      <td>Vanuatu</td>\n",
       "      <td>1</td>\n",
       "    </tr>\n",
       "    <tr>\n",
       "      <th>205</th>\n",
       "      <td>Western Sahara</td>\n",
       "      <td>1</td>\n",
       "    </tr>\n",
       "    <tr>\n",
       "      <th>203</th>\n",
       "      <td>Montserrat</td>\n",
       "      <td>1</td>\n",
       "    </tr>\n",
       "  </tbody>\n",
       "</table>\n",
       "</div>"
      ],
      "text/plain": [
       "         Nome do país  Total de óbitos\n",
       "210        Micronesia                0\n",
       "208  Marshall Islands                0\n",
       "206             Palau                0\n",
       "204   Solomon Islands                0\n",
       "202             Macao                0\n",
       "209             Samoa                0\n",
       "199         Greenland                0\n",
       "207           Vanuatu                1\n",
       "205    Western Sahara                1\n",
       "203        Montserrat                1"
      ]
     },
     "execution_count": 13,
     "metadata": {},
     "output_type": "execute_result"
    }
   ],
   "source": [
    "menos_mortes = tabela[[\"Nome do país\",\"Total de óbitos\"]].sort_values(by=\"Total de óbitos\", ascending=True)[:10]\n",
    "menos_mortes"
   ]
  },
  {
   "cell_type": "code",
   "execution_count": 14,
   "metadata": {},
   "outputs": [
    {
     "data": {
      "image/png": "[encoded data removed]",
      "text/plain": [
       "<Figure size 640x480 with 1 Axes>"
      ]
     },
     "metadata": {},
     "output_type": "display_data"
    }
   ],
   "source": [
    "menos_mortes[:10].plot.barh(x='Nome do país', y='Total de óbitos',color='yellow',title='TOP 10 Menos Mortes');"
   ]
  },
  {
   "cell_type": "code",
   "execution_count": 15,
   "metadata": {},
   "outputs": [
    {
     "data": {
      "text/html": [
       "<div>\n",
       "<style scoped>\n",
       "    .dataframe tbody tr th:only-of-type {\n",
       "        vertical-align: middle;\n",
       "    }\n",
       "\n",
       "    .dataframe tbody tr th {\n",
       "        vertical-align: top;\n",
       "    }\n",
       "\n",
       "    .dataframe thead th {\n",
       "        text-align: right;\n",
       "    }\n",
       "</style>\n",
       "<table border=\"1\" class=\"dataframe\">\n",
       "  <thead>\n",
       "    <tr style=\"text-align: right;\">\n",
       "      <th></th>\n",
       "      <th>Nome do país</th>\n",
       "      <th>Total de recuperados</th>\n",
       "    </tr>\n",
       "  </thead>\n",
       "  <tbody>\n",
       "    <tr>\n",
       "      <th>0</th>\n",
       "      <td>USA</td>\n",
       "      <td>37918301.0</td>\n",
       "    </tr>\n",
       "    <tr>\n",
       "      <th>1</th>\n",
       "      <td>India</td>\n",
       "      <td>33849785.0</td>\n",
       "    </tr>\n",
       "    <tr>\n",
       "      <th>2</th>\n",
       "      <td>Brazil</td>\n",
       "      <td>21151342.0</td>\n",
       "    </tr>\n",
       "    <tr>\n",
       "      <th>5</th>\n",
       "      <td>Turkey</td>\n",
       "      <td>7888959.0</td>\n",
       "    </tr>\n",
       "    <tr>\n",
       "      <th>3</th>\n",
       "      <td>UK</td>\n",
       "      <td>7825200.0</td>\n",
       "    </tr>\n",
       "    <tr>\n",
       "      <th>4</th>\n",
       "      <td>Russia</td>\n",
       "      <td>7812557.0</td>\n",
       "    </tr>\n",
       "    <tr>\n",
       "      <th>6</th>\n",
       "      <td>France</td>\n",
       "      <td>7009026.0</td>\n",
       "    </tr>\n",
       "    <tr>\n",
       "      <th>7</th>\n",
       "      <td>Iran</td>\n",
       "      <td>5708253.0</td>\n",
       "    </tr>\n",
       "    <tr>\n",
       "      <th>8</th>\n",
       "      <td>Argentina</td>\n",
       "      <td>5172193.0</td>\n",
       "    </tr>\n",
       "    <tr>\n",
       "      <th>9</th>\n",
       "      <td>Spain</td>\n",
       "      <td>4889801.0</td>\n",
       "    </tr>\n",
       "  </tbody>\n",
       "</table>\n",
       "</div>"
      ],
      "text/plain": [
       "  Nome do país  Total de recuperados\n",
       "0          USA            37918301.0\n",
       "1        India            33849785.0\n",
       "2       Brazil            21151342.0\n",
       "5       Turkey             7888959.0\n",
       "3           UK             7825200.0\n",
       "4       Russia             7812557.0\n",
       "6       France             7009026.0\n",
       "7         Iran             5708253.0\n",
       "8    Argentina             5172193.0\n",
       "9        Spain             4889801.0"
      ]
     },
     "execution_count": 15,
     "metadata": {},
     "output_type": "execute_result"
    }
   ],
   "source": [
    "recuperados = tabela[[\"Nome do país\",\"Total de recuperados\"]].sort_values(by=\"Total de recuperados\", ascending=False)[:10]\n",
    "recuperados"
   ]
  },
  {
   "cell_type": "code",
   "execution_count": 16,
   "metadata": {},
   "outputs": [
    {
     "data": {
      "image/png": "[encoded data removed]",
      "text/plain": [
       "<Figure size 640x480 with 1 Axes>"
      ]
     },
     "metadata": {},
     "output_type": "display_data"
    }
   ],
   "source": [
    "recuperados[:10].plot.barh(x='Nome do país', y='Total de recuperados',color='blue',title='TOP 10 Casos de Recuperação');"
   ]
  },
  {
   "cell_type": "code",
   "execution_count": 17,
   "metadata": {},
   "outputs": [
    {
     "data": {
      "application/vnd.plotly.v1+json": {
       "config": {
        "plotlyServerURL": "https://plot.ly"
       },
       "data": [
        {
         "geo": "geo",
         "hovertemplate": "Total de infectados=%{marker.color}<br>Nome do país=%{location}<extra></extra>",
         "legendgroup": "",
         "locationmode": "country names",
         "locations": [
          "USA",
          "India",
          "Brazil",
          "UK",
          "Russia",
          "Turkey",
          "France",
          "Iran",
          "Argentina",
          "Spain",
          "Germany",
          "Colombia",
          "Italy",
          "Indonesia",
          "Mexico",
          "Ukraine",
          "Poland",
          "South Africa",
          "Philippines",
          "Malaysia",
          "Netherlands",
          "Peru",
          "Iraq",
          "Thailand",
          "Czech Republic",
          "Canada",
          "Romania",
          "Chile",
          "Japan",
          "Bangladesh",
          "Belgium",
          "Israel",
          "Pakistan",
          "Serbia",
          "Sweden",
          "Portugal",
          "Vietnam",
          "Austria",
          "Hungary",
          "Cuba",
          "Kazakhstan",
          "Morocco",
          "Switzerland",
          "Jordan",
          "Greece",
          "Nepal",
          "Georgia",
          "UAE",
          "Tunisia",
          "Bulgaria",
          "Lebanon",
          "Belarus",
          "Guatemala",
          "Costa Rica",
          "Slovakia",
          "Azerbaijan",
          "Sri Lanka",
          "Saudi Arabia",
          "Croatia",
          "Bolivia",
          "Ecuador",
          "Myanmar",
          "Ireland",
          "Panama",
          "Paraguay",
          "Lithuania",
          "Denmark",
          "Palestine",
          "Venezuela",
          "Kuwait",
          "South Korea",
          "Uruguay",
          "Dominican Republic",
          "Slovenia",
          "Honduras",
          "Mongolia",
          "Ethiopia",
          "Libya",
          "Moldova",
          "Egypt",
          "Armenia",
          "Oman",
          "Bahrain",
          "Bosnia and Herzegovina",
          "Kenya",
          "Qatar",
          "Latvia",
          "Singapore",
          "Norway",
          "Nigeria",
          "Estonia",
          "Zambia",
          "North Macedonia",
          "Algeria",
          "Botswana",
          "Albania",
          "Australia",
          "Uzbekistan",
          "Kyrgyzstan",
          "Finland",
          "Afghanistan",
          "Montenegro",
          "Mozambique",
          "Zimbabwe",
          "Ghana",
          "Namibia",
          "Uganda",
          "Cyprus",
          "Cambodia",
          "El Salvador",
          "Cameroon",
          "Rwanda",
          "China",
          "Jamaica",
          "Maldives",
          "Luxembourg",
          "Senegal",
          "Angola",
          "Trinidad and Tobago",
          "Malawi",
          "DRC",
          "RÃ©union",
          "Guadeloupe",
          "Fiji",
          "Suriname",
          "Syria",
          "French Guiana",
          "Martinique",
          "Madagascar",
          "Sudan",
          "French Polynesia",
          "Malta",
          "Mauritania",
          "Guyana",
          "Gabon",
          "Papua New Guinea",
          "Guinea",
          "Belize",
          "Tanzania",
          "Togo",
          "Benin",
          "Haiti",
          "Somalia",
          "Seychelles",
          "Bahamas",
          "Barbados",
          "Lesotho",
          "Mayotte",
          "Burundi",
          "Timor-Leste",
          "Mauritius",
          "Congo",
          "CuraÃ§ao",
          "Tajikistan",
          "Nicaragua",
          "Mali",
          "Taiwan",
          "Aruba",
          "Andorra",
          "Iceland",
          "Burkina Faso",
          "Channel Islands",
          "Brunei",
          "Djibouti",
          "Equatorial Guinea",
          "Saint Lucia",
          "South Sudan",
          "Hong Kong",
          "Central African Republic",
          "New Caledonia",
          "Isle of Man",
          "Gambia",
          "Yemen",
          "New Zealand",
          "Eritrea",
          "Niger",
          "Gibraltar",
          "Guinea-Bissau",
          "Sierra Leone",
          "Liberia",
          "Grenada",
          "Bermuda",
          "San Marino",
          "Dominica",
          "Saint Vincent and the Grenadines",
          "Chad",
          "Sint Maarten",
          "Comoros",
          "Cayman Islands",
          "Antigua and Barbuda",
          "Saint Martin",
          "Liechtenstein",
          "Monaco",
          "Faroe Islands",
          "Saint Kitts and Nevis",
          "British Virgin Islands",
          "Caribbean Netherlands",
          "Bhutan",
          "Anguilla",
          "Greenland",
          "Diamond Princess",
          "Wallis and Futuna",
          "Macao",
          "Montserrat",
          "Solomon Islands",
          "Western Sahara",
          "Palau",
          "Vanuatu",
          "Marshall Islands",
          "Samoa",
          "Micronesia"
         ],
         "marker": {
          "color": [
           47916190,
           34447536,
           21957967,
           9561099,
           9109094,
           8408166,
           7287645,
           6045212,
           5305742,
           5047156,
           5038436,
           5031945,
           4860061,
           4251076,
           3845733,
           3228441,
           3214023,
           2925939,
           2818511,
           2546309,
           2295107,
           2214543,
           2069247,
           2024753,
           1896075,
           1748391,
           1744440,
           1726481,
           1725466,
           1572501,
           1484712,
           1337493,
           1279876,
           1211163,
           1182471,
           1107488,
           1035138,
           971541,
           960844,
           958738,
           957537,
           948226,
           918745,
           892123,
           831874,
           817333,
           785911,
           741006,
           715687,
           655647,
           652735,
           629271,
           610004,
           564159,
           563445,
           560853,
           551343,
           549260,
           539887,
           523485,
           519560,
           513262,
           498448,
           474621,
           461957,
           444181,
           426992,
           426798,
           419745,
           413008,
           397466,
           396545,
           395856,
           379964,
           376967,
           373344,
           368822,
           365237,
           352822,
           343961,
           329341,
           304437,
           277223,
           263587,
           254309,
           241232,
           240762,
           237203,
           228526,
           213147,
           212607,
           209996,
           209277,
           207970,
           193701,
           193075,
           190624,
           189915,
           182425,
           170285,
           156610,
           152087,
           151427,
           133438,
           130649,
           129060,
           126965,
           124225,
           119588,
           117884,
           106190,
           100136,
           98315,
           90209,
           89840,
           84248,
           73958,
           64913,
           62267,
           61843,
           57729,
           55865,
           54920,
           52397,
           50078,
           46275,
           45366,
           43881,
           43672,
           40238,
           40178,
           38255,
           38133,
           36817,
           36692,
           32985,
           30715,
           28899,
           26196,
           26158,
           24833,
           24543,
           22837,
           22633,
           22572,
           22093,
           21691,
           20769,
           20221,
           19810,
           18979,
           18153,
           17225,
           17091,
           16877,
           16666,
           16496,
           16083,
           15819,
           15741,
           15281,
           14519,
           14215,
           13495,
           13485,
           12837,
           12558,
           12388,
           11666,
           11620,
           10255,
           9980,
           9918,
           8866,
           7055,
           6692,
           6561,
           6402,
           6396,
           5915,
           5863,
           5708,
           5598,
           5336,
           5270,
           5105,
           4532,
           4396,
           4203,
           4118,
           3872,
           3822,
           3478,
           2939,
           2749,
           2725,
           2628,
           2625,
           1137,
           990,
           712,
           445,
           77,
           41,
           20,
           10,
           8,
           6,
           4,
           3,
           1
          ],
          "coloraxis": "coloraxis",
          "size": [
           47916190,
           34447536,
           21957967,
           9561099,
           9109094,
           8408166,
           7287645,
           6045212,
           5305742,
           5047156,
           5038436,
           5031945,
           4860061,
           4251076,
           3845733,
           3228441,
           3214023,
           2925939,
           2818511,
           2546309,
           2295107,
           2214543,
           2069247,
           2024753,
           1896075,
           1748391,
           1744440,
           1726481,
           1725466,
           1572501,
           1484712,
           1337493,
           1279876,
           1211163,
           1182471,
           1107488,
           1035138,
           971541,
           960844,
           958738,
           957537,
           948226,
           918745,
           892123,
           831874,
           817333,
           785911,
           741006,
           715687,
           655647,
           652735,
           629271,
           610004,
           564159,
           563445,
           560853,
           551343,
           549260,
           539887,
           523485,
           519560,
           513262,
           498448,
           474621,
           461957,
           444181,
           426992,
           426798,
           419745,
           413008,
           397466,
           396545,
           395856,
           379964,
           376967,
           373344,
           368822,
           365237,
           352822,
           343961,
           329341,
           304437,
           277223,
           263587,
           254309,
           241232,
           240762,
           237203,
           228526,
           213147,
           212607,
           209996,
           209277,
           207970,
           193701,
           193075,
           190624,
           189915,
           182425,
           170285,
           156610,
           152087,
           151427,
           133438,
           130649,
           129060,
           126965,
           124225,
           119588,
           117884,
           106190,
           100136,
           98315,
           90209,
           89840,
           84248,
           73958,
           64913,
           62267,
           61843,
           57729,
           55865,
           54920,
           52397,
           50078,
           46275,
           45366,
           43881,
           43672,
           40238,
           40178,
           38255,
           38133,
           36817,
           36692,
           32985,
           30715,
           28899,
           26196,
           26158,
           24833,
           24543,
           22837,
           22633,
           22572,
           22093,
           21691,
           20769,
           20221,
           19810,
           18979,
           18153,
           17225,
           17091,
           16877,
           16666,
           16496,
           16083,
           15819,
           15741,
           15281,
           14519,
           14215,
           13495,
           13485,
           12837,
           12558,
           12388,
           11666,
           11620,
           10255,
           9980,
           9918,
           8866,
           7055,
           6692,
           6561,
           6402,
           6396,
           5915,
           5863,
           5708,
           5598,
           5336,
           5270,
           5105,
           4532,
           4396,
           4203,
           4118,
           3872,
           3822,
           3478,
           2939,
           2749,
           2725,
           2628,
           2625,
           1137,
           990,
           712,
           445,
           77,
           41,
           20,
           10,
           8,
           6,
           4,
           3,
           1
          ],
          "sizemode": "area",
          "sizeref": 11341.110059171597,
          "symbol": "circle"
         },
         "mode": "markers",
         "name": "",
         "showlegend": false,
         "type": "scattergeo"
        }
       ],
       "layout": {
        "coloraxis": {
         "colorbar": {
          "title": {
           "text": "Total de infectados"
          }
         },
         "colorscale": [
          [
           0,
           "#30123b"
          ],
          [
           0.07142857142857142,
           "#4145ab"
          ],
          [
           0.14285714285714285,
           "#4675ed"
          ],
          [
           0.21428571428571427,
           "#39a2fc"
          ],
          [
           0.2857142857142857,
           "#1bcfd4"
          ],
          [
           0.35714285714285715,
           "#24eca6"
          ],
          [
           0.42857142857142855,
           "#61fc6c"
          ],
          [
           0.5,
           "#a4fc3b"
          ],
          [
           0.5714285714285714,
           "#d1e834"
          ],
          [
           0.6428571428571429,
           "#f3c63a"
          ],
          [
           0.7142857142857143,
           "#fe9b2d"
          ],
          [
           0.7857142857142857,
           "#f36315"
          ],
          [
           0.8571428571428571,
           "#d93806"
          ],
          [
           0.9285714285714286,
           "#b11901"
          ],
          [
           1,
           "#7a0402"
          ]
         ]
        },
        "geo": {
         "center": {},
         "domain": {
          "x": [
           0,
           1
          ],
          "y": [
           0,
           1
          ]
         },
         "scope": "world"
        },
        "legend": {
         "itemsizing": "constant",
         "tracegroupgap": 0
        },
        "template": {
         "data": {
          "bar": [
           {
            "error_x": {
             "color": "#2a3f5f"
            },
            "error_y": {
             "color": "#2a3f5f"
            },
            "marker": {
             "line": {
              "color": "#E5ECF6",
              "width": 0.5
             },
             "pattern": {
              "fillmode": "overlay",
              "size": 10,
              "solidity": 0.2
             }
            },
            "type": "bar"
           }
          ],
          "barpolar": [
           {
            "marker": {
             "line": {
              "color": "#E5ECF6",
              "width": 0.5
             },
             "pattern": {
              "fillmode": "overlay",
              "size": 10,
              "solidity": 0.2
             }
            },
            "type": "barpolar"
           }
          ],
          "carpet": [
           {
            "aaxis": {
             "endlinecolor": "#2a3f5f",
             "gridcolor": "white",
             "linecolor": "white",
             "minorgridcolor": "white",
             "startlinecolor": "#2a3f5f"
            },
            "baxis": {
             "endlinecolor": "#2a3f5f",
             "gridcolor": "white",
             "linecolor": "white",
             "minorgridcolor": "white",
             "startlinecolor": "#2a3f5f"
            },
            "type": "carpet"
           }
          ],
          "choropleth": [
           {
            "colorbar": {
             "outlinewidth": 0,
             "ticks": ""
            },
            "type": "choropleth"
           }
          ],
          "contour": [
           {
            "colorbar": {
             "outlinewidth": 0,
             "ticks": ""
            },
            "colorscale": [
             [
              0,
              "#0d0887"
             ],
             [
              0.1111111111111111,
              "#46039f"
             ],
             [
              0.2222222222222222,
              "#7201a8"
             ],
             [
              0.3333333333333333,
              "#9c179e"
             ],
             [
              0.4444444444444444,
              "#bd3786"
             ],
             [
              0.5555555555555556,
              "#d8576b"
             ],
             [
              0.6666666666666666,
              "#ed7953"
             ],
             [
              0.7777777777777778,
              "#fb9f3a"
             ],
             [
              0.8888888888888888,
              "#fdca26"
             ],
             [
              1,
              "#f0f921"
             ]
            ],
            "type": "contour"
           }
          ],
          "contourcarpet": [
           {
            "colorbar": {
             "outlinewidth": 0,
             "ticks": ""
            },
            "type": "contourcarpet"
           }
          ],
          "heatmap": [
           {
            "colorbar": {
             "outlinewidth": 0,
             "ticks": ""
            },
            "colorscale": [
             [
              0,
              "#0d0887"
             ],
             [
              0.1111111111111111,
              "#46039f"
             ],
             [
              0.2222222222222222,
              "#7201a8"
             ],
             [
              0.3333333333333333,
              "#9c179e"
             ],
             [
              0.4444444444444444,
              "#bd3786"
             ],
             [
              0.5555555555555556,
              "#d8576b"
             ],
             [
              0.6666666666666666,
              "#ed7953"
             ],
             [
              0.7777777777777778,
              "#fb9f3a"
             ],
             [
              0.8888888888888888,
              "#fdca26"
             ],
             [
              1,
              "#f0f921"
             ]
            ],
            "type": "heatmap"
           }
          ],
          "heatmapgl": [
           {
            "colorbar": {
             "outlinewidth": 0,
             "ticks": ""
            },
            "colorscale": [
             [
              0,
              "#0d0887"
             ],
             [
              0.1111111111111111,
              "#46039f"
             ],
             [
              0.2222222222222222,
              "#7201a8"
             ],
             [
              0.3333333333333333,
              "#9c179e"
             ],
             [
              0.4444444444444444,
              "#bd3786"
             ],
             [
              0.5555555555555556,
              "#d8576b"
             ],
             [
              0.6666666666666666,
              "#ed7953"
             ],
             [
              0.7777777777777778,
              "#fb9f3a"
             ],
             [
              0.8888888888888888,
              "#fdca26"
             ],
             [
              1,
              "#f0f921"
             ]
            ],
            "type": "heatmapgl"
           }
          ],
          "histogram": [
           {
            "marker": {
             "pattern": {
              "fillmode": "overlay",
              "size": 10,
              "solidity": 0.2
             }
            },
            "type": "histogram"
           }
          ],
          "histogram2d": [
           {
            "colorbar": {
             "outlinewidth": 0,
             "ticks": ""
            },
            "colorscale": [
             [
              0,
              "#0d0887"
             ],
             [
              0.1111111111111111,
              "#46039f"
             ],
             [
              0.2222222222222222,
              "#7201a8"
             ],
             [
              0.3333333333333333,
              "#9c179e"
             ],
             [
              0.4444444444444444,
              "#bd3786"
             ],
             [
              0.5555555555555556,
              "#d8576b"
             ],
             [
              0.6666666666666666,
              "#ed7953"
             ],
             [
              0.7777777777777778,
              "#fb9f3a"
             ],
             [
              0.8888888888888888,
              "#fdca26"
             ],
             [
              1,
              "#f0f921"
             ]
            ],
            "type": "histogram2d"
           }
          ],
          "histogram2dcontour": [
           {
            "colorbar": {
             "outlinewidth": 0,
             "ticks": ""
            },
            "colorscale": [
             [
              0,
              "#0d0887"
             ],
             [
              0.1111111111111111,
              "#46039f"
             ],
             [
              0.2222222222222222,
              "#7201a8"
             ],
             [
              0.3333333333333333,
              "#9c179e"
             ],
             [
              0.4444444444444444,
              "#bd3786"
             ],
             [
              0.5555555555555556,
              "#d8576b"
             ],
             [
              0.6666666666666666,
              "#ed7953"
             ],
             [
              0.7777777777777778,
              "#fb9f3a"
             ],
             [
              0.8888888888888888,
              "#fdca26"
             ],
             [
              1,
              "#f0f921"
             ]
            ],
            "type": "histogram2dcontour"
           }
          ],
          "mesh3d": [
           {
            "colorbar": {
             "outlinewidth": 0,
             "ticks": ""
            },
            "type": "mesh3d"
           }
          ],
          "parcoords": [
           {
            "line": {
             "colorbar": {
              "outlinewidth": 0,
              "ticks": ""
             }
            },
            "type": "parcoords"
           }
          ],
          "pie": [
           {
            "automargin": true,
            "type": "pie"
           }
          ],
          "scatter": [
           {
            "fillpattern": {
             "fillmode": "overlay",
             "size": 10,
             "solidity": 0.2
            },
            "type": "scatter"
           }
          ],
          "scatter3d": [
           {
            "line": {
             "colorbar": {
              "outlinewidth": 0,
              "ticks": ""
             }
            },
            "marker": {
             "colorbar": {
              "outlinewidth": 0,
              "ticks": ""
             }
            },
            "type": "scatter3d"
           }
          ],
          "scattercarpet": [
           {
            "marker": {
             "colorbar": {
              "outlinewidth": 0,
              "ticks": ""
             }
            },
            "type": "scattercarpet"
           }
          ],
          "scattergeo": [
           {
            "marker": {
             "colorbar": {
              "outlinewidth": 0,
              "ticks": ""
             }
            },
            "type": "scattergeo"
           }
          ],
          "scattergl": [
           {
            "marker": {
             "colorbar": {
              "outlinewidth": 0,
              "ticks": ""
             }
            },
            "type": "scattergl"
           }
          ],
          "scattermapbox": [
           {
            "marker": {
             "colorbar": {
              "outlinewidth": 0,
              "ticks": ""
             }
            },
            "type": "scattermapbox"
           }
          ],
          "scatterpolar": [
           {
            "marker": {
             "colorbar": {
              "outlinewidth": 0,
              "ticks": ""
             }
            },
            "type": "scatterpolar"
           }
          ],
          "scatterpolargl": [
           {
            "marker": {
             "colorbar": {
              "outlinewidth": 0,
              "ticks": ""
             }
            },
            "type": "scatterpolargl"
           }
          ],
          "scatterternary": [
           {
            "marker": {
             "colorbar": {
              "outlinewidth": 0,
              "ticks": ""
             }
            },
            "type": "scatterternary"
           }
          ],
          "surface": [
           {
            "colorbar": {
             "outlinewidth": 0,
             "ticks": ""
            },
            "colorscale": [
             [
              0,
              "#0d0887"
             ],
             [
              0.1111111111111111,
              "#46039f"
             ],
             [
              0.2222222222222222,
              "#7201a8"
             ],
             [
              0.3333333333333333,
              "#9c179e"
             ],
             [
              0.4444444444444444,
              "#bd3786"
             ],
             [
              0.5555555555555556,
              "#d8576b"
             ],
             [
              0.6666666666666666,
              "#ed7953"
             ],
             [
              0.7777777777777778,
              "#fb9f3a"
             ],
             [
              0.8888888888888888,
              "#fdca26"
             ],
             [
              1,
              "#f0f921"
             ]
            ],
            "type": "surface"
           }
          ],
          "table": [
           {
            "cells": {
             "fill": {
              "color": "#EBF0F8"
             },
             "line": {
              "color": "white"
             }
            },
            "header": {
             "fill": {
              "color": "#C8D4E3"
             },
             "line": {
              "color": "white"
             }
            },
            "type": "table"
           }
          ]
         },
         "layout": {
          "annotationdefaults": {
           "arrowcolor": "#2a3f5f",
           "arrowhead": 0,
           "arrowwidth": 1
          },
          "autotypenumbers": "strict",
          "coloraxis": {
           "colorbar": {
            "outlinewidth": 0,
            "ticks": ""
           }
          },
          "colorscale": {
           "diverging": [
            [
             0,
             "#8e0152"
            ],
            [
             0.1,
             "#c51b7d"
            ],
            [
             0.2,
             "#de77ae"
            ],
            [
             0.3,
             "#f1b6da"
            ],
            [
             0.4,
             "#fde0ef"
            ],
            [
             0.5,
             "#f7f7f7"
            ],
            [
             0.6,
             "#e6f5d0"
            ],
            [
             0.7,
             "#b8e186"
            ],
            [
             0.8,
             "#7fbc41"
            ],
            [
             0.9,
             "#4d9221"
            ],
            [
             1,
             "#276419"
            ]
           ],
           "sequential": [
            [
             0,
             "#0d0887"
            ],
            [
             0.1111111111111111,
             "#46039f"
            ],
            [
             0.2222222222222222,
             "#7201a8"
            ],
            [
             0.3333333333333333,
             "#9c179e"
            ],
            [
             0.4444444444444444,
             "#bd3786"
            ],
            [
             0.5555555555555556,
             "#d8576b"
            ],
            [
             0.6666666666666666,
             "#ed7953"
            ],
            [
             0.7777777777777778,
             "#fb9f3a"
            ],
            [
             0.8888888888888888,
             "#fdca26"
            ],
            [
             1,
             "#f0f921"
            ]
           ],
           "sequentialminus": [
            [
             0,
             "#0d0887"
            ],
            [
             0.1111111111111111,
             "#46039f"
            ],
            [
             0.2222222222222222,
             "#7201a8"
            ],
            [
             0.3333333333333333,
             "#9c179e"
            ],
            [
             0.4444444444444444,
             "#bd3786"
            ],
            [
             0.5555555555555556,
             "#d8576b"
            ],
            [
             0.6666666666666666,
             "#ed7953"
            ],
            [
             0.7777777777777778,
             "#fb9f3a"
            ],
            [
             0.8888888888888888,
             "#fdca26"
            ],
            [
             1,
             "#f0f921"
            ]
           ]
          },
          "colorway": [
           "#636efa",
           "#EF553B",
           "#00cc96",
           "#ab63fa",
           "#FFA15A",
           "#19d3f3",
           "#FF6692",
           "#B6E880",
           "#FF97FF",
           "#FECB52"
          ],
          "font": {
           "color": "#2a3f5f"
          },
          "geo": {
           "bgcolor": "white",
           "lakecolor": "white",
           "landcolor": "#E5ECF6",
           "showlakes": true,
           "showland": true,
           "subunitcolor": "white"
          },
          "hoverlabel": {
           "align": "left"
          },
          "hovermode": "closest",
          "mapbox": {
           "style": "light"
          },
          "paper_bgcolor": "white",
          "plot_bgcolor": "#E5ECF6",
          "polar": {
           "angularaxis": {
            "gridcolor": "white",
            "linecolor": "white",
            "ticks": ""
           },
           "bgcolor": "#E5ECF6",
           "radialaxis": {
            "gridcolor": "white",
            "linecolor": "white",
            "ticks": ""
           }
          },
          "scene": {
           "xaxis": {
            "backgroundcolor": "#E5ECF6",
            "gridcolor": "white",
            "gridwidth": 2,
            "linecolor": "white",
            "showbackground": true,
            "ticks": "",
            "zerolinecolor": "white"
           },
           "yaxis": {
            "backgroundcolor": "#E5ECF6",
            "gridcolor": "white",
            "gridwidth": 2,
            "linecolor": "white",
            "showbackground": true,
            "ticks": "",
            "zerolinecolor": "white"
           },
           "zaxis": {
            "backgroundcolor": "#E5ECF6",
            "gridcolor": "white",
            "gridwidth": 2,
            "linecolor": "white",
            "showbackground": true,
            "ticks": "",
            "zerolinecolor": "white"
           }
          },
          "shapedefaults": {
           "line": {
            "color": "#2a3f5f"
           }
          },
          "ternary": {
           "aaxis": {
            "gridcolor": "white",
            "linecolor": "white",
            "ticks": ""
           },
           "baxis": {
            "gridcolor": "white",
            "linecolor": "white",
            "ticks": ""
           },
           "bgcolor": "#E5ECF6",
           "caxis": {
            "gridcolor": "white",
            "linecolor": "white",
            "ticks": ""
           }
          },
          "title": {
           "x": 0.05
          },
          "xaxis": {
           "automargin": true,
           "gridcolor": "white",
           "linecolor": "white",
           "ticks": "",
           "title": {
            "standoff": 15
           },
           "zerolinecolor": "white",
           "zerolinewidth": 2
          },
          "yaxis": {
           "automargin": true,
           "gridcolor": "white",
           "linecolor": "white",
           "ticks": "",
           "title": {
            "standoff": 15
           },
           "zerolinecolor": "white",
           "zerolinewidth": 2
          }
         }
        },
        "title": {
         "text": "Casos de Infetados Covid-19 pelo Mundo"
        }
       }
      }
     },
     "metadata": {},
     "output_type": "display_data"
    },
    {
     "data": {
      "application/vnd.plotly.v1+json": {
       "config": {
        "plotlyServerURL": "https://plot.ly"
       },
       "data": [
        {
         "geo": "geo",
         "hovertemplate": "Total de óbitos=%{marker.color}<br>Nome do país=%{location}<extra></extra>",
         "legendgroup": "",
         "locationmode": "country names",
         "locations": [
          "USA",
          "India",
          "Brazil",
          "UK",
          "Russia",
          "Turkey",
          "France",
          "Iran",
          "Argentina",
          "Spain",
          "Germany",
          "Colombia",
          "Italy",
          "Indonesia",
          "Mexico",
          "Ukraine",
          "Poland",
          "South Africa",
          "Philippines",
          "Malaysia",
          "Netherlands",
          "Peru",
          "Iraq",
          "Thailand",
          "Czech Republic",
          "Canada",
          "Romania",
          "Chile",
          "Japan",
          "Bangladesh",
          "Belgium",
          "Israel",
          "Pakistan",
          "Serbia",
          "Sweden",
          "Portugal",
          "Vietnam",
          "Austria",
          "Hungary",
          "Cuba",
          "Kazakhstan",
          "Morocco",
          "Switzerland",
          "Jordan",
          "Greece",
          "Nepal",
          "Georgia",
          "UAE",
          "Tunisia",
          "Bulgaria",
          "Lebanon",
          "Belarus",
          "Guatemala",
          "Costa Rica",
          "Slovakia",
          "Azerbaijan",
          "Sri Lanka",
          "Saudi Arabia",
          "Croatia",
          "Bolivia",
          "Ecuador",
          "Myanmar",
          "Ireland",
          "Panama",
          "Paraguay",
          "Lithuania",
          "Denmark",
          "Palestine",
          "Venezuela",
          "Kuwait",
          "South Korea",
          "Uruguay",
          "Dominican Republic",
          "Slovenia",
          "Honduras",
          "Mongolia",
          "Ethiopia",
          "Libya",
          "Moldova",
          "Egypt",
          "Armenia",
          "Oman",
          "Bahrain",
          "Bosnia and Herzegovina",
          "Kenya",
          "Qatar",
          "Latvia",
          "Singapore",
          "Norway",
          "Nigeria",
          "Estonia",
          "Zambia",
          "North Macedonia",
          "Algeria",
          "Botswana",
          "Albania",
          "Australia",
          "Uzbekistan",
          "Kyrgyzstan",
          "Finland",
          "Afghanistan",
          "Montenegro",
          "Mozambique",
          "Zimbabwe",
          "Ghana",
          "Namibia",
          "Uganda",
          "Cyprus",
          "Cambodia",
          "El Salvador",
          "Cameroon",
          "Rwanda",
          "China",
          "Jamaica",
          "Maldives",
          "Luxembourg",
          "Senegal",
          "Angola",
          "Trinidad and Tobago",
          "Malawi",
          "DRC",
          "RÃ©union",
          "Guadeloupe",
          "Fiji",
          "Suriname",
          "Syria",
          "French Guiana",
          "Martinique",
          "Madagascar",
          "Sudan",
          "French Polynesia",
          "Malta",
          "Mauritania",
          "Guyana",
          "Gabon",
          "Papua New Guinea",
          "Guinea",
          "Belize",
          "Tanzania",
          "Togo",
          "Benin",
          "Haiti",
          "Somalia",
          "Seychelles",
          "Bahamas",
          "Barbados",
          "Lesotho",
          "Mayotte",
          "Burundi",
          "Timor-Leste",
          "Mauritius",
          "Congo",
          "CuraÃ§ao",
          "Tajikistan",
          "Nicaragua",
          "Mali",
          "Taiwan",
          "Aruba",
          "Andorra",
          "Iceland",
          "Burkina Faso",
          "Channel Islands",
          "Brunei",
          "Djibouti",
          "Equatorial Guinea",
          "Saint Lucia",
          "South Sudan",
          "Hong Kong",
          "Central African Republic",
          "New Caledonia",
          "Isle of Man",
          "Gambia",
          "Yemen",
          "New Zealand",
          "Eritrea",
          "Niger",
          "Gibraltar",
          "Guinea-Bissau",
          "Sierra Leone",
          "Liberia",
          "Grenada",
          "Bermuda",
          "San Marino",
          "Dominica",
          "Saint Vincent and the Grenadines",
          "Chad",
          "Sint Maarten",
          "Comoros",
          "Cayman Islands",
          "Antigua and Barbuda",
          "Saint Martin",
          "Liechtenstein",
          "Monaco",
          "Faroe Islands",
          "Saint Kitts and Nevis",
          "British Virgin Islands",
          "Caribbean Netherlands",
          "Bhutan",
          "Anguilla",
          "Greenland",
          "Diamond Princess",
          "Wallis and Futuna",
          "Macao",
          "Montserrat",
          "Solomon Islands",
          "Western Sahara",
          "Palau",
          "Vanuatu",
          "Marshall Islands",
          "Samoa",
          "Micronesia"
         ],
         "marker": {
          "color": [
           783565,
           463655,
           611318,
           142898,
           256597,
           73531,
           118154,
           128272,
           116232,
           87673,
           98194,
           127809,
           132775,
           143670,
           291147,
           77147,
           78879,
           89484,
           45709,
           29676,
           18734,
           200635,
           23503,
           20079,
           31541,
           29337,
           53264,
           37975,
           18327,
           27922,
           26321,
           8143,
           28612,
           10839,
           15051,
           18257,
           23183,
           11746,
           32171,
           8282,
           12434,
           14743,
           11356,
           11238,
           16766,
           11478,
           11057,
           2144,
           25311,
           26279,
           8582,
           4861,
           15714,
           7197,
           13598,
           7445,
           13995,
           8816,
           9936,
           19017,
           32989,
           18929,
           5566,
           7343,
           16337,
           6344,
           2772,
           4486,
           5026,
           2462,
           3115,
           6101,
           4170,
           4953,
           10353,
           1888,
           6623,
           5307,
           8495,
           19499,
           7055,
           4113,
           1393,
           11962,
           5319,
           611,
           3765,
           586,
           951,
           2968,
           1690,
           3666,
           7328,
           5984,
           2411,
           2990,
           1888,
           1358,
           2707,
           1230,
           7294,
           2207,
           1936,
           4697,
           1206,
           3565,
           3239,
           577,
           2872,
           3728,
           1770,
           1338,
           4636,
           2327,
           247,
           855,
           1881,
           1727,
           1858,
           2302,
           1099,
           376,
           745,
           679,
           1139,
           2666,
           322,
           700,
           964,
           3099,
           636,
           462,
           807,
           959,
           266,
           436,
           387,
           534,
           725,
           243,
           161,
           708,
           1313,
           122,
           665,
           193,
           661,
           185,
           38,
           122,
           240,
           309,
           175,
           124,
           207,
           585,
           848,
           172,
           130,
           34,
           234,
           100,
           96,
           186,
           168,
           270,
           133,
           213,
           101,
           272,
           64,
           341,
           1923,
           34,
           51,
           232,
           98,
           144,
           121,
           287,
           200,
           106,
           92,
           35,
           71,
           175,
           75,
           149,
           2,
           107,
           56,
           61,
           36,
           8,
           27,
           37,
           21,
           3,
           4,
           0,
           13,
           7,
           0,
           1,
           0,
           1,
           0,
           1,
           0,
           0,
           0
          ],
          "coloraxis": "coloraxis",
          "size": [
           783565,
           463655,
           611318,
           142898,
           256597,
           73531,
           118154,
           128272,
           116232,
           87673,
           98194,
           127809,
           132775,
           143670,
           291147,
           77147,
           78879,
           89484,
           45709,
           29676,
           18734,
           200635,
           23503,
           20079,
           31541,
           29337,
           53264,
           37975,
           18327,
           27922,
           26321,
           8143,
           28612,
           10839,
           15051,
           18257,
           23183,
           11746,
           32171,
           8282,
           12434,
           14743,
           11356,
           11238,
           16766,
           11478,
           11057,
           2144,
           25311,
           26279,
           8582,
           4861,
           15714,
           7197,
           13598,
           7445,
           13995,
           8816,
           9936,
           19017,
           32989,
           18929,
           5566,
           7343,
           16337,
           6344,
           2772,
           4486,
           5026,
           2462,
           3115,
           6101,
           4170,
           4953,
           10353,
           1888,
           6623,
           5307,
           8495,
           19499,
           7055,
           4113,
           1393,
           11962,
           5319,
           611,
           3765,
           586,
           951,
           2968,
           1690,
           3666,
           7328,
           5984,
           2411,
           2990,
           1888,
           1358,
           2707,
           1230,
           7294,
           2207,
           1936,
           4697,
           1206,
           3565,
           3239,
           577,
           2872,
           3728,
           1770,
           1338,
           4636,
           2327,
           247,
           855,
           1881,
           1727,
           1858,
           2302,
           1099,
           376,
           745,
           679,
           1139,
           2666,
           322,
           700,
           964,
           3099,
           636,
           462,
           807,
           959,
           266,
           436,
           387,
           534,
           725,
           243,
           161,
           708,
           1313,
           122,
           665,
           193,
           661,
           185,
           38,
           122,
           240,
           309,
           175,
           124,
           207,
           585,
           848,
           172,
           130,
           34,
           234,
           100,
           96,
           186,
           168,
           270,
           133,
           213,
           101,
           272,
           64,
           341,
           1923,
           34,
           51,
           232,
           98,
           144,
           121,
           287,
           200,
           106,
           92,
           35,
           71,
           175,
           75,
           149,
           2,
           107,
           56,
           61,
           36,
           8,
           27,
           37,
           21,
           3,
           4,
           0,
           13,
           7,
           0,
           1,
           0,
           1,
           0,
           1,
           0,
           0,
           0
          ],
          "sizemode": "area",
          "sizeref": 185.45917159763314,
          "symbol": "circle"
         },
         "mode": "markers",
         "name": "",
         "showlegend": false,
         "type": "scattergeo"
        }
       ],
       "layout": {
        "coloraxis": {
         "colorbar": {
          "title": {
           "text": "Total de óbitos"
          }
         },
         "colorscale": [
          [
           0,
           "rgb(0,0,0)"
          ],
          [
           0.3333333333333333,
           "rgb(230,0,0)"
          ],
          [
           0.6666666666666666,
           "rgb(255,210,0)"
          ],
          [
           1,
           "rgb(255,255,255)"
          ]
         ]
        },
        "geo": {
         "center": {},
         "domain": {
          "x": [
           0,
           1
          ],
          "y": [
           0,
           1
          ]
         },
         "scope": "world"
        },
        "legend": {
         "itemsizing": "constant",
         "tracegroupgap": 0
        },
        "template": {
         "data": {
          "bar": [
           {
            "error_x": {
             "color": "#2a3f5f"
            },
            "error_y": {
             "color": "#2a3f5f"
            },
            "marker": {
             "line": {
              "color": "#E5ECF6",
              "width": 0.5
             },
             "pattern": {
              "fillmode": "overlay",
              "size": 10,
              "solidity": 0.2
             }
            },
            "type": "bar"
           }
          ],
          "barpolar": [
           {
            "marker": {
             "line": {
              "color": "#E5ECF6",
              "width": 0.5
             },
             "pattern": {
              "fillmode": "overlay",
              "size": 10,
              "solidity": 0.2
             }
            },
            "type": "barpolar"
           }
          ],
          "carpet": [
           {
            "aaxis": {
             "endlinecolor": "#2a3f5f",
             "gridcolor": "white",
             "linecolor": "white",
             "minorgridcolor": "white",
             "startlinecolor": "#2a3f5f"
            },
            "baxis": {
             "endlinecolor": "#2a3f5f",
             "gridcolor": "white",
             "linecolor": "white",
             "minorgridcolor": "white",
             "startlinecolor": "#2a3f5f"
            },
            "type": "carpet"
           }
          ],
          "choropleth": [
           {
            "colorbar": {
             "outlinewidth": 0,
             "ticks": ""
            },
            "type": "choropleth"
           }
          ],
          "contour": [
           {
            "colorbar": {
             "outlinewidth": 0,
             "ticks": ""
            },
            "colorscale": [
             [
              0,
              "#0d0887"
             ],
             [
              0.1111111111111111,
              "#46039f"
             ],
             [
              0.2222222222222222,
              "#7201a8"
             ],
             [
              0.3333333333333333,
              "#9c179e"
             ],
             [
              0.4444444444444444,
              "#bd3786"
             ],
             [
              0.5555555555555556,
              "#d8576b"
             ],
             [
              0.6666666666666666,
              "#ed7953"
             ],
             [
              0.7777777777777778,
              "#fb9f3a"
             ],
             [
              0.8888888888888888,
              "#fdca26"
             ],
             [
              1,
              "#f0f921"
             ]
            ],
            "type": "contour"
           }
          ],
          "contourcarpet": [
           {
            "colorbar": {
             "outlinewidth": 0,
             "ticks": ""
            },
            "type": "contourcarpet"
           }
          ],
          "heatmap": [
           {
            "colorbar": {
             "outlinewidth": 0,
             "ticks": ""
            },
            "colorscale": [
             [
              0,
              "#0d0887"
             ],
             [
              0.1111111111111111,
              "#46039f"
             ],
             [
              0.2222222222222222,
              "#7201a8"
             ],
             [
              0.3333333333333333,
              "#9c179e"
             ],
             [
              0.4444444444444444,
              "#bd3786"
             ],
             [
              0.5555555555555556,
              "#d8576b"
             ],
             [
              0.6666666666666666,
              "#ed7953"
             ],
             [
              0.7777777777777778,
              "#fb9f3a"
             ],
             [
              0.8888888888888888,
              "#fdca26"
             ],
             [
              1,
              "#f0f921"
             ]
            ],
            "type": "heatmap"
           }
          ],
          "heatmapgl": [
           {
            "colorbar": {
             "outlinewidth": 0,
             "ticks": ""
            },
            "colorscale": [
             [
              0,
              "#0d0887"
             ],
             [
              0.1111111111111111,
              "#46039f"
             ],
             [
              0.2222222222222222,
              "#7201a8"
             ],
             [
              0.3333333333333333,
              "#9c179e"
             ],
             [
              0.4444444444444444,
              "#bd3786"
             ],
             [
              0.5555555555555556,
              "#d8576b"
             ],
             [
              0.6666666666666666,
              "#ed7953"
             ],
             [
              0.7777777777777778,
              "#fb9f3a"
             ],
             [
              0.8888888888888888,
              "#fdca26"
             ],
             [
              1,
              "#f0f921"
             ]
            ],
            "type": "heatmapgl"
           }
          ],
          "histogram": [
           {
            "marker": {
             "pattern": {
              "fillmode": "overlay",
              "size": 10,
              "solidity": 0.2
             }
            },
            "type": "histogram"
           }
          ],
          "histogram2d": [
           {
            "colorbar": {
             "outlinewidth": 0,
             "ticks": ""
            },
            "colorscale": [
             [
              0,
              "#0d0887"
             ],
             [
              0.1111111111111111,
              "#46039f"
             ],
             [
              0.2222222222222222,
              "#7201a8"
             ],
             [
              0.3333333333333333,
              "#9c179e"
             ],
             [
              0.4444444444444444,
              "#bd3786"
             ],
             [
              0.5555555555555556,
              "#d8576b"
             ],
             [
              0.6666666666666666,
              "#ed7953"
             ],
             [
              0.7777777777777778,
              "#fb9f3a"
             ],
             [
              0.8888888888888888,
              "#fdca26"
             ],
             [
              1,
              "#f0f921"
             ]
            ],
            "type": "histogram2d"
           }
          ],
          "histogram2dcontour": [
           {
            "colorbar": {
             "outlinewidth": 0,
             "ticks": ""
            },
            "colorscale": [
             [
              0,
              "#0d0887"
             ],
             [
              0.1111111111111111,
              "#46039f"
             ],
             [
              0.2222222222222222,
              "#7201a8"
             ],
             [
              0.3333333333333333,
              "#9c179e"
             ],
             [
              0.4444444444444444,
              "#bd3786"
             ],
             [
              0.5555555555555556,
              "#d8576b"
             ],
             [
              0.6666666666666666,
              "#ed7953"
             ],
             [
              0.7777777777777778,
              "#fb9f3a"
             ],
             [
              0.8888888888888888,
              "#fdca26"
             ],
             [
              1,
              "#f0f921"
             ]
            ],
            "type": "histogram2dcontour"
           }
          ],
          "mesh3d": [
           {
            "colorbar": {
             "outlinewidth": 0,
             "ticks": ""
            },
            "type": "mesh3d"
           }
          ],
          "parcoords": [
           {
            "line": {
             "colorbar": {
              "outlinewidth": 0,
              "ticks": ""
             }
            },
            "type": "parcoords"
           }
          ],
          "pie": [
           {
            "automargin": true,
            "type": "pie"
           }
          ],
          "scatter": [
           {
            "fillpattern": {
             "fillmode": "overlay",
             "size": 10,
             "solidity": 0.2
            },
            "type": "scatter"
           }
          ],
          "scatter3d": [
           {
            "line": {
             "colorbar": {
              "outlinewidth": 0,
              "ticks": ""
             }
            },
            "marker": {
             "colorbar": {
              "outlinewidth": 0,
              "ticks": ""
             }
            },
            "type": "scatter3d"
           }
          ],
          "scattercarpet": [
           {
            "marker": {
             "colorbar": {
              "outlinewidth": 0,
              "ticks": ""
             }
            },
            "type": "scattercarpet"
           }
          ],
          "scattergeo": [
           {
            "marker": {
             "colorbar": {
              "outlinewidth": 0,
              "ticks": ""
             }
            },
            "type": "scattergeo"
           }
          ],
          "scattergl": [
           {
            "marker": {
             "colorbar": {
              "outlinewidth": 0,
              "ticks": ""
             }
            },
            "type": "scattergl"
           }
          ],
          "scattermapbox": [
           {
            "marker": {
             "colorbar": {
              "outlinewidth": 0,
              "ticks": ""
             }
            },
            "type": "scattermapbox"
           }
          ],
          "scatterpolar": [
           {
            "marker": {
             "colorbar": {
              "outlinewidth": 0,
              "ticks": ""
             }
            },
            "type": "scatterpolar"
           }
          ],
          "scatterpolargl": [
           {
            "marker": {
             "colorbar": {
              "outlinewidth": 0,
              "ticks": ""
             }
            },
            "type": "scatterpolargl"
           }
          ],
          "scatterternary": [
           {
            "marker": {
             "colorbar": {
              "outlinewidth": 0,
              "ticks": ""
             }
            },
            "type": "scatterternary"
           }
          ],
          "surface": [
           {
            "colorbar": {
             "outlinewidth": 0,
             "ticks": ""
            },
            "colorscale": [
             [
              0,
              "#0d0887"
             ],
             [
              0.1111111111111111,
              "#46039f"
             ],
             [
              0.2222222222222222,
              "#7201a8"
             ],
             [
              0.3333333333333333,
              "#9c179e"
             ],
             [
              0.4444444444444444,
              "#bd3786"
             ],
             [
              0.5555555555555556,
              "#d8576b"
             ],
             [
              0.6666666666666666,
              "#ed7953"
             ],
             [
              0.7777777777777778,
              "#fb9f3a"
             ],
             [
              0.8888888888888888,
              "#fdca26"
             ],
             [
              1,
              "#f0f921"
             ]
            ],
            "type": "surface"
           }
          ],
          "table": [
           {
            "cells": {
             "fill": {
              "color": "#EBF0F8"
             },
             "line": {
              "color": "white"
             }
            },
            "header": {
             "fill": {
              "color": "#C8D4E3"
             },
             "line": {
              "color": "white"
             }
            },
            "type": "table"
           }
          ]
         },
         "layout": {
          "annotationdefaults": {
           "arrowcolor": "#2a3f5f",
           "arrowhead": 0,
           "arrowwidth": 1
          },
          "autotypenumbers": "strict",
          "coloraxis": {
           "colorbar": {
            "outlinewidth": 0,
            "ticks": ""
           }
          },
          "colorscale": {
           "diverging": [
            [
             0,
             "#8e0152"
            ],
            [
             0.1,
             "#c51b7d"
            ],
            [
             0.2,
             "#de77ae"
            ],
            [
             0.3,
             "#f1b6da"
            ],
            [
             0.4,
             "#fde0ef"
            ],
            [
             0.5,
             "#f7f7f7"
            ],
            [
             0.6,
             "#e6f5d0"
            ],
            [
             0.7,
             "#b8e186"
            ],
            [
             0.8,
             "#7fbc41"
            ],
            [
             0.9,
             "#4d9221"
            ],
            [
             1,
             "#276419"
            ]
           ],
           "sequential": [
            [
             0,
             "#0d0887"
            ],
            [
             0.1111111111111111,
             "#46039f"
            ],
            [
             0.2222222222222222,
             "#7201a8"
            ],
            [
             0.3333333333333333,
             "#9c179e"
            ],
            [
             0.4444444444444444,
             "#bd3786"
            ],
            [
             0.5555555555555556,
             "#d8576b"
            ],
            [
             0.6666666666666666,
             "#ed7953"
            ],
            [
             0.7777777777777778,
             "#fb9f3a"
            ],
            [
             0.8888888888888888,
             "#fdca26"
            ],
            [
             1,
             "#f0f921"
            ]
           ],
           "sequentialminus": [
            [
             0,
             "#0d0887"
            ],
            [
             0.1111111111111111,
             "#46039f"
            ],
            [
             0.2222222222222222,
             "#7201a8"
            ],
            [
             0.3333333333333333,
             "#9c179e"
            ],
            [
             0.4444444444444444,
             "#bd3786"
            ],
            [
             0.5555555555555556,
             "#d8576b"
            ],
            [
             0.6666666666666666,
             "#ed7953"
            ],
            [
             0.7777777777777778,
             "#fb9f3a"
            ],
            [
             0.8888888888888888,
             "#fdca26"
            ],
            [
             1,
             "#f0f921"
            ]
           ]
          },
          "colorway": [
           "#636efa",
           "#EF553B",
           "#00cc96",
           "#ab63fa",
           "#FFA15A",
           "#19d3f3",
           "#FF6692",
           "#B6E880",
           "#FF97FF",
           "#FECB52"
          ],
          "font": {
           "color": "#2a3f5f"
          },
          "geo": {
           "bgcolor": "white",
           "lakecolor": "white",
           "landcolor": "#E5ECF6",
           "showlakes": true,
           "showland": true,
           "subunitcolor": "white"
          },
          "hoverlabel": {
           "align": "left"
          },
          "hovermode": "closest",
          "mapbox": {
           "style": "light"
          },
          "paper_bgcolor": "white",
          "plot_bgcolor": "#E5ECF6",
          "polar": {
           "angularaxis": {
            "gridcolor": "white",
            "linecolor": "white",
            "ticks": ""
           },
           "bgcolor": "#E5ECF6",
           "radialaxis": {
            "gridcolor": "white",
            "linecolor": "white",
            "ticks": ""
           }
          },
          "scene": {
           "xaxis": {
            "backgroundcolor": "#E5ECF6",
            "gridcolor": "white",
            "gridwidth": 2,
            "linecolor": "white",
            "showbackground": true,
            "ticks": "",
            "zerolinecolor": "white"
           },
           "yaxis": {
            "backgroundcolor": "#E5ECF6",
            "gridcolor": "white",
            "gridwidth": 2,
            "linecolor": "white",
            "showbackground": true,
            "ticks": "",
            "zerolinecolor": "white"
           },
           "zaxis": {
            "backgroundcolor": "#E5ECF6",
            "gridcolor": "white",
            "gridwidth": 2,
            "linecolor": "white",
            "showbackground": true,
            "ticks": "",
            "zerolinecolor": "white"
           }
          },
          "shapedefaults": {
           "line": {
            "color": "#2a3f5f"
           }
          },
          "ternary": {
           "aaxis": {
            "gridcolor": "white",
            "linecolor": "white",
            "ticks": ""
           },
           "baxis": {
            "gridcolor": "white",
            "linecolor": "white",
            "ticks": ""
           },
           "bgcolor": "#E5ECF6",
           "caxis": {
            "gridcolor": "white",
            "linecolor": "white",
            "ticks": ""
           }
          },
          "title": {
           "x": 0.05
          },
          "xaxis": {
           "automargin": true,
           "gridcolor": "white",
           "linecolor": "white",
           "ticks": "",
           "title": {
            "standoff": 15
           },
           "zerolinecolor": "white",
           "zerolinewidth": 2
          },
          "yaxis": {
           "automargin": true,
           "gridcolor": "white",
           "linecolor": "white",
           "ticks": "",
           "title": {
            "standoff": 15
           },
           "zerolinecolor": "white",
           "zerolinewidth": 2
          }
         }
        },
        "title": {
         "text": "Casos de morte por Covid-19 no mundo"
        }
       }
      }
     },
     "metadata": {},
     "output_type": "display_data"
    },
    {
     "data": {
      "application/vnd.plotly.v1+json": {
       "config": {
        "plotlyServerURL": "https://plot.ly"
       },
       "data": [
        {
         "geo": "geo",
         "hovertemplate": "Total de recuperados=%{marker.color}<br>Nome do país=%{location}<extra></extra>",
         "legendgroup": "",
         "locationmode": "country names",
         "locations": [
          "USA",
          "India",
          "Brazil",
          "UK",
          "Russia",
          "Turkey",
          "France",
          "Iran",
          "Argentina",
          "Spain",
          "Germany",
          "Colombia",
          "Italy",
          "Indonesia",
          "Mexico",
          "Ukraine",
          "Poland",
          "South Africa",
          "Philippines",
          "Malaysia",
          "Netherlands",
          "Peru",
          "Iraq",
          "Thailand",
          "Czech Republic",
          "Canada",
          "Romania",
          "Chile",
          "Japan",
          "Bangladesh",
          "Belgium",
          "Israel",
          "Pakistan",
          "Serbia",
          "Sweden",
          "Portugal",
          "Vietnam",
          "Austria",
          "Hungary",
          "Cuba",
          "Kazakhstan",
          "Morocco",
          "Switzerland",
          "Jordan",
          "Greece",
          "Nepal",
          "Georgia",
          "UAE",
          "Tunisia",
          "Bulgaria",
          "Lebanon",
          "Belarus",
          "Guatemala",
          "Costa Rica",
          "Slovakia",
          "Azerbaijan",
          "Sri Lanka",
          "Saudi Arabia",
          "Croatia",
          "Bolivia",
          "Ecuador",
          "Myanmar",
          "Ireland",
          "Panama",
          "Paraguay",
          "Lithuania",
          "Denmark",
          "Palestine",
          "Venezuela",
          "Kuwait",
          "South Korea",
          "Uruguay",
          "Dominican Republic",
          "Slovenia",
          "Honduras",
          "Mongolia",
          "Ethiopia",
          "Libya",
          "Moldova",
          "Egypt",
          "Armenia",
          "Oman",
          "Bahrain",
          "Bosnia and Herzegovina",
          "Kenya",
          "Qatar",
          "Latvia",
          "Singapore",
          "Norway",
          "Nigeria",
          "Estonia",
          "Zambia",
          "North Macedonia",
          "Algeria",
          "Botswana",
          "Albania",
          "Australia",
          "Uzbekistan",
          "Kyrgyzstan",
          "Finland",
          "Afghanistan",
          "Montenegro",
          "Mozambique",
          "Zimbabwe",
          "Ghana",
          "Namibia",
          "Uganda",
          "Cyprus",
          "Cambodia",
          "El Salvador",
          "Cameroon",
          "Rwanda",
          "China",
          "Jamaica",
          "Maldives",
          "Luxembourg",
          "Senegal",
          "Angola",
          "Trinidad and Tobago",
          "Malawi",
          "DRC",
          "RÃ©union",
          "Guadeloupe",
          "Fiji",
          "Suriname",
          "Syria",
          "French Guiana",
          "Martinique",
          "Madagascar",
          "Sudan",
          "French Polynesia",
          "Malta",
          "Mauritania",
          "Guyana",
          "Gabon",
          "Papua New Guinea",
          "Guinea",
          "Belize",
          "Tanzania",
          "Togo",
          "Benin",
          "Haiti",
          "Somalia",
          "Seychelles",
          "Bahamas",
          "Barbados",
          "Lesotho",
          "Mayotte",
          "Burundi",
          "Timor-Leste",
          "Mauritius",
          "Congo",
          "CuraÃ§ao",
          "Tajikistan",
          "Nicaragua",
          "Mali",
          "Taiwan",
          "Aruba",
          "Andorra",
          "Iceland",
          "Burkina Faso",
          "Channel Islands",
          "Brunei",
          "Djibouti",
          "Equatorial Guinea",
          "Saint Lucia",
          "South Sudan",
          "Hong Kong",
          "Central African Republic",
          "New Caledonia",
          "Isle of Man",
          "Gambia",
          "Yemen",
          "New Zealand",
          "Eritrea",
          "Niger",
          "Gibraltar",
          "Guinea-Bissau",
          "Sierra Leone",
          "Liberia",
          "Grenada",
          "Bermuda",
          "San Marino",
          "Dominica",
          "Saint Vincent and the Grenadines",
          "Chad",
          "Sint Maarten",
          "Comoros",
          "Cayman Islands",
          "Antigua and Barbuda",
          "Saint Martin",
          "Liechtenstein",
          "Monaco",
          "Faroe Islands",
          "Saint Kitts and Nevis",
          "British Virgin Islands",
          "Caribbean Netherlands",
          "Bhutan",
          "Anguilla",
          "Greenland",
          "Diamond Princess",
          "Wallis and Futuna",
          "Macao",
          "Montserrat",
          "Solomon Islands",
          "Western Sahara",
          "Palau",
          "Vanuatu",
          "Marshall Islands",
          "Samoa",
          "Micronesia"
         ],
         "marker": {
          "color": [
           37918301,
           33849785,
           21151342,
           7825200,
           7812557,
           7888959,
           7009026,
           5708253,
           5172193,
           4889801,
           4494300,
           4872420,
           4608056,
           4098884,
           3206890,
           2642459,
           2817206,
           2819688,
           2745777,
           2451216,
           2025305,
           1720665,
           2025057,
           1910509,
           1722749,
           1693037,
           1587856,
           1643486,
           1705474,
           1536515,
           1242741,
           1323574,
           1228473,
           1108124,
           1147455,
           1051300,
           864516,
           842934,
           825775,
           948649,
           915369,
           930012,
           844708,
           851303,
           737765,
           798544,
           722399,
           735638,
           689504,
           516141,
           623694,
           609243,
           591720,
           524560,
           472092,
           522431,
           523929,
           538329,
           495889,
           482744,
           443880,
           484340,
           407512,
           465473,
           444977,
           401124,
           387199,
           419178,
           405840,
           410277,
           362834,
           388424,
           387191,
           332168,
           117912,
           313256,
           344707,
           318816,
           332709,
           287682,
           295722,
           299853,
           275590,
           192218,
           247682,
           238965,
           216645,
           212724,
           88952,
           205732,
           184487,
           206209,
           193400,
           142698,
           190577,
           181649,
           167278,
           186191,
           176909,
           46000,
           129263,
           144828,
           151382,
           128287,
           128331,
           125354,
           97025,
           90755,
           115979,
           100780,
           102716,
           45519,
           92332,
           60594,
           87384,
           80572,
           72063,
           61687,
           53578,
           58604,
           50930,
           54058,
           2250,
           50316,
           29529,
           27675,
           11254,
           104,
           42545,
           32905,
           33500,
           36797,
           36570,
           33504,
           30083,
           31244,
           29650,
           26418,
           183,
           25813,
           24546,
           20675,
           11189,
           22191,
           21512,
           13639,
           13098,
           2964,
           773,
           19682,
           1854,
           12421,
           16952,
           16965,
           4225,
           14836,
           15532,
           15767,
           15443,
           14015,
           14833,
           13250,
           13562,
           13284,
           13110,
           12318,
           12169,
           12092,
           6859,
           58,
           9837,
           9624,
           6623,
           5176,
           6862,
           6218,
           5991,
           6080,
           4393,
           5458,
           5601,
           5544,
           5439,
           4937,
           3978,
           4874,
           4428,
           4161,
           1352,
           3902,
           1399,
           3615,
           3400,
           2365,
           2649,
           2649,
           2498,
           2616,
           1053,
           870,
           699,
           438,
           76,
           40,
           20,
           8,
           8,
           3,
           4,
           3,
           1
          ],
          "coloraxis": "coloraxis",
          "size": [
           37918301,
           33849785,
           21151342,
           7825200,
           7812557,
           7888959,
           7009026,
           5708253,
           5172193,
           4889801,
           4494300,
           4872420,
           4608056,
           4098884,
           3206890,
           2642459,
           2817206,
           2819688,
           2745777,
           2451216,
           2025305,
           1720665,
           2025057,
           1910509,
           1722749,
           1693037,
           1587856,
           1643486,
           1705474,
           1536515,
           1242741,
           1323574,
           1228473,
           1108124,
           1147455,
           1051300,
           864516,
           842934,
           825775,
           948649,
           915369,
           930012,
           844708,
           851303,
           737765,
           798544,
           722399,
           735638,
           689504,
           516141,
           623694,
           609243,
           591720,
           524560,
           472092,
           522431,
           523929,
           538329,
           495889,
           482744,
           443880,
           484340,
           407512,
           465473,
           444977,
           401124,
           387199,
           419178,
           405840,
           410277,
           362834,
           388424,
           387191,
           332168,
           117912,
           313256,
           344707,
           318816,
           332709,
           287682,
           295722,
           299853,
           275590,
           192218,
           247682,
           238965,
           216645,
           212724,
           88952,
           205732,
           184487,
           206209,
           193400,
           142698,
           190577,
           181649,
           167278,
           186191,
           176909,
           46000,
           129263,
           144828,
           151382,
           128287,
           128331,
           125354,
           97025,
           90755,
           115979,
           100780,
           102716,
           45519,
           92332,
           60594,
           87384,
           80572,
           72063,
           61687,
           53578,
           58604,
           50930,
           54058,
           2250,
           50316,
           29529,
           27675,
           11254,
           104,
           42545,
           32905,
           33500,
           36797,
           36570,
           33504,
           30083,
           31244,
           29650,
           26418,
           183,
           25813,
           24546,
           20675,
           11189,
           22191,
           21512,
           13639,
           13098,
           2964,
           773,
           19682,
           1854,
           12421,
           16952,
           16965,
           4225,
           14836,
           15532,
           15767,
           15443,
           14015,
           14833,
           13250,
           13562,
           13284,
           13110,
           12318,
           12169,
           12092,
           6859,
           58,
           9837,
           9624,
           6623,
           5176,
           6862,
           6218,
           5991,
           6080,
           4393,
           5458,
           5601,
           5544,
           5439,
           4937,
           3978,
           4874,
           4428,
           4161,
           1352,
           3902,
           1399,
           3615,
           3400,
           2365,
           2649,
           2649,
           2498,
           2616,
           1053,
           870,
           699,
           438,
           76,
           40,
           20,
           8,
           8,
           3,
           4,
           3,
           1
          ],
          "sizemode": "area",
          "sizeref": 8974.745798816568,
          "symbol": "circle"
         },
         "mode": "markers",
         "name": "",
         "showlegend": false,
         "type": "scattergeo"
        }
       ],
       "layout": {
        "coloraxis": {
         "colorbar": {
          "title": {
           "text": "Total de recuperados"
          }
         },
         "colorscale": [
          [
           0,
           "rgb(51, 19, 23)"
          ],
          [
           0.09090909090909091,
           "rgb(79, 28, 33)"
          ],
          [
           0.18181818181818182,
           "rgb(108, 36, 36)"
          ],
          [
           0.2727272727272727,
           "rgb(135, 47, 32)"
          ],
          [
           0.36363636363636365,
           "rgb(157, 66, 25)"
          ],
          [
           0.45454545454545453,
           "rgb(174, 88, 20)"
          ],
          [
           0.5454545454545454,
           "rgb(188, 111, 19)"
          ],
          [
           0.6363636363636364,
           "rgb(199, 137, 22)"
          ],
          [
           0.7272727272727273,
           "rgb(209, 164, 32)"
          ],
          [
           0.8181818181818182,
           "rgb(217, 192, 44)"
          ],
          [
           0.9090909090909091,
           "rgb(222, 222, 59)"
          ],
          [
           1,
           "rgb(224, 253, 74)"
          ]
         ]
        },
        "geo": {
         "center": {},
         "domain": {
          "x": [
           0,
           1
          ],
          "y": [
           0,
           1
          ]
         },
         "scope": "world"
        },
        "legend": {
         "itemsizing": "constant",
         "tracegroupgap": 0
        },
        "template": {
         "data": {
          "bar": [
           {
            "error_x": {
             "color": "#2a3f5f"
            },
            "error_y": {
             "color": "#2a3f5f"
            },
            "marker": {
             "line": {
              "color": "#E5ECF6",
              "width": 0.5
             },
             "pattern": {
              "fillmode": "overlay",
              "size": 10,
              "solidity": 0.2
             }
            },
            "type": "bar"
           }
          ],
          "barpolar": [
           {
            "marker": {
             "line": {
              "color": "#E5ECF6",
              "width": 0.5
             },
             "pattern": {
              "fillmode": "overlay",
              "size": 10,
              "solidity": 0.2
             }
            },
            "type": "barpolar"
           }
          ],
          "carpet": [
           {
            "aaxis": {
             "endlinecolor": "#2a3f5f",
             "gridcolor": "white",
             "linecolor": "white",
             "minorgridcolor": "white",
             "startlinecolor": "#2a3f5f"
            },
            "baxis": {
             "endlinecolor": "#2a3f5f",
             "gridcolor": "white",
             "linecolor": "white",
             "minorgridcolor": "white",
             "startlinecolor": "#2a3f5f"
            },
            "type": "carpet"
           }
          ],
          "choropleth": [
           {
            "colorbar": {
             "outlinewidth": 0,
             "ticks": ""
            },
            "type": "choropleth"
           }
          ],
          "contour": [
           {
            "colorbar": {
             "outlinewidth": 0,
             "ticks": ""
            },
            "colorscale": [
             [
              0,
              "#0d0887"
             ],
             [
              0.1111111111111111,
              "#46039f"
             ],
             [
              0.2222222222222222,
              "#7201a8"
             ],
             [
              0.3333333333333333,
              "#9c179e"
             ],
             [
              0.4444444444444444,
              "#bd3786"
             ],
             [
              0.5555555555555556,
              "#d8576b"
             ],
             [
              0.6666666666666666,
              "#ed7953"
             ],
             [
              0.7777777777777778,
              "#fb9f3a"
             ],
             [
              0.8888888888888888,
              "#fdca26"
             ],
             [
              1,
              "#f0f921"
             ]
            ],
            "type": "contour"
           }
          ],
          "contourcarpet": [
           {
            "colorbar": {
             "outlinewidth": 0,
             "ticks": ""
            },
            "type": "contourcarpet"
           }
          ],
          "heatmap": [
           {
            "colorbar": {
             "outlinewidth": 0,
             "ticks": ""
            },
            "colorscale": [
             [
              0,
              "#0d0887"
             ],
             [
              0.1111111111111111,
              "#46039f"
             ],
             [
              0.2222222222222222,
              "#7201a8"
             ],
             [
              0.3333333333333333,
              "#9c179e"
             ],
             [
              0.4444444444444444,
              "#bd3786"
             ],
             [
              0.5555555555555556,
              "#d8576b"
             ],
             [
              0.6666666666666666,
              "#ed7953"
             ],
             [
              0.7777777777777778,
              "#fb9f3a"
             ],
             [
              0.8888888888888888,
              "#fdca26"
             ],
             [
              1,
              "#f0f921"
             ]
            ],
            "type": "heatmap"
           }
          ],
          "heatmapgl": [
           {
            "colorbar": {
             "outlinewidth": 0,
             "ticks": ""
            },
            "colorscale": [
             [
              0,
              "#0d0887"
             ],
             [
              0.1111111111111111,
              "#46039f"
             ],
             [
              0.2222222222222222,
              "#7201a8"
             ],
             [
              0.3333333333333333,
              "#9c179e"
             ],
             [
              0.4444444444444444,
              "#bd3786"
             ],
             [
              0.5555555555555556,
              "#d8576b"
             ],
             [
              0.6666666666666666,
              "#ed7953"
             ],
             [
              0.7777777777777778,
              "#fb9f3a"
             ],
             [
              0.8888888888888888,
              "#fdca26"
             ],
             [
              1,
              "#f0f921"
             ]
            ],
            "type": "heatmapgl"
           }
          ],
          "histogram": [
           {
            "marker": {
             "pattern": {
              "fillmode": "overlay",
              "size": 10,
              "solidity": 0.2
             }
            },
            "type": "histogram"
           }
          ],
          "histogram2d": [
           {
            "colorbar": {
             "outlinewidth": 0,
             "ticks": ""
            },
            "colorscale": [
             [
              0,
              "#0d0887"
             ],
             [
              0.1111111111111111,
              "#46039f"
             ],
             [
              0.2222222222222222,
              "#7201a8"
             ],
             [
              0.3333333333333333,
              "#9c179e"
             ],
             [
              0.4444444444444444,
              "#bd3786"
             ],
             [
              0.5555555555555556,
              "#d8576b"
             ],
             [
              0.6666666666666666,
              "#ed7953"
             ],
             [
              0.7777777777777778,
              "#fb9f3a"
             ],
             [
              0.8888888888888888,
              "#fdca26"
             ],
             [
              1,
              "#f0f921"
             ]
            ],
            "type": "histogram2d"
           }
          ],
          "histogram2dcontour": [
           {
            "colorbar": {
             "outlinewidth": 0,
             "ticks": ""
            },
            "colorscale": [
             [
              0,
              "#0d0887"
             ],
             [
              0.1111111111111111,
              "#46039f"
             ],
             [
              0.2222222222222222,
              "#7201a8"
             ],
             [
              0.3333333333333333,
              "#9c179e"
             ],
             [
              0.4444444444444444,
              "#bd3786"
             ],
             [
              0.5555555555555556,
              "#d8576b"
             ],
             [
              0.6666666666666666,
              "#ed7953"
             ],
             [
              0.7777777777777778,
              "#fb9f3a"
             ],
             [
              0.8888888888888888,
              "#fdca26"
             ],
             [
              1,
              "#f0f921"
             ]
            ],
            "type": "histogram2dcontour"
           }
          ],
          "mesh3d": [
           {
            "colorbar": {
             "outlinewidth": 0,
             "ticks": ""
            },
            "type": "mesh3d"
           }
          ],
          "parcoords": [
           {
            "line": {
             "colorbar": {
              "outlinewidth": 0,
              "ticks": ""
             }
            },
            "type": "parcoords"
           }
          ],
          "pie": [
           {
            "automargin": true,
            "type": "pie"
           }
          ],
          "scatter": [
           {
            "fillpattern": {
             "fillmode": "overlay",
             "size": 10,
             "solidity": 0.2
            },
            "type": "scatter"
           }
          ],
          "scatter3d": [
           {
            "line": {
             "colorbar": {
              "outlinewidth": 0,
              "ticks": ""
             }
            },
            "marker": {
             "colorbar": {
              "outlinewidth": 0,
              "ticks": ""
             }
            },
            "type": "scatter3d"
           }
          ],
          "scattercarpet": [
           {
            "marker": {
             "colorbar": {
              "outlinewidth": 0,
              "ticks": ""
             }
            },
            "type": "scattercarpet"
           }
          ],
          "scattergeo": [
           {
            "marker": {
             "colorbar": {
              "outlinewidth": 0,
              "ticks": ""
             }
            },
            "type": "scattergeo"
           }
          ],
          "scattergl": [
           {
            "marker": {
             "colorbar": {
              "outlinewidth": 0,
              "ticks": ""
             }
            },
            "type": "scattergl"
           }
          ],
          "scattermapbox": [
           {
            "marker": {
             "colorbar": {
              "outlinewidth": 0,
              "ticks": ""
             }
            },
            "type": "scattermapbox"
           }
          ],
          "scatterpolar": [
           {
            "marker": {
             "colorbar": {
              "outlinewidth": 0,
              "ticks": ""
             }
            },
            "type": "scatterpolar"
           }
          ],
          "scatterpolargl": [
           {
            "marker": {
             "colorbar": {
              "outlinewidth": 0,
              "ticks": ""
             }
            },
            "type": "scatterpolargl"
           }
          ],
          "scatterternary": [
           {
            "marker": {
             "colorbar": {
              "outlinewidth": 0,
              "ticks": ""
             }
            },
            "type": "scatterternary"
           }
          ],
          "surface": [
           {
            "colorbar": {
             "outlinewidth": 0,
             "ticks": ""
            },
            "colorscale": [
             [
              0,
              "#0d0887"
             ],
             [
              0.1111111111111111,
              "#46039f"
             ],
             [
              0.2222222222222222,
              "#7201a8"
             ],
             [
              0.3333333333333333,
              "#9c179e"
             ],
             [
              0.4444444444444444,
              "#bd3786"
             ],
             [
              0.5555555555555556,
              "#d8576b"
             ],
             [
              0.6666666666666666,
              "#ed7953"
             ],
             [
              0.7777777777777778,
              "#fb9f3a"
             ],
             [
              0.8888888888888888,
              "#fdca26"
             ],
             [
              1,
              "#f0f921"
             ]
            ],
            "type": "surface"
           }
          ],
          "table": [
           {
            "cells": {
             "fill": {
              "color": "#EBF0F8"
             },
             "line": {
              "color": "white"
             }
            },
            "header": {
             "fill": {
              "color": "#C8D4E3"
             },
             "line": {
              "color": "white"
             }
            },
            "type": "table"
           }
          ]
         },
         "layout": {
          "annotationdefaults": {
           "arrowcolor": "#2a3f5f",
           "arrowhead": 0,
           "arrowwidth": 1
          },
          "autotypenumbers": "strict",
          "coloraxis": {
           "colorbar": {
            "outlinewidth": 0,
            "ticks": ""
           }
          },
          "colorscale": {
           "diverging": [
            [
             0,
             "#8e0152"
            ],
            [
             0.1,
             "#c51b7d"
            ],
            [
             0.2,
             "#de77ae"
            ],
            [
             0.3,
             "#f1b6da"
            ],
            [
             0.4,
             "#fde0ef"
            ],
            [
             0.5,
             "#f7f7f7"
            ],
            [
             0.6,
             "#e6f5d0"
            ],
            [
             0.7,
             "#b8e186"
            ],
            [
             0.8,
             "#7fbc41"
            ],
            [
             0.9,
             "#4d9221"
            ],
            [
             1,
             "#276419"
            ]
           ],
           "sequential": [
            [
             0,
             "#0d0887"
            ],
            [
             0.1111111111111111,
             "#46039f"
            ],
            [
             0.2222222222222222,
             "#7201a8"
            ],
            [
             0.3333333333333333,
             "#9c179e"
            ],
            [
             0.4444444444444444,
             "#bd3786"
            ],
            [
             0.5555555555555556,
             "#d8576b"
            ],
            [
             0.6666666666666666,
             "#ed7953"
            ],
            [
             0.7777777777777778,
             "#fb9f3a"
            ],
            [
             0.8888888888888888,
             "#fdca26"
            ],
            [
             1,
             "#f0f921"
            ]
           ],
           "sequentialminus": [
            [
             0,
             "#0d0887"
            ],
            [
             0.1111111111111111,
             "#46039f"
            ],
            [
             0.2222222222222222,
             "#7201a8"
            ],
            [
             0.3333333333333333,
             "#9c179e"
            ],
            [
             0.4444444444444444,
             "#bd3786"
            ],
            [
             0.5555555555555556,
             "#d8576b"
            ],
            [
             0.6666666666666666,
             "#ed7953"
            ],
            [
             0.7777777777777778,
             "#fb9f3a"
            ],
            [
             0.8888888888888888,
             "#fdca26"
            ],
            [
             1,
             "#f0f921"
            ]
           ]
          },
          "colorway": [
           "#636efa",
           "#EF553B",
           "#00cc96",
           "#ab63fa",
           "#FFA15A",
           "#19d3f3",
           "#FF6692",
           "#B6E880",
           "#FF97FF",
           "#FECB52"
          ],
          "font": {
           "color": "#2a3f5f"
          },
          "geo": {
           "bgcolor": "white",
           "lakecolor": "white",
           "landcolor": "#E5ECF6",
           "showlakes": true,
           "showland": true,
           "subunitcolor": "white"
          },
          "hoverlabel": {
           "align": "left"
          },
          "hovermode": "closest",
          "mapbox": {
           "style": "light"
          },
          "paper_bgcolor": "white",
          "plot_bgcolor": "#E5ECF6",
          "polar": {
           "angularaxis": {
            "gridcolor": "white",
            "linecolor": "white",
            "ticks": ""
           },
           "bgcolor": "#E5ECF6",
           "radialaxis": {
            "gridcolor": "white",
            "linecolor": "white",
            "ticks": ""
           }
          },
          "scene": {
           "xaxis": {
            "backgroundcolor": "#E5ECF6",
            "gridcolor": "white",
            "gridwidth": 2,
            "linecolor": "white",
            "showbackground": true,
            "ticks": "",
            "zerolinecolor": "white"
           },
           "yaxis": {
            "backgroundcolor": "#E5ECF6",
            "gridcolor": "white",
            "gridwidth": 2,
            "linecolor": "white",
            "showbackground": true,
            "ticks": "",
            "zerolinecolor": "white"
           },
           "zaxis": {
            "backgroundcolor": "#E5ECF6",
            "gridcolor": "white",
            "gridwidth": 2,
            "linecolor": "white",
            "showbackground": true,
            "ticks": "",
            "zerolinecolor": "white"
           }
          },
          "shapedefaults": {
           "line": {
            "color": "#2a3f5f"
           }
          },
          "ternary": {
           "aaxis": {
            "gridcolor": "white",
            "linecolor": "white",
            "ticks": ""
           },
           "baxis": {
            "gridcolor": "white",
            "linecolor": "white",
            "ticks": ""
           },
           "bgcolor": "#E5ECF6",
           "caxis": {
            "gridcolor": "white",
            "linecolor": "white",
            "ticks": ""
           }
          },
          "title": {
           "x": 0.05
          },
          "xaxis": {
           "automargin": true,
           "gridcolor": "white",
           "linecolor": "white",
           "ticks": "",
           "title": {
            "standoff": 15
           },
           "zerolinecolor": "white",
           "zerolinewidth": 2
          },
          "yaxis": {
           "automargin": true,
           "gridcolor": "white",
           "linecolor": "white",
           "ticks": "",
           "title": {
            "standoff": 15
           },
           "zerolinecolor": "white",
           "zerolinewidth": 2
          }
         }
        },
        "title": {
         "text": "Covid-19 Cases of Recovered around the World"
        }
       }
      }
     },
     "metadata": {},
     "output_type": "display_data"
    }
   ],
   "source": [
    "fig = px.scatter_geo(tabela, locations='Nome do país',locationmode=\"country names\",scope=\"world\",\n",
    "color=\"Total de infectados\",size=\"Total de infectados\",size_max=65,title=\"Casos de Infetados Covid-19 pelo Mundo\",color_continuous_scale=\"turbo\")\n",
    "fig.show()\n",
    "\n",
    "fig = px.scatter_geo(tabela, locations='Nome do país',locationmode=\"country names\",scope=\"world\",\n",
    "color=\"Total de óbitos\",size=\"Total de óbitos\",size_max=65,title=\"Casos de morte por Covid-19 no mundo\",color_continuous_scale=\"hot\")\n",
    "fig.show()\n",
    "\n",
    "fig = px.scatter_geo(tabela, locations='Nome do país',locationmode=\"country names\",scope=\"world\",\n",
    "color=\"Total de recuperados\",size=\"Total de recuperados\",size_max=65,title=\"Covid-19 Cases of Recovered around the World\",color_continuous_scale=\"solar\")\n",
    "fig.show()"
   ]
  }
 ],
 "metadata": {
  "kernelspec": {
   "display_name": "Python 3",
   "language": "python",
   "name": "python3"
  },
  "language_info": {
   "codemirror_mode": {
    "name": "ipython",
    "version": 3
   },
   "file_extension": ".py",
   "mimetype": "text/x-python",
   "name": "python",
   "nbconvert_exporter": "python",
   "pygments_lexer": "ipython3",
   "version": "3.11.0"
  },
  "orig_nbformat": 4
 },
 "nbformat": 4,
 "nbformat_minor": 2
}
